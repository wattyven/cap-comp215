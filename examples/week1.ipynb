{
 "nbformat": 4,
 "nbformat_minor": 0,
 "metadata": {
  "colab": {
   "name": "week1.ipynb",
   "provenance": [],
   "authorship_tag": "ABX9TyMWqRigGb5pLSyGV1eJMUv2",
   "include_colab_link": true
  },
  "kernelspec": {
   "name": "python3",
   "display_name": "Python 3"
  },
  "language_info": {
   "name": "python"
  }
 },
 "cells": [
  {
   "cell_type": "markdown",
   "metadata": {
    "id": "view-in-github",
    "colab_type": "text"
   },
   "source": [
    "<a href=\"https://colab.research.google.com/github/powderflask/cap-comp215/blob/main/examples/week1.ipynb\" target=\"_parent\"><img src=\"https://colab.research.google.com/assets/colab-badge.svg\" alt=\"Open In Colab\"/></a>"
   ]
  },
  {
   "cell_type": "markdown",
   "source": [
    "# Welcome to Comp 215!\n",
    "This is our week 1 examples notebook and will be available on Github from the powderflask/cap-comp215 repository.\n",
    "\n",
    "As usual, the first code block just imports the modules we will use."
   ],
   "metadata": {
    "id": "WBMC0GrjNRTM"
   }
  },
  {
   "cell_type": "code",
   "execution_count": 2,
   "metadata": {
    "id": "C1a6aDXAM0WM"
   },
   "outputs": [],
   "source": [
    "import matplotlib.pyplot as plt\n",
    "from pprint import pprint"
   ]
  },
  {
   "cell_type": "markdown",
   "source": [
    "## Using Code to gain insights\n",
    "\n",
    "Can a piece of code help us deepen our understanding of real-world phenomena?  Or explain complex concepts?\n",
    "\n",
    "### Example: Exponential Growth\n",
    "\n",
    "Although exponential growth occurs in many natural systems, many people find it unintuitive and have a hard time making predictions about it.\n",
    "\n",
    "#### Pop Quiz:\n",
    "duckweed plants double every day in open water. If a pond starts with 2 duckweed plants on day 1 and is completely covered after one month (30 days), on what day is the pond half covered?"
   ],
   "metadata": {
    "id": "k70NJ-JTNwYN"
   }
  },
  {
   "cell_type": "code",
   "source": [],
   "metadata": {
    "colab": {
     "base_uri": "https://localhost:8080/"
    },
    "id": "HZSz8IftqJ72",
    "outputId": "7cab3814-86b9-4ca0-b664-495dc4eb7e76"
   },
   "execution_count": 2,
   "outputs": []
  },
  {
   "cell_type": "markdown",
   "source": [
    "## Plot the Growth\n",
    "we'll use matplotlib not because it is awesome, but because it is the standard tool most scientists use"
   ],
   "metadata": {
    "id": "b6w3F2yErxuB"
   }
  },
  {
   "cell_type": "code",
   "source": [
    "pct_cover = range(0, 30)\n",
    "days = range(0, len(pct_cover))\n",
    "\n",
    "fig, ax = plt.subplots()\n",
    "ax.set_title(\"Duck Weed Growth over 30 days\")\n",
    "ax.plot(days, pct_cover, label=\"% pond coveraged\")\n",
    "plt.show()"
   ],
   "metadata": {
    "colab": {
     "base_uri": "https://localhost:8080/",
     "height": 318
    },
    "id": "i_5lOF51r63i",
    "outputId": "47fe3e2c-64de-4c17-ca09-825dc3ced101"
   },
   "execution_count": 9,
   "outputs": [
    {
     "data": {
      "text/plain": "<Figure size 432x288 with 1 Axes>",
      "image/png": "[encoded data removed]"
     },
     "metadata": {
      "needs_background": "light"
     },
     "output_type": "display_data"
    }
   ]
  },
  {
   "cell_type": "code",
   "execution_count": null,
   "outputs": [],
   "source": [],
   "metadata": {
    "collapsed": false,
    "pycharm": {
     "name": "#%%\n"
    }
   }
  }
 ]
}