{
 "cells": [
  {
   "cell_type": "markdown",
   "metadata": {
    "collapsed": true,
    "pycharm": {
     "name": "#%% md\n"
    }
   },
   "source": [
    "# numpy:  1D array (vector) operations\n",
    "[numpy array](https://numpy.org/doc/stable/reference/arrays.html) objects come with very powerful built-in vector operations.\n",
    "These allow you to perform an operation on every element of the vector without any explicit iteration. E.g.,\n",
    " - simple map operations (to map one vector onto another the same size) using python's math operators\n",
    " - vector x scalar and vector x vector operations using math operators\n",
    " - create a boolean vector using comparison operators;\n",
    " - vector indexing and powerful vector filtering operations using python's indexing operator, $[ ]$\n",
    "\n",
    "This makes for very concise and efficient code, but the code is a bit deceptive because unless you are cognizant that a variable refers to a numpy array, there is often no clue that a vector operation is being performed.  Let's look at some examples...\n"
   ]
  },
  {
   "cell_type": "code",
   "execution_count": 11,
   "outputs": [],
   "source": [
    "import numpy as np"
   ],
   "metadata": {
    "collapsed": false,
    "pycharm": {
     "name": "#%%\n"
    }
   }
  },
  {
   "cell_type": "markdown",
   "source": [
    "## Create a 1D array\n",
    " * simple: define it using a list or tuple or any other sequence type (but not a generator!);\n",
    " * general: define it by supplying its length;\n",
    " * random: filled with random values;\n",
    "Notice that in some way we must always pre-define the vector's length."
   ],
   "metadata": {
    "collapsed": false,
    "pycharm": {
     "name": "#%% md\n"
    }
   }
  },
  {
   "cell_type": "code",
   "execution_count": 12,
   "outputs": [
    {
     "data": {
      "text/plain": "(array([9, 8, 7, 6, 5, 4, 3, 2, 1]),\n array([1, 1, 1, 1, 1, 1, 1, 1, 1], dtype=uint8),\n array([0, 0, 1, 0, 0, 1, 1, 0, 0], dtype=uint8))"
     },
     "execution_count": 12,
     "metadata": {},
     "output_type": "execute_result"
    }
   ],
   "source": [
    "vector = np.array([9, 8, 7, 6, 5, 4, 3, 2, 1])\n",
    "\n",
    "ones = np.ones(9, dtype='uint8')\n",
    "rand = np.random.randint(2, size=9, dtype='uint8')\n",
    "vector, ones, rand"
   ],
   "metadata": {
    "collapsed": false,
    "pycharm": {
     "name": "#%%\n"
    }
   }
  },
  {
   "cell_type": "markdown",
   "source": [
    "## Vector x Scalar operations\n",
    "numpy array class defines all math and comparison operators.\n",
    "Confusion arises here b/c the code itself does not indicate there is a vector operation being done - you have to know!"
   ],
   "metadata": {
    "collapsed": false,
    "pycharm": {
     "name": "#%% md\n"
    }
   }
  },
  {
   "cell_type": "code",
   "execution_count": 13,
   "outputs": [
    {
     "data": {
      "text/plain": "(array([18, 16, 14, 12, 10,  8,  6,  4,  2]),\n array([2, 2, 2, 2, 2, 2, 2, 2, 2], dtype=uint8),\n array([False, False,  True, False, False,  True,  True, False, False]))"
     },
     "execution_count": 13,
     "metadata": {},
     "output_type": "execute_result"
    }
   ],
   "source": [
    "double = vector * 2\n",
    "twos = ones + 1\n",
    "alive = rand == 1\n",
    "double, twos, alive"
   ],
   "metadata": {
    "collapsed": false,
    "pycharm": {
     "name": "#%%\n"
    }
   }
  },
  {
   "cell_type": "markdown",
   "source": [
    "## Vector x Vector operations\n",
    "All operators also work when both arguments are arrays, in this case operations are done pair-wise on matching elements.\n",
    "The 2 arrays must have the same dimensions!"
   ],
   "metadata": {
    "collapsed": false,
    "pycharm": {
     "name": "#%% md\n"
    }
   }
  },
  {
   "cell_type": "code",
   "execution_count": 14,
   "outputs": [
    {
     "data": {
      "text/plain": "(array([81, 64, 49, 36, 25, 16,  9,  4,  1]),\n array([3, 3, 3, 3, 3, 3, 3, 3, 3], dtype=uint8),\n array([0, 0, 7, 0, 0, 4, 3, 0, 0]))"
     },
     "execution_count": 14,
     "metadata": {},
     "output_type": "execute_result"
    }
   ],
   "source": [
    "squares = vector * vector\n",
    "threes = ones + twos\n",
    "filtered = rand * vector\n",
    "squares, threes, filtered"
   ],
   "metadata": {
    "collapsed": false,
    "pycharm": {
     "name": "#%%\n"
    }
   }
  },
  {
   "cell_type": "markdown",
   "source": [
    "## Logical operators\n",
    "numpy does not re-define python's built-in logical operators `and`, `or`, `not`\n",
    "But it does define the \"bitwise\" operators, bitwise and `&`, bitwise or `|` and bitwise not '~'.\n",
    "With care, these can be used to implement whole-matrix logical operations...\n",
    "**Tips**: both operands should by `bool` or `0`/`1` valued arrays (or you better really understand bitwise operators!).\n",
    "     Watch your precedence -- bitwise operators are very low precedence!"
   ],
   "metadata": {
    "collapsed": false,
    "pycharm": {
     "name": "#%% md\n"
    }
   }
  },
  {
   "cell_type": "code",
   "execution_count": 15,
   "outputs": [
    {
     "name": "stdout",
     "output_type": "stream",
     "text": [
      "Error: The truth value of an array with more than one element is ambiguous. Use a.any() or a.all()\n"
     ]
    },
    {
     "data": {
      "text/plain": "(array([False, False,  True, False, False,  True,  True, False, False]),\n array([False, False,  True, False, False, False,  True, False, False]),\n array([False, False,  True, False, False, False, False, False, False]),\n array([ True,  True, False,  True,  True, False, False,  True,  True]))"
     },
     "execution_count": 15,
     "metadata": {},
     "output_type": "execute_result"
    }
   ],
   "source": [
    "try:\n",
    "    alive and vector\n",
    "except ValueError as e:\n",
    "    print('Error:', e)\n",
    "\n",
    "fitlered2 = alive & vector!=0\n",
    "big_and_alive = (vector > 5) & alive\n",
    "not_alive = ~alive\n",
    "alive, fitlered2, big_and_alive, not_alive"
   ],
   "metadata": {
    "collapsed": false,
    "pycharm": {
     "name": "#%%\n"
    }
   }
  },
  {
   "cell_type": "markdown",
   "source": [
    "## Vector indexing\n",
    "Perhaps one of the most powerful numpy array operations is the ability to use the values of one array as indexes to lookup values in another array.\n",
    "For this operation the arrays can be different sizes and shapes, but you need to be clear about which array is the lookup table and which is the indexes!"
   ],
   "metadata": {
    "collapsed": false,
    "pycharm": {
     "name": "#%% md\n"
    }
   }
  },
  {
   "cell_type": "code",
   "execution_count": 16,
   "outputs": [
    {
     "data": {
      "text/plain": "(array([ 3, 11,  1,  8,  8,  1,  5,  7,  4]),\n array(['Mar', 'Nov', 'Jan', 'Aug', 'Aug', 'Jan', 'May', 'Jul', 'Apr'],\n       dtype='<U3'))"
     },
     "execution_count": 16,
     "metadata": {},
     "output_type": "execute_result"
    }
   ],
   "source": [
    "month_names = np.array(['Jan', 'Feb', 'Mar', 'Apr', 'May', 'Jun', 'Jul', 'Aug', 'Sep', 'Oct', 'Nov', 'Dec'])\n",
    "month_nums = np.random.randint(low=1, high=12, size=9)\n",
    "month_nums, month_names[month_nums-1]"
   ],
   "metadata": {
    "collapsed": false,
    "pycharm": {
     "name": "#%%\n"
    }
   }
  },
  {
   "cell_type": "markdown",
   "source": [
    "### Filter with Boolean indexes\n",
    "By using an array of booleans, you can filter out a set of elements from another array with the same shape."
   ],
   "metadata": {
    "collapsed": false,
    "pycharm": {
     "name": "#%% md\n"
    }
   }
  },
  {
   "cell_type": "code",
   "execution_count": 17,
   "outputs": [
    {
     "data": {
      "text/plain": "(array([81, 64, 49, 36, 25, 16,  9,  4,  1]),\n array([64, 36, 16,  4]),\n array([49, 16,  9]))"
     },
     "execution_count": 17,
     "metadata": {},
     "output_type": "execute_result"
    }
   ],
   "source": [
    "even_squares = squares[squares%2==0]\n",
    "squares, even_squares, squares[alive]"
   ],
   "metadata": {
    "collapsed": false,
    "pycharm": {
     "name": "#%%\n"
    }
   }
  },
  {
   "cell_type": "markdown",
   "source": [
    "Notice you get back a 1D array of filtered elements.  These can act as references back to elements in the original array.\n",
    "This allows us to use a scalar assignment to update elements of the original vector that meet some criteria ..."
   ],
   "metadata": {
    "collapsed": false,
    "pycharm": {
     "name": "#%% md\n"
    }
   }
  },
  {
   "cell_type": "code",
   "execution_count": 18,
   "outputs": [
    {
     "data": {
      "text/plain": "(array([False, False,  True, False, False,  True,  True, False, False]),\n array([0, 0, 7, 0, 0, 4, 3, 0, 0]))"
     },
     "execution_count": 18,
     "metadata": {},
     "output_type": "execute_result"
    }
   ],
   "source": [
    "vec_copy = vector.copy()\n",
    "vec_copy[~alive] = 0\n",
    "alive, vec_copy"
   ],
   "metadata": {
    "collapsed": false,
    "pycharm": {
     "name": "#%%\n"
    }
   }
  },
  {
   "cell_type": "code",
   "execution_count": 18,
   "outputs": [],
   "source": [],
   "metadata": {
    "collapsed": false,
    "pycharm": {
     "name": "#%%\n"
    }
   }
  }
 ],
 "metadata": {
  "kernelspec": {
   "display_name": "Python 3",
   "language": "python",
   "name": "python3"
  },
  "language_info": {
   "codemirror_mode": {
    "name": "ipython",
    "version": 2
   },
   "file_extension": ".py",
   "mimetype": "text/x-python",
   "name": "python",
   "nbconvert_exporter": "python",
   "pygments_lexer": "ipython2",
   "version": "2.7.6"
  }
 },
 "nbformat": 4,
 "nbformat_minor": 0
}