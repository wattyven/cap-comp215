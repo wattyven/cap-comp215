{
  "nbformat": 4,
  "nbformat_minor": 0,
  "metadata": {
    "colab": {
      "name": "week2.ipynb",
      "provenance": [],
      "include_colab_link": true
    },
    "kernelspec": {
      "name": "python3",
      "display_name": "Python 3"
    },
    "language_info": {
      "name": "python"
    }
  },
  "cells": [
    {
      "cell_type": "markdown",
      "metadata": {
        "id": "view-in-github",
        "colab_type": "text"
      },
      "source": [
        "<a href=\"https://colab.research.google.com/github/powderflask/cap-comp215/blob/main/examples/week2-solution.ipynb\" target=\"_parent\"><img src=\"https://colab.research.google.com/assets/colab-badge.svg\" alt=\"Open In Colab\"/></a>"
      ]
    },
    {
      "cell_type": "markdown",
      "source": [
        "# Sequence and Map data structures - Strings, Tuples, Lists, Dictionaries\n",
        "This is our week 2 examples notebook and will be available on Github from the powderflask/cap-comp215 repository.\n",
        "\n",
        "As usual, the first code block just imports the modules we will use."
      ],
      "metadata": {
        "id": "WBMC0GrjNRTM"
      }
    },
    {
      "cell_type": "code",
      "execution_count": 28,
      "metadata": {
        "id": "C1a6aDXAM0WM"
      },
      "outputs": [],
      "source": [
        "import datetime\n",
        "import matplotlib.pyplot as plt\n",
        "import  matplotlib.dates as mdates\n",
        "from pprint import pprint"
      ]
    },
    {
      "cell_type": "markdown",
      "source": [
        "## f-strings\n",
        "A `string` is a sequence of characters / symbols.\n",
        "This familiar data structure is quite powerful, and format-strings (f-strings) take it to the next level...."
      ],
      "metadata": {
        "collapsed": false,
        "pycharm": {
          "name": "#%% md\n"
        },
        "id": "sVWQyNknuIcM"
      }
    },
    {
      "cell_type": "code",
      "execution_count": 29,
      "outputs": [
        {
          "output_type": "execute_result",
          "data": {
            "text/plain": [
              "'{today} is not special, but {the_answer} and {PI} are!'"
            ],
            "application/vnd.google.colaboratory.intrinsic+json": {
              "type": "string"
            }
          },
          "metadata": {},
          "execution_count": 29
        }
      ],
      "source": [
        "today = datetime.date.today()\n",
        "the_answer = 42\n",
        "PI = 3.1415926535\n",
        "\n",
        "'{today} is not special, but {the_answer} and {PI} are!'"
      ],
      "metadata": {
        "pycharm": {
          "name": "#%%\n"
        },
        "colab": {
          "base_uri": "https://localhost:8080/",
          "height": 35
        },
        "id": "vTKAx-RGuIcN",
        "outputId": "352c0038-3f90-46fa-bc04-8f7a6e8e7708"
      }
    },
    {
      "cell_type": "markdown",
      "source": [
        "## List Comprehension\n",
        "Provides a compact syntax for two very common sequence-processing algorithms:  Map  and Filter\n",
        "\n",
        "Basic syntax:"
      ],
      "metadata": {
        "id": "k70NJ-JTNwYN"
      }
    },
    {
      "cell_type": "code",
      "source": [
        "def calculate_it(val):\n",
        "  return 2*val if val%2==0 else 3*val if val%3==0 else val*4\n",
        "\n",
        "# [calculate_it(i) for i in range(0, 100)]\n",
        "\n",
        "from collections import defaultdict\n",
        "\n",
        "# def counter_factory():\n",
        "#   return 0\n",
        "\n",
        "counts = defaultdict(lambda : 0)\n",
        "for i in range(0, 100):\n",
        "  counts[calculate_it(i)] += 1\n",
        "\n",
        "counts"
      ],
      "metadata": {
        "id": "HZSz8IftqJ72",
        "colab": {
          "base_uri": "https://localhost:8080/"
        },
        "outputId": "ca8e2436-ae13-4e23-f9fe-de6ff1b3a05e"
      },
      "execution_count": 30,
      "outputs": [
        {
          "output_type": "execute_result",
          "data": {
            "text/plain": [
              "defaultdict(<function __main__.<lambda>()>,\n",
              "            {0: 1,\n",
              "             4: 2,\n",
              "             9: 1,\n",
              "             8: 1,\n",
              "             20: 2,\n",
              "             12: 1,\n",
              "             28: 2,\n",
              "             16: 1,\n",
              "             27: 1,\n",
              "             44: 2,\n",
              "             24: 1,\n",
              "             52: 2,\n",
              "             45: 1,\n",
              "             32: 1,\n",
              "             68: 2,\n",
              "             36: 1,\n",
              "             76: 2,\n",
              "             40: 1,\n",
              "             63: 1,\n",
              "             92: 2,\n",
              "             48: 1,\n",
              "             100: 2,\n",
              "             81: 1,\n",
              "             56: 1,\n",
              "             116: 2,\n",
              "             60: 1,\n",
              "             124: 2,\n",
              "             64: 1,\n",
              "             99: 1,\n",
              "             140: 2,\n",
              "             72: 1,\n",
              "             148: 2,\n",
              "             117: 1,\n",
              "             80: 1,\n",
              "             164: 2,\n",
              "             84: 1,\n",
              "             172: 2,\n",
              "             88: 1,\n",
              "             135: 1,\n",
              "             188: 2,\n",
              "             96: 1,\n",
              "             196: 2,\n",
              "             153: 1,\n",
              "             104: 1,\n",
              "             212: 1,\n",
              "             108: 1,\n",
              "             220: 1,\n",
              "             112: 1,\n",
              "             171: 1,\n",
              "             236: 1,\n",
              "             120: 1,\n",
              "             244: 1,\n",
              "             189: 1,\n",
              "             128: 1,\n",
              "             260: 1,\n",
              "             132: 1,\n",
              "             268: 1,\n",
              "             136: 1,\n",
              "             207: 1,\n",
              "             284: 1,\n",
              "             144: 1,\n",
              "             292: 1,\n",
              "             225: 1,\n",
              "             152: 1,\n",
              "             308: 1,\n",
              "             156: 1,\n",
              "             316: 1,\n",
              "             160: 1,\n",
              "             243: 1,\n",
              "             332: 1,\n",
              "             168: 1,\n",
              "             340: 1,\n",
              "             261: 1,\n",
              "             176: 1,\n",
              "             356: 1,\n",
              "             180: 1,\n",
              "             364: 1,\n",
              "             184: 1,\n",
              "             279: 1,\n",
              "             380: 1,\n",
              "             192: 1,\n",
              "             388: 1,\n",
              "             297: 1})"
            ]
          },
          "metadata": {},
          "execution_count": 30
        }
      ]
    },
    {
      "cell_type": "markdown",
      "source": [
        "### Map Algorithm\n",
        "Apply the same function to every item in another sequence (i.e., provide a \"mapping\" from the source sequence to the target"
      ],
      "metadata": {
        "collapsed": false,
        "pycharm": {
          "name": "#%% md\n"
        },
        "id": "XoqqjN7puIcV"
      }
    },
    {
      "cell_type": "code",
      "execution_count": 31,
      "outputs": [],
      "source": [
        "# Problem:  compute the first 10 natural squares"
      ],
      "metadata": {
        "pycharm": {
          "name": "#%%\n"
        },
        "id": "YhxyjExJuIcY"
      }
    },
    {
      "cell_type": "markdown",
      "source": [
        "### Filter\n",
        "Select a sub-set of the elements from another sequence based on some criteria."
      ],
      "metadata": {
        "collapsed": false,
        "pycharm": {
          "name": "#%% md\n"
        },
        "id": "9H72ShN6uIca"
      }
    },
    {
      "cell_type": "code",
      "execution_count": 32,
      "outputs": [],
      "source": [
        "VOWELS = 'aeiou'\n",
        "text = '''\n",
        "Lorem ipsum dolor sit amet, consectetur adipiscing elit, sed do eiusmod tempor incididunt ut labore et dolore magna aliqua. Ut enim ad minim veniam, quis nostrud exercitation ullamco laboris nisi ut aliquip ex ea commodo consequat.\n",
        "'''\n",
        "# Problem:  create a string with just the vowels from the text, in order.\n"
      ],
      "metadata": {
        "pycharm": {
          "name": "#%%\n"
        },
        "id": "GrE5-aB-uIcb"
      }
    },
    {
      "cell_type": "markdown",
      "source": [
        "## Data Wrangling with List Comprehension\n",
        "E-learn's Live Quiz module does track quiz scores for each student, but does not store them in the gradebook,\n",
        "and it reports on them in the most useless way.\n",
        "\n",
        "Let's do some \"data wrangling\" to make sense out of this mess!\n",
        "\n",
        "### The Problem: Unstructured Data!\n",
        "Notice it is just a single large string!  The real data set has 36 students, and I need to do this every week!"
      ],
      "metadata": {
        "collapsed": false,
        "pycharm": {
          "name": "#%% md\n"
        },
        "id": "vyyq-vQbuIcc"
      }
    },
    {
      "cell_type": "code",
      "execution_count": 33,
      "outputs": [
        {
          "output_type": "execute_result",
          "data": {
            "text/plain": [
              "'\\n  1.                 Ali Oop scored  7/ 8 = 87%\\n\\n\\n  2.          Alison Ralison scored  8/ 8 = 100%\\n\\n\\n  3.         Ambily Piturbed scored  8/ 8 = 100%\\n\\n\\n  4.  Arshan Risnot Farquared scored  5/ 8 = 62%\\n\\n\\n  5.       Ayushma Jugernaugh scored  5/ 8 = 62%\\n\\n\\n  6.       Brayden Labaguette scored  7/ 8 = 87%\\n'"
            ],
            "application/vnd.google.colaboratory.intrinsic+json": {
              "type": "string"
            }
          },
          "metadata": {},
          "execution_count": 33
        }
      ],
      "source": [
        "\"\"\"\n",
        "  1.                 Ali Oop scored  7/ 8 = 87%\n",
        "\n",
        "\n",
        "  2.          Alison Ralison scored  8/ 8 = 100%\n",
        "\n",
        "\n",
        "  3.         Ambily Piturbed scored  8/ 8 = 100%\n",
        "\n",
        "\n",
        "  4.  Arshan Risnot Farquared scored  5/ 8 = 62%\n",
        "\n",
        "\n",
        "  5.       Ayushma Jugernaugh scored  5/ 8 = 62%\n",
        "\n",
        "\n",
        "  6.       Brayden Labaguette scored  7/ 8 = 87%\n",
        "\"\"\""
      ],
      "metadata": {
        "pycharm": {
          "name": "#%%\n"
        },
        "colab": {
          "base_uri": "https://localhost:8080/",
          "height": 71
        },
        "id": "_7dqy75KuIce",
        "outputId": "a1f3da6f-6eaa-4f30-b5ae-800ac76a8029"
      }
    },
    {
      "cell_type": "markdown",
      "source": [
        "### Goal\n",
        "Turn this into structured data: a list of 2-tuples, each student's full name and their integer score."
      ],
      "metadata": {
        "collapsed": false,
        "pycharm": {
          "name": "#%% md\n"
        },
        "id": "Sip82PeauIcg"
      }
    },
    {
      "cell_type": "code",
      "execution_count": 33,
      "outputs": [],
      "source": [],
      "metadata": {
        "pycharm": {
          "name": "#%%\n"
        },
        "id": "tjHjTm4yuIck"
      }
    },
    {
      "cell_type": "markdown",
      "source": [
        "## Records\n",
        "A *record* is a compound data value - a collection of simpler data values (fields) that all describe a single entity.\n",
        "\n",
        " * tuple\n",
        " * dictionary\n",
        " * object\n",
        "\n",
        "Problem: develop the data representation for a `student` in a student record system,\n",
        "where a `student` has a first and last name, student id, and date of birth"
      ],
      "metadata": {
        "collapsed": false,
        "id": "ZgZOrF3uuIcm"
      }
    },
    {
      "cell_type": "code",
      "source": [
        "# Tuple\n",
        "tuple_students = [\n",
        "  ('Bob', '', 'Squarepants', 123456789, datetime.date(year=1994, month=2, day=5)),\n",
        "  ('Dora', 'The', 'Explora', 192837465, datetime.date(year=2000, month=8, day=14))\n",
        "]\n",
        "s = tuple_students[-1]\n",
        "age = datetime.date.today() - s[4]\n",
        "age.days // 365\n",
        "\n",
        "# Dictionary\n",
        "dict_students = [\n",
        "    {\n",
        "      'first': 'Bob',\n",
        "      'last': 'Squarepants',\n",
        "      'sn': 123456789,\n",
        "      'dob': datetime.date(year=1994, month=2, day=5),\n",
        "    },\n",
        "    {\n",
        "      'first': 'Dora',\n",
        "      'middle': 'The',\n",
        "      'last': 'Explora',\n",
        "      'sn': 192837465,\n",
        "      'dob': datetime.date(year=2000, month=8, day=14),\n",
        "    },\n",
        "]\n",
        "s = dict_students[-1]\n",
        "s['dob']\n",
        "\n",
        "students = [\n",
        "    {'first':s[0], 'last':s[2], 'sn':s[3], 'dob':s[4] } for s in tuple_students\n",
        "]\n",
        "students\n"
      ],
      "metadata": {
        "colab": {
          "base_uri": "https://localhost:8080/"
        },
        "id": "Ai9qb3Bolw4h",
        "outputId": "79fa28de-b5a3-45d9-b5c0-8540eea0de86"
      },
      "execution_count": 53,
      "outputs": [
        {
          "output_type": "execute_result",
          "data": {
            "text/plain": [
              "[{'first': 'Bob',\n",
              "  'last': 'Squarepants',\n",
              "  'sn': 123456789,\n",
              "  'dob': datetime.date(1994, 2, 5)},\n",
              " {'first': 'Dora',\n",
              "  'last': 'Explora',\n",
              "  'sn': 192837465,\n",
              "  'dob': datetime.date(2000, 8, 14)}]"
            ]
          },
          "metadata": {},
          "execution_count": 53
        }
      ]
    },
    {
      "cell_type": "code",
      "source": [
        "# Objects\n",
        "from dataclasses import dataclass\n",
        "\n",
        "@dataclass\n",
        "class Student:\n",
        "  first: str\n",
        "  middle:str\n",
        "  last: str\n",
        "  sn: int\n",
        "  dob: datetime.date\n",
        "\n",
        "  def full_name(self):\n",
        "    return f'{self.first} {self.last}'\n",
        "\n",
        "students = [\n",
        "    Student('Bob', '', 'Squarepants', 123456789, datetime.date(year=1994, month=2, day=5)),\n",
        "    Student('Dora', 'The', 'Explora', 192837465, datetime.date(year=2000, month=8, day=14))\n",
        "]\n",
        "dora = [s for s in students if s.first=='Dora'][0]\n",
        "dora.full_name()"
      ],
      "metadata": {
        "colab": {
          "base_uri": "https://localhost:8080/",
          "height": 35
        },
        "id": "3iBFIjyK-SNi",
        "outputId": "dfefde1a-0b23-4345-b99e-34b5a1887c93"
      },
      "execution_count": 67,
      "outputs": [
        {
          "output_type": "execute_result",
          "data": {
            "text/plain": [
              "'Dora Explora'"
            ],
            "application/vnd.google.colaboratory.intrinsic+json": {
              "type": "string"
            }
          },
          "metadata": {},
          "execution_count": 67
        }
      ]
    },
    {
      "cell_type": "code",
      "source": [
        "import math\n",
        "\n",
        "math.sin(123)"
      ],
      "metadata": {
        "colab": {
          "base_uri": "https://localhost:8080/"
        },
        "id": "JSALxrAxA016",
        "outputId": "6a784542-5013-4231-e781-ef4443ba0b5c"
      },
      "execution_count": 62,
      "outputs": [
        {
          "output_type": "execute_result",
          "data": {
            "text/plain": [
              "-0.45990349068959124"
            ]
          },
          "metadata": {},
          "execution_count": 62
        }
      ]
    },
    {
      "cell_type": "code",
      "execution_count": 34,
      "outputs": [],
      "source": [],
      "metadata": {
        "pycharm": {
          "name": "#%%\n"
        },
        "id": "2PtgPoGCuIco"
      }
    }
  ]
}