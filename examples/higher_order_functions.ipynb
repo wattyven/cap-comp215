{
 "cells": [
  {
   "cell_type": "markdown",
   "source": [
    "# Functional Programming Skills:  Higher Order Functions\n",
    "Functions in Python are [\"first class citizens\"](https://realpython.com/lessons/functions-first-class-objects-python/)\n",
    "That means a function\n",
    " - is just an object, with a type, and can be treated like any other object\n",
    " - can be passed as a parameter to other functions\n",
    " - can be returned as a function's value\n",
    "\n",
    "A [\"higher order function\"](https://python.plainenglish.io/higher-order-functions-in-python-for-beginners-8155e67ea013) is a function that takes a function as an input or returns a function as its output.\n",
    "\n",
    "That sounds strange, but once you get the hang of it, it is an increadibly powerful way to re-use code."
   ],
   "metadata": {
    "collapsed": false
   }
  },
  {
   "cell_type": "code",
   "execution_count": 107,
   "outputs": [],
   "source": [
    "import math, time"
   ],
   "metadata": {
    "collapsed": false,
    "pycharm": {
     "name": "#%%\n"
    }
   }
  },
  {
   "cell_type": "markdown",
   "source": [
    "### Example:  Simple Closure\n",
    "A function that returns another function creates a [\"closure\"](https://en.wikipedia.org/wiki/Closure_(computer_programming). This just means that the inner function returned retains the value any parameteres or local variables defined by the outer function..."
   ],
   "metadata": {
    "collapsed": false,
    "pycharm": {
     "name": "#%% md\n"
    }
   }
  },
  {
   "cell_type": "code",
   "source": [
    "def power(exponent):\n",
    "    \"\"\" A factory that returns the power function for the given exponent \"\"\"\n",
    "    def f(n):\n",
    "        return n**exponent\n",
    "    return f\n",
    "\n",
    "square = power(2)\n",
    "cube = power(3)\n",
    "\n",
    "assert square(5) == 25\n",
    "assert cube(3) == 27\n",
    "\n",
    "print(f'square is a {type(square)}.  square(9)=={square(9)}')"
   ],
   "metadata": {
    "collapsed": false,
    "pycharm": {
     "name": "#%%\n"
    }
   },
   "execution_count": 108,
   "outputs": [
    {
     "name": "stdout",
     "output_type": "stream",
     "text": [
      "square is a <class 'function'>.  square(9)==81\n"
     ]
    }
   ]
  },
  {
   "cell_type": "markdown",
   "source": [
    "### Example: functional arguments\n",
    "The built-in python functions that perform ordering operations on a sequence, like `min`, `max`, `sorted`, take an optional argument (usually named `key`) that is a function used to define the value to order on..."
   ],
   "metadata": {
    "collapsed": false,
    "pycharm": {
     "name": "#%% md\n"
    }
   }
  },
  {
   "cell_type": "code",
   "execution_count": 109,
   "outputs": [
    {
     "name": "stdout",
     "output_type": "stream",
     "text": [
      "Numeric sort: [0, 1, 2, 3, 4, 5, 6, 7, 8, 9]\n",
      "Sort records by age...\n"
     ]
    },
    {
     "data": {
      "text/plain": "[{'name': 'kai', 'gender': 'male', 'weight': 90, 'height': 210, 'age': 24},\n {'name': 'kia', 'gender': 'female', 'weight': 60, 'height': 185, 'age': 27},\n {'name': 'bei', 'gender': 'female', 'weight': 55, 'height': 175, 'age': 35},\n {'name': 'bob', 'gender': 'male', 'weight': 70, 'height': 180, 'age': 45}]"
     },
     "execution_count": 109,
     "metadata": {},
     "output_type": "execute_result"
    }
   ],
   "source": [
    "def sort(lst, item=lambda item: item):\n",
    "    \"\"\" Sort the list in place with the order determined by the given function \"\"\"\n",
    "    # Bubble sort - one of the first sort algorithm most CS students learn.  Pretty inefficient.\n",
    "    for i in range(len(lst)):\n",
    "        for j in range(1, len(lst)-i):\n",
    "            if not item(lst[j-1]) < item(lst[j]):\n",
    "                lst[j-1], lst[j] = lst[j], lst[j-1]\n",
    "    return lst\n",
    "\n",
    "print(f'Numeric sort: {sort([6, 3, 9, 2, 5, 7, 1, 0, 8, 4])}')\n",
    "\n",
    "people = [\n",
    "    dict(name='bob', gender='male', weight=70, height=180, age=45),\n",
    "    dict(name='bei', gender='female', weight=55, height=175, age=35),\n",
    "    dict(name='kai', gender='male', weight=90, height=210, age=24),\n",
    "    dict(name='kia', gender='female', weight=60, height=185, age=27),\n",
    "]\n",
    "print('Sort records by age...')\n",
    "sort(people, item=lambda person: person['age'])"
   ],
   "metadata": {
    "collapsed": false,
    "pycharm": {
     "name": "#%%\n"
    }
   }
  },
  {
   "cell_type": "markdown",
   "source": [
    "### Map, Filter, Reduce\n",
    "We've seen [`map`](https://docs.python.org/3/library/functions.html#map) and [`filter`](https://docs.python.org/3/library/functions.html#filter) are very common operations.  The third operation in this set is [`reduce`](https://docs.python.org/3/library/functools.html?highlight=functools#functools.reduce), which combines all the elements from an iterable into a single value (e.g., [`sum`](https://docs.python.org/3/library/functions.html#sum) is a reduce operation)\n",
    "Python provides built-ins for each these operations.  Each takes an iterable and function as input and returns a generator.\n",
    "\n",
    "Just for giggles, let's look at what `reduce` does..."
   ],
   "metadata": {
    "collapsed": false,
    "pycharm": {
     "name": "#%% md\n"
    }
   }
  },
  {
   "cell_type": "code",
   "execution_count": 110,
   "outputs": [
    {
     "name": "stdout",
     "output_type": "stream",
     "text": [
      "Factorial of 10 is 3628800\n"
     ]
    }
   ],
   "source": [
    "def reduce(iterable, combine, initial=0):\n",
    "    \"\"\" Combine all items in the iterable by accumulating them in a running total initialized to initial. \"\"\"\n",
    "    total = initial\n",
    "    for item in iterable:\n",
    "        total = combine(total, item)      # where we successively accumulate items into the running total\n",
    "    return total\n",
    "\n",
    "# Python's built-in sum function is a special case of reduce:\n",
    "assert sum(range(10)) == reduce(range(10), lambda x, y: x+y)\n",
    "\n",
    "print(f'Factorial of 10 is {reduce(range(1,11), lambda x, y: x*y, initial=1)}')"
   ],
   "metadata": {
    "collapsed": false,
    "pycharm": {
     "name": "#%%\n"
    }
   }
  },
  {
   "cell_type": "markdown",
   "source": [
    "### Putting it all together:  a reduce factory\n",
    "The `reduce` function defined above is very generic, but hard to use because it doesn't provide an abstraction for the specific reduction.\n",
    "\n",
    "Here we create a \"closure\" to return a specific version of `reduce` for a specific `combine` function.\n",
    "You could think of the outer function, `reducer` as a \"factory\" that builds specific reduce operations."
   ],
   "metadata": {
    "collapsed": false,
    "pycharm": {
     "name": "#%% md\n"
    }
   }
  },
  {
   "cell_type": "code",
   "execution_count": 111,
   "outputs": [
    {
     "name": "stdout",
     "output_type": "stream",
     "text": [
      "Factorial of 10 is 3628800\n"
     ]
    }
   ],
   "source": [
    "def reducer(combine, initial=0):\n",
    "    \"\"\" Return a reduce function using a specific combine function. \"\"\"\n",
    "    def reduce(iterable):\n",
    "        total = initial\n",
    "        for item in iterable:\n",
    "            total = combine(total, item)      # where we successively accumulate items into the running total\n",
    "        return total\n",
    "    return reduce\n",
    "\n",
    "# build a reducer similar to python's built-in sum function:\n",
    "my_sum = reducer(lambda x, y: x+y)\n",
    "\n",
    "N = 10\n",
    "assert sum(range(N)) == my_sum(range(N))\n",
    "\n",
    "product = reducer(lambda x, y: x*y, initial=1)\n",
    "print(f'Factorial of {N} is {product(range(1,N+1))}')"
   ],
   "metadata": {
    "collapsed": false,
    "pycharm": {
     "name": "#%%\n"
    }
   }
  },
  {
   "cell_type": "markdown",
   "source": [
    "## Decorators\n",
    "A **decorator** is a function that \"wraps\" another function in a closure, but also adds some extra behaviour.\n",
    "Here's a minimal example..."
   ],
   "metadata": {
    "collapsed": false
   }
  },
  {
   "cell_type": "code",
   "execution_count": 112,
   "outputs": [],
   "source": [
    "def double(f):\n",
    "    \"\"\" return a function that doubles the output of function f \"\"\"\n",
    "    def doubler(n):\n",
    "        return 2*f(n)\n",
    "    return doubler\n",
    "\n",
    "\n",
    "def factorial(n):\n",
    "    \"\"\" Return factorial of n -- notice this is a reduce operation! \"\"\"\n",
    "    f = n\n",
    "    while n > 1:\n",
    "        n -= 1\n",
    "        f *= n\n",
    "    return f\n",
    "\n",
    "assert factorial(5) == 120\n",
    "\n",
    "double_factorial = double(factorial)\n",
    "\n",
    "assert double_factorial(5) == 240"
   ],
   "metadata": {
    "collapsed": false,
    "pycharm": {
     "name": "#%%\n"
    }
   }
  },
  {
   "cell_type": "markdown",
   "source": [
    "In the example above, we call function `double` a \"decorator\"\n",
    "and say that `double_factorial` is a \"decorated\" version of `factorial`"
   ],
   "metadata": {
    "collapsed": false,
    "pycharm": {
     "name": "#%% md\n"
    }
   }
  },
  {
   "cell_type": "markdown",
   "source": [
    "## Practical Decorators\n",
    "We'll develop a performance timing decorator and a caching decorator below,\n",
    "but first we need a problem that is computationally expensive..."
   ],
   "metadata": {
    "collapsed": false,
    "pycharm": {
     "name": "#%% md\n"
    }
   }
  },
  {
   "cell_type": "code",
   "execution_count": 113,
   "outputs": [
    {
     "name": "stdout",
     "output_type": "stream",
     "text": [
      "1246739743737 is not prime.\n",
      "The 20000'th prime number is 224737.\n"
     ]
    }
   ],
   "source": [
    "# (Note: there are MUCH more efficient ways to identify prime numbers! These naive algorithms are for illustration only.)\n",
    "\n",
    "def is_prime(n):\n",
    "    \"\"\" Return True iff integer n is a prime number \"\"\"\n",
    "    assert type(n) is int and n >= 2\n",
    "    div, upper = 2, math.sqrt(n)\n",
    "    while div <= upper:\n",
    "        if n%div == 0:\n",
    "            return False\n",
    "        div += 1\n",
    "    return True\n",
    "\n",
    "assert is_prime(11)\n",
    "\n",
    "N = 1246739743737\n",
    "print(f\"{N} is {'' if is_prime(N) else 'not'} prime.\")\n",
    "\n",
    "\n",
    "def find_next_prime(n):\n",
    "    \"\"\" Return the first prime number at least as large as n \"\"\"\n",
    "    assert type(n) is int and n >= 1\n",
    "    while not is_prime(n):\n",
    "        n += 1\n",
    "    return n\n",
    "\n",
    "assert find_next_prime(23+1) == 29\n",
    "\n",
    "def nth_prime(n):\n",
    "    \"\"\" Return the n'th prime number \"\"\"\n",
    "    assert type(n) is int and n >= 1\n",
    "    nth = 1\n",
    "    prime = 2\n",
    "    while n > nth:\n",
    "        prime = find_next_prime(prime+1)\n",
    "        nth += 1\n",
    "    return prime\n",
    "\n",
    "assert nth_prime(10) == 29\n",
    "\n",
    "Nth = 20000\n",
    "print(f\"The {Nth}'th prime number is {nth_prime(Nth)}.\")"
   ],
   "metadata": {
    "collapsed": false,
    "pycharm": {
     "name": "#%%\n"
    }
   }
  },
  {
   "cell_type": "markdown",
   "source": [
    "### Practical Decorator 1: performance timing\n",
    "You've seen how adding code to measure performance (execution time) is a small pain and clutters up your code.\n",
    "Let's define a re-usable decorator to do the job..."
   ],
   "metadata": {
    "collapsed": false,
    "pycharm": {
     "name": "#%% md\n"
    }
   }
  },
  {
   "cell_type": "code",
   "execution_count": 114,
   "outputs": [],
   "source": [
    "def performance(f):\n",
    "    \"\"\" Return a decorator that will execute function f and record the time it takes to execute.\"\"\"\n",
    "    def performance_timer(*args):\n",
    "        start = time.perf_counter()\n",
    "        v = f(*args)\n",
    "        end = time.perf_counter()\n",
    "        print(f'Performance of {f.__name__}{args}: {end-start} seconds.')\n",
    "        return v\n",
    "    return performance_timer"
   ],
   "metadata": {
    "collapsed": false,
    "pycharm": {
     "name": "#%%\n"
    }
   }
  },
  {
   "cell_type": "code",
   "execution_count": 115,
   "outputs": [
    {
     "name": "stdout",
     "output_type": "stream",
     "text": [
      "Performance of nth_prime(20000,): 1.8073844569998982 seconds.\n",
      "The 20000'th prime number is 224737.\n"
     ]
    }
   ],
   "source": [
    "timed_nth_prime = performance(nth_prime)\n",
    "print(f\"The {Nth}'th prime number is {timed_nth_prime(Nth)}.\")"
   ],
   "metadata": {
    "collapsed": false,
    "pycharm": {
     "name": "#%%\n"
    }
   }
  },
  {
   "cell_type": "markdown",
   "source": [
    "### Practical Decorator 2: caching\n",
    "\n",
    "When a computationally expensive result needs to be re-computed many times, it can be advantageous to pre-compute the values and store them in a lookup table (sound familiar?).\n",
    "This strategy is called \"caching\" (as in, creating a \"cache\" of pre-defined values).\n",
    "A decorator allows us to write the cache logic once and re-use it for any function..."
   ],
   "metadata": {
    "collapsed": false
   }
  },
  {
   "cell_type": "code",
   "execution_count": 116,
   "outputs": [],
   "source": [
    "def cache(f):\n",
    "    \"\"\" return a version of function f that caches each result for use in future calls with the same arguments \"\"\"\n",
    "    result_cache = {}\n",
    "    def cache_it(*args):\n",
    "        if args in result_cache:\n",
    "            return result_cache[args]\n",
    "        else:\n",
    "            result = f(*args)\n",
    "            result_cache[args] = result\n",
    "            return result\n",
    "    return cache_it"
   ],
   "metadata": {
    "collapsed": false,
    "pycharm": {
     "name": "#%%\n"
    }
   }
  },
  {
   "cell_type": "markdown",
   "source": [
    "P.S.  don't actually use this version, use built-in [functools.cache](https://docs.python.org/3/library/functools.html?highlight=functools#functools.cache) instead!"
   ],
   "metadata": {
    "collapsed": false,
    "pycharm": {
     "name": "#%% md\n"
    }
   }
  },
  {
   "cell_type": "code",
   "execution_count": 117,
   "outputs": [
    {
     "name": "stdout",
     "output_type": "stream",
     "text": [
      "f(1, 2)\n",
      "f(3, 4)\n"
     ]
    },
    {
     "data": {
      "text/plain": "7"
     },
     "execution_count": 117,
     "metadata": {},
     "output_type": "execute_result"
    }
   ],
   "source": [
    "# Minimal example...\n",
    "def f(a, b):\n",
    "    print(f'f({a}, {b})')\n",
    "    return a+b\n",
    "\n",
    "cached_f = cache(f)\n",
    "cached_f(1, 2)  # sum is only computed here...\n",
    "cached_f(3, 4)  # and here.\n",
    "cached_f(3, 4)  # rest of calls resolved by cache!\n",
    "cached_f(1, 2)\n",
    "cached_f(3, 4)"
   ],
   "metadata": {
    "collapsed": false,
    "pycharm": {
     "name": "#%%\n"
    }
   }
  },
  {
   "cell_type": "markdown",
   "source": [
    "A more realistic example..."
   ],
   "metadata": {
    "collapsed": false,
    "pycharm": {
     "name": "#%% md\n"
    }
   }
  },
  {
   "cell_type": "code",
   "execution_count": 118,
   "outputs": [
    {
     "name": "stdout",
     "output_type": "stream",
     "text": [
      "Performance of cache_it(20000,): 1.2340050459997656 seconds.\n",
      "The 20000'th prime number is 224737.\n"
     ]
    }
   ],
   "source": [
    "cached_nth_prime = performance(cache(nth_prime))\n",
    "print(f\"The {Nth}'th prime number is {cached_nth_prime(Nth)}.\")"
   ],
   "metadata": {
    "collapsed": false,
    "pycharm": {
     "name": "#%%\n"
    }
   }
  },
  {
   "cell_type": "code",
   "execution_count": 119,
   "outputs": [
    {
     "name": "stdout",
     "output_type": "stream",
     "text": [
      "Performance of cache_it(20000,): 1.4649995137006044e-06 seconds.\n",
      "The 20000'th prime number is 224737.\n"
     ]
    }
   ],
   "source": [
    "print(f\"The {Nth}'th prime number is {cached_nth_prime(Nth)}.\")"
   ],
   "metadata": {
    "collapsed": false,
    "pycharm": {
     "name": "#%%\n"
    }
   }
  },
  {
   "cell_type": "markdown",
   "source": [
    "## Syntactic Sugar:  the @decorator syntax\n",
    "Because decorators are such a powerful way to re-use code, python provides some syntax sugar to make them even sweeter..."
   ],
   "metadata": {
    "collapsed": false,
    "pycharm": {
     "name": "#%% md\n"
    }
   }
  },
  {
   "cell_type": "code",
   "execution_count": 120,
   "outputs": [
    {
     "name": "stdout",
     "output_type": "stream",
     "text": [
      "Performance of cache_it(20000,): 1.1970966970002337 seconds.\n",
      "The 20000'th prime number is 224737.\n",
      "Performance of cache_it(20000,): 1.8199998521595262e-06 seconds.\n",
      "The 20000'th prime number is 224737.\n",
      "Performance of cache_it(20000,): 9.880004654405639e-07 seconds.\n",
      "The 20000'th prime number is 224737.\n"
     ]
    }
   ],
   "source": [
    "@performance\n",
    "@cache\n",
    "def any_function(n):\n",
    "    return nth_prime(n)\n",
    "\n",
    "print(f\"The {Nth}'th prime number is {any_function(Nth)}.\")\n",
    "print(f\"The {Nth}'th prime number is {any_function(Nth)}.\")\n",
    "print(f\"The {Nth}'th prime number is {any_function(Nth)}.\")"
   ],
   "metadata": {
    "collapsed": false,
    "pycharm": {
     "name": "#%%\n"
    }
   }
  },
  {
   "cell_type": "markdown",
   "source": [
    "## One Final Detail\n",
    "You may notice `performance` is reporting on `cache_it` - the inner function from the cache decorator :-(\n",
    "This can be fixed by simply re-naming the function returned by the decorator.\n",
    "Luckily Python has a nice decorator for that :-)\n",
    "See [functools.wraps](https://docs.python.org/3.8/library/functools.html?highlight=functools#functools.wraps)"
   ],
   "metadata": {
    "collapsed": false,
    "pycharm": {
     "name": "#%% md\n"
    }
   }
  },
  {
   "cell_type": "code",
   "execution_count": 120,
   "outputs": [],
   "source": [],
   "metadata": {
    "collapsed": false,
    "pycharm": {
     "name": "#%%\n"
    }
   }
  }
 ],
 "metadata": {
  "kernelspec": {
   "display_name": "Python 3",
   "language": "python",
   "name": "python3"
  },
  "language_info": {
   "codemirror_mode": {
    "name": "ipython",
    "version": 2
   },
   "file_extension": ".py",
   "mimetype": "text/x-python",
   "name": "python",
   "nbconvert_exporter": "python",
   "pygments_lexer": "ipython2",
   "version": "2.7.6"
  }
 },
 "nbformat": 4,
 "nbformat_minor": 0
}