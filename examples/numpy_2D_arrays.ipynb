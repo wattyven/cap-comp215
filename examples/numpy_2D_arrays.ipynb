{
 "cells": [
  {
   "cell_type": "markdown",
   "metadata": {
    "collapsed": true,
    "pycharm": {
     "name": "#%% md\n"
    }
   },
   "source": [
    "# numpy:  2D array (matrix) operations\n",
    "2D arrays come with very powerful built-in matrix operations.\n",
    "These allow you to perform an operation on every element of the matrix without any explicit iteration. E.g.,\n",
    " - simple map operations using math operators\n",
    " - matrix x scalar and matrix x matrix operations using math operators\n",
    " - create a boolean matrix using comparison operators\n",
    "\n",
    "This makes for very concise and efficient code, but the code is a bit deceptive because unless you are cognizant that a variable refers to a numpy array, there is often no clue that a matrix operation is being performed.  Let's look at some examples...\n"
   ]
  },
  {
   "cell_type": "code",
   "execution_count": 81,
   "outputs": [],
   "source": [
    "import numpy as np"
   ],
   "metadata": {
    "collapsed": false,
    "pycharm": {
     "name": "#%%\n"
    }
   }
  },
  {
   "cell_type": "markdown",
   "source": [
    "## Create a 2D array\n",
    " * simple: define it using a list of lists;\n",
    " * general: define it by supplying an (rows, cols) size;\n",
    " * random: filled with random values;\n",
    "Notice that in some way we must always define the number of rows and columns (dimensions)"
   ],
   "metadata": {
    "collapsed": false,
    "pycharm": {
     "name": "#%% md\n"
    }
   }
  },
  {
   "cell_type": "code",
   "execution_count": 82,
   "outputs": [
    {
     "data": {
      "text/plain": "(array([[1, 2, 3],\n        [4, 5, 6],\n        [7, 8, 9]]),\n array([[1, 1, 1],\n        [1, 1, 1],\n        [1, 1, 1]], dtype=uint8),\n array([[1, 1, 0],\n        [1, 0, 0],\n        [0, 1, 1]], dtype=uint8))"
     },
     "execution_count": 82,
     "metadata": {},
     "output_type": "execute_result"
    }
   ],
   "source": [
    "matrix = np.array(\n",
    "    [\n",
    "        [1, 2, 3],\n",
    "        [4, 5, 6],\n",
    "        [7, 8, 9]\n",
    "    ]\n",
    ")\n",
    "ones = np.ones((3, 3), dtype='uint8')\n",
    "rand = np.random.randint(2, size=(3, 3), dtype='uint8')\n",
    "matrix, ones, rand"
   ],
   "metadata": {
    "collapsed": false,
    "pycharm": {
     "name": "#%%\n"
    }
   }
  },
  {
   "cell_type": "markdown",
   "source": [
    "## Matrix x Scalar operations\n",
    "numpy array class defines all math and comparison operators.\n",
    "Confusion arises here b/c the code itself does not indicate there is a matrix operation being done - you have to know!"
   ],
   "metadata": {
    "collapsed": false,
    "pycharm": {
     "name": "#%% md\n"
    }
   }
  },
  {
   "cell_type": "code",
   "execution_count": 83,
   "outputs": [
    {
     "data": {
      "text/plain": "(array([[ 2,  4,  6],\n        [ 8, 10, 12],\n        [14, 16, 18]]),\n array([[2, 2, 2],\n        [2, 2, 2],\n        [2, 2, 2]], dtype=uint8),\n array([[ True,  True, False],\n        [ True, False, False],\n        [False,  True,  True]]))"
     },
     "execution_count": 83,
     "metadata": {},
     "output_type": "execute_result"
    }
   ],
   "source": [
    "double = matrix * 2\n",
    "twos = ones + 1\n",
    "alive = rand == 1\n",
    "double, twos, alive"
   ],
   "metadata": {
    "collapsed": false,
    "pycharm": {
     "name": "#%%\n"
    }
   }
  },
  {
   "cell_type": "markdown",
   "source": [
    "## Matrix x Matrix operations\n",
    "All operators also work when both arguments are arrays, in this case operations are done pair-wise on matching elements.\n",
    "The 2 arrays must have the same shape!"
   ],
   "metadata": {
    "collapsed": false,
    "pycharm": {
     "name": "#%% md\n"
    }
   }
  },
  {
   "cell_type": "code",
   "execution_count": 84,
   "outputs": [
    {
     "data": {
      "text/plain": "(array([[ 1,  4,  9],\n        [16, 25, 36],\n        [49, 64, 81]]),\n array([[3, 3, 3],\n        [3, 3, 3],\n        [3, 3, 3]], dtype=uint8),\n array([[1, 2, 0],\n        [4, 0, 0],\n        [0, 8, 9]]))"
     },
     "execution_count": 84,
     "metadata": {},
     "output_type": "execute_result"
    }
   ],
   "source": [
    "squares = matrix * matrix\n",
    "threes = ones + twos\n",
    "filtered = rand * matrix\n",
    "squares, threes, filtered"
   ],
   "metadata": {
    "collapsed": false,
    "pycharm": {
     "name": "#%%\n"
    }
   }
  },
  {
   "cell_type": "markdown",
   "source": [
    "## Logical operators\n",
    "numpy does not re-define python's built-in logical operators `and`, `or`, `not`\n",
    "But it does define the \"bitwise\" operators, bitwise and `&`, bitwise or `|` and bitwise not '~'.\n",
    "With care, these can be used to implement whole-matrix logical operations...\n",
    "**Tips**: both operands should by `bool` or `0`/`1` valued arrays (or you better really understand bitwise operators!).\n",
    "     Watch your precedence -- bitwise operators are very low precedence!"
   ],
   "metadata": {
    "collapsed": false,
    "pycharm": {
     "name": "#%% md\n"
    }
   }
  },
  {
   "cell_type": "code",
   "execution_count": 85,
   "outputs": [
    {
     "name": "stdout",
     "output_type": "stream",
     "text": [
      "Error: The truth value of an array with more than one element is ambiguous. Use a.any() or a.all()\n"
     ]
    },
    {
     "data": {
      "text/plain": "(array([[ True, False, False],\n        [False, False, False],\n        [False, False,  True]]),\n array([[False, False, False],\n        [False, False, False],\n        [False,  True,  True]]),\n array([[False, False,  True],\n        [False,  True,  True],\n        [ True, False, False]]))"
     },
     "execution_count": 85,
     "metadata": {},
     "output_type": "execute_result"
    }
   ],
   "source": [
    "try:\n",
    "    alive and matrix\n",
    "except ValueError as e:\n",
    "    print('Error:', e)\n",
    "\n",
    "fitlered2 = alive & matrix!=0\n",
    "big_and_alive = (matrix > 5) & alive\n",
    "not_alive = ~alive\n",
    "fitlered2, big_and_alive, not_alive"
   ],
   "metadata": {
    "collapsed": false,
    "pycharm": {
     "name": "#%%\n"
    }
   }
  },
  {
   "cell_type": "markdown",
   "source": [
    "## Matrix indexing\n",
    "Perhaps one of the most powerful numpy array operations is the ability to use the values of one array as indexes to lookup values in another array.\n",
    "For this operation the arrays can be different sizes and shapes, but you need to be clear about which array is the lookup table and which is the indexes!"
   ],
   "metadata": {
    "collapsed": false,
    "pycharm": {
     "name": "#%% md\n"
    }
   }
  },
  {
   "cell_type": "code",
   "execution_count": 86,
   "outputs": [
    {
     "data": {
      "text/plain": "(array([[ 2,  4,  1,  1,  1],\n        [10, 10,  6,  4,  1],\n        [ 6,  2,  8,  4,  5],\n        [11, 11, 11,  2,  3],\n        [ 2, 10,  1, 11, 11]]),\n array([['Feb', 'Apr', 'Jan', 'Jan', 'Jan'],\n        ['Oct', 'Oct', 'Jun', 'Apr', 'Jan'],\n        ['Jun', 'Feb', 'Aug', 'Apr', 'May'],\n        ['Nov', 'Nov', 'Nov', 'Feb', 'Mar'],\n        ['Feb', 'Oct', 'Jan', 'Nov', 'Nov']], dtype='<U3'))"
     },
     "execution_count": 86,
     "metadata": {},
     "output_type": "execute_result"
    }
   ],
   "source": [
    "month_names = np.array(['Jan', 'Feb', 'Mar', 'Apr', 'May', 'Jun', 'Jul', 'Aug', 'Sep', 'Oct', 'Nov', 'Dec'])\n",
    "month_nums = np.random.randint(low=1, high=12, size=(5, 5))\n",
    "month_nums, month_names[month_nums-1]"
   ],
   "metadata": {
    "collapsed": false,
    "pycharm": {
     "name": "#%%\n"
    }
   }
  },
  {
   "cell_type": "markdown",
   "source": [
    "### Filter with Boolean indexes\n",
    "By using an array of booleans, you can filter out a set of elements from another array with the same shape."
   ],
   "metadata": {
    "collapsed": false,
    "pycharm": {
     "name": "#%% md\n"
    }
   }
  },
  {
   "cell_type": "code",
   "execution_count": 87,
   "outputs": [
    {
     "data": {
      "text/plain": "(array([[ 1,  4,  9],\n        [16, 25, 36],\n        [49, 64, 81]]),\n array([ 4, 16, 36, 64]))"
     },
     "execution_count": 87,
     "metadata": {},
     "output_type": "execute_result"
    }
   ],
   "source": [
    "even_squares = squares[squares%2==0]\n",
    "squares, even_squares"
   ],
   "metadata": {
    "collapsed": false,
    "pycharm": {
     "name": "#%%\n"
    }
   }
  },
  {
   "cell_type": "markdown",
   "source": [
    "Notice you get back a simple 1D array of elements.  These can act as references back to elements in the original array.\n",
    "This allows us to use a scalar assignment to update elements of the original 2D array that meet some criteria ..."
   ],
   "metadata": {
    "collapsed": false,
    "pycharm": {
     "name": "#%% md\n"
    }
   }
  },
  {
   "cell_type": "code",
   "execution_count": 88,
   "outputs": [
    {
     "data": {
      "text/plain": "(array([[ True,  True, False],\n        [ True, False, False],\n        [False,  True,  True]]),\n array([[1, 2, 0],\n        [4, 0, 0],\n        [0, 8, 9]]))"
     },
     "execution_count": 88,
     "metadata": {},
     "output_type": "execute_result"
    }
   ],
   "source": [
    "matrix_dead = matrix.copy()\n",
    "matrix_dead[~alive] = 0\n",
    "alive, matrix_dead"
   ],
   "metadata": {
    "collapsed": false,
    "pycharm": {
     "name": "#%%\n"
    }
   }
  },
  {
   "cell_type": "code",
   "execution_count": 88,
   "outputs": [],
   "source": [],
   "metadata": {
    "collapsed": false,
    "pycharm": {
     "name": "#%%\n"
    }
   }
  }
 ],
 "metadata": {
  "kernelspec": {
   "display_name": "Python 3",
   "language": "python",
   "name": "python3"
  },
  "language_info": {
   "codemirror_mode": {
    "name": "ipython",
    "version": 2
   },
   "file_extension": ".py",
   "mimetype": "text/x-python",
   "name": "python",
   "nbconvert_exporter": "python",
   "pygments_lexer": "ipython2",
   "version": "2.7.6"
  }
 },
 "nbformat": 4,
 "nbformat_minor": 0
}