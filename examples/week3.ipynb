{
 "nbformat": 4,
 "nbformat_minor": 0,
 "metadata": {
  "colab": {
   "name": "week3.ipynb",
   "provenance": [],
   "include_colab_link": true
  },
  "kernelspec": {
   "name": "python3",
   "display_name": "Python 3"
  },
  "language_info": {
   "name": "python"
  }
 },
 "cells": [
  {
   "cell_type": "markdown",
   "metadata": {
    "id": "view-in-github",
    "colab_type": "text"
   },
   "source": [
    "<a href=\"https://colab.research.google.com/github/powderflask/cap-comp215/blob/main/examples/week3.ipynb\" target=\"_parent\"><img src=\"https://colab.research.google.com/assets/colab-badge.svg\" alt=\"Open In Colab\"/></a>"
   ]
  },
  {
   "cell_type": "markdown",
   "source": [
    "# Classes and Objects\n",
    "This is our week 3 examples notebook and will be available on Github from the powderflask/cap-comp215 repository.\n",
    "\n",
    "As usual, the first code block just imports the modules we will use."
   ],
   "metadata": {
    "id": "WBMC0GrjNRTM"
   }
  },
  {
   "cell_type": "code",
   "execution_count": 12,
   "outputs": [
    {
     "output_type": "stream",
     "name": "stdout",
     "text": [
      "Type of the log function: <class 'builtin_function_or_method'>\n",
      "greeting\n"
     ]
    }
   ],
   "source": [
    "import random\n",
    "import matplotlib.pyplot as plt\n",
    "from pprint import pprint\n",
    "\n",
    "# Everything in Python is an object and everything has a \"type\" which is its class\n",
    "\n",
    "\n",
    "# Even a function is an object...\n",
    "\n",
    "\n",
    "# ... so we can even define additional \"attributes\" for that object:\n"
   ],
   "metadata": {
    "pycharm": {
     "name": "#%%\n"
    },
    "id": "Xuhr0Iqrkl7M",
    "outputId": "fffe8d12-7982-43c8-aeb6-00f6fd6b78a8",
    "colab": {
     "base_uri": "https://localhost:8080/"
    }
   }
  },
  {
   "cell_type": "markdown",
   "source": [
    "## Problem: Collision detection using circles"
   ],
   "metadata": {
    "collapsed": false,
    "id": "9kidyXF4kl7N"
   }
  },
  {
   "cell_type": "code",
   "execution_count": 13,
   "outputs": [],
   "source": [
    "class Circle:\n",
    "    \"\"\" Representation for the data and operations on a circle \"\"\"\n",
    "\n",
    "    def area(self):\n",
    "        \"\"\" Return the area of this circle \"\"\"\n",
    "\n",
    "    def move(self, offset):\n",
    "        \"\"\" Move this circle by given (x,y) offset \"\"\"\n",
    "\n",
    "    def distance(self, other):\n",
    "        \"\"\" Return the distance between this circle and the other one \"\"\"\n",
    "\n",
    "    def intersects(self, other):\n",
    "        \"\"\" Return True iff this circle intersects the other one \"\"\"\n"
   ],
   "metadata": {
    "pycharm": {
     "name": "#%%\n"
    },
    "id": "JzVlJnx0kl7O"
   }
  },
  {
   "cell_type": "code",
   "execution_count": 14,
   "outputs": [
    {
     "output_type": "stream",
     "name": "stdout",
     "text": [
      "Type of c1: <class '__main__.Circle'>\n",
      "Area of c1: 12.566370614359172 <bound method Circle.area of <__main__.Circle object at 0x7f750e995210>>\n",
      "State: c:(4, 4) r:2 c:(9, 9) r:2 Dist: 7.07 Intersects? False\n",
      "State: c:(6, 6) r:2 c:(9, 9) r:2 Dist: 4.24 Intersects? False\n",
      "State: c:(6, 6) r:2 c:(8, 9) r:2 Dist: 3.61 Intersects? True\n"
     ]
    }
   ],
   "source": [
    "# Test Circle class\n"
   ],
   "metadata": {
    "pycharm": {
     "name": "#%%\n"
    },
    "id": "yAie8rLAkl7P",
    "outputId": "62b017b1-bcb7-4858-9f37-1bb900eeb960",
    "colab": {
     "base_uri": "https://localhost:8080/"
    }
   }
  },
  {
   "cell_type": "markdown",
   "source": [
    "## Problem:  Counting\n",
    "When conducting an experiment, it is common to count occurances.  For example\n",
    "\n",
    "* in a physics experiment, we might count the number of atomic collisions in which certain sub-atomic particles were produced\n",
    "* in biology, we might count the number of cells infected by a virus after a fixed time period\n",
    "* in a computational experiment, we might count the frequency with which clusters of a give size form\n",
    "\n",
    "To visualize such experimental results, we would generally plot a histogram, like this:\n"
   ],
   "metadata": {
    "collapsed": false,
    "id": "KgcBUGH4kl7Q"
   }
  },
  {
   "cell_type": "code",
   "source": [
    "# Experiment: Get the age distribution for Cap students\n",
    "n_cap_students = 11500\n",
    "\n",
    "# Simulate getting the age for one Cap student\n",
    "def get_age(student_id):\n",
    "    return int(random.normalvariate(mu=24, sigma=4))  # Normally distributed age with mean of 24 years\n",
    "\n",
    "# Run experiment to obtain the age for each student\n",
    "data = [get_age(id) for id in range(n_cap_students)]\n",
    "\n",
    "# Set the number of bins to the number of ages we found\n",
    "n_bins = len(set(data))\n",
    "\n",
    "fig, ax = plt.subplots()\n",
    "ax.set_title(\"Age distribution for Cap Students\")\n",
    "ax.set_xlabel('Age (years)')\n",
    "\n",
    "# plot a histogram of the data, divided into n \"equal width\" bins\n",
    "ax.hist(data, bins=n_bins)\n",
    "plt.plot()"
   ],
   "metadata": {
    "id": "HZSz8IftqJ72",
    "outputId": "e67e1423-34f0-4c80-fae7-602302ae30bc",
    "colab": {
     "base_uri": "https://localhost:8080/",
     "height": 333
    }
   },
   "execution_count": 16,
   "outputs": [
    {
     "output_type": "execute_result",
     "data": {
      "text/plain": [
       "[]"
      ]
     },
     "metadata": {},
     "execution_count": 16
    },
    {
     "output_type": "display_data",
     "data": {
      "image/png": "[encoded data removed]",
      "text/plain": [
       "<Figure size 432x288 with 1 Axes>"
      ]
     },
     "metadata": {
      "needs_background": "light"
     }
    }
   ]
  },
  {
   "cell_type": "markdown",
   "source": [
    "## Custom Histogram Class\n",
    "\n",
    "Define our own historgram class that serves as a \"wrapper\" for clunky pyplot ax.hist"
   ],
   "metadata": {
    "id": "naDVayQLkznK"
   }
  },
  {
   "cell_type": "code",
   "source": [
    "class Histogram:\n",
    "    \"\"\" A simple histogram with a nice API \"\"\"\n",
    "    def __init__(self, title, xlabel=None):\n",
    "        fig, ax = plt.subplots()\n",
    "        ax.set_title(title)\n",
    "        if xlabel:\n",
    "            ax.set_xlabel(xlabel)\n",
    "        ax.set_ylabel('Count')\n",
    "        self.ax = ax\n",
    "        self.fig = fig\n",
    "        self.counts = {}\n",
    "\n",
    "    def count(self, category):\n",
    "        self.counts[category] = self.counts.get(category, 0) + 1\n",
    "\n",
    "    def plot(self):\n",
    "        self.ax.bar(self.counts.keys(), self.counts.values())\n",
    "        plt.show()"
   ],
   "metadata": {
    "id": "Ai9qb3Bolw4h"
   },
   "execution_count": 17,
   "outputs": []
  },
  {
   "cell_type": "code",
   "execution_count": 18,
   "outputs": [
    {
     "output_type": "display_data",
     "data": {
      "image/png": "[encoded data removed]",
      "text/plain": [
       "<Figure size 432x288 with 1 Axes>"
      ]
     },
     "metadata": {
      "needs_background": "light"
     }
    }
   ],
   "source": [
    "hist = Histogram(title='Age Distribution for Cap Students', xlabel='Age (years)')\n",
    "for id in range(n_cap_students):\n",
    "    hist.count(get_age(id))\n",
    "hist.plot()"
   ],
   "metadata": {
    "pycharm": {
     "name": "#%%\n"
    },
    "id": "QxLQc9nokl7T",
    "outputId": "e3471832-5326-4c0c-abb5-f02884110fef",
    "colab": {
     "base_uri": "https://localhost:8080/",
     "height": 316
    }
   }
  },
  {
   "cell_type": "code",
   "execution_count": 18,
   "outputs": [],
   "source": [
    ""
   ],
   "metadata": {
    "pycharm": {
     "name": "#%%\n"
    },
    "id": "-y3O-TIYkl7T"
   }
  }
 ]
}