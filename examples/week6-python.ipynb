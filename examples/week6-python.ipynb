{
 "cells": [
  {
   "cell_type": "markdown",
   "source": [
    "# Python Skills Upgrade:  Argument unpacking, Decorators, Inheritance\n",
    "New Python syntax / concepts.\n",
    "This example notebook will be available on Github from the powderflask/cap-comp215 repository.\n",
    "As usual, the first code block just imports the modules we will use."
   ],
   "metadata": {
    "collapsed": false
   }
  },
  {
   "cell_type": "code",
   "execution_count": 157,
   "metadata": {
    "collapsed": true
   },
   "outputs": [],
   "source": [
    "import math, time\n",
    "\n",
    "import matplotlib.pyplot as plt"
   ]
  },
  {
   "cell_type": "markdown",
   "source": [
    "## New Python Syntax: dictionary constructor\n",
    "Often constructing a dictionary using keyword arguments makes for more readable code..."
   ],
   "metadata": {
    "collapsed": false,
    "pycharm": {
     "name": "#%% md\n"
    }
   }
  },
  {
   "cell_type": "code",
   "execution_count": 158,
   "outputs": [
    {
     "data": {
      "text/plain": "({'a': 1, 'b': 2, 'c': 3}, {'a': 1, 'b': 2, 'c': 3})"
     },
     "execution_count": 158,
     "metadata": {},
     "output_type": "execute_result"
    }
   ],
   "source": [
    "d1 = {\n",
    "    'a' : 1,\n",
    "    'b' : 2,\n",
    "    'c' : 3,\n",
    "}\n",
    "# vs.\n",
    "d2 = dict(a=1, b=2, c=3)   # only works if dictionary keys are valid python identifiers.\n",
    "\n",
    "assert d1 == d2\n",
    "\n",
    "d1, d2"
   ],
   "metadata": {
    "collapsed": false,
    "pycharm": {
     "name": "#%%\n"
    }
   }
  },
  {
   "cell_type": "markdown",
   "source": [
    "## New Python Syntax: argument unpacking"
   ],
   "metadata": {
    "collapsed": false
   }
  },
  {
   "cell_type": "code",
   "execution_count": 159,
   "outputs": [
    {
     "name": "stdout",
     "output_type": "stream",
     "text": [
      "positional args is a <class 'tuple'>: (42, 'hello')\n",
      "keyword args is a <class 'dict'>: {'foo': True, 'bar': [1, 2, 3]}\n"
     ]
    }
   ],
   "source": [
    "def print_args(*args, **kwargs):\n",
    "    print(f'positional args is a {type(args)}: {args}')\n",
    "    print(f'keyword args is a {type(kwargs)}: {kwargs}')\n",
    "\n",
    "print_args(42, 'hello', foo=True, bar=[1,2,3])"
   ],
   "metadata": {
    "collapsed": false,
    "pycharm": {
     "name": "#%%\n"
    }
   }
  },
  {
   "cell_type": "markdown",
   "source": [
    "### Unpacking a dictionary or tuple to pass a collection of arguments"
   ],
   "metadata": {
    "collapsed": false
   }
  },
  {
   "cell_type": "code",
   "execution_count": 160,
   "outputs": [
    {
     "name": "stdout",
     "output_type": "stream",
     "text": [
      "positional args is a <class 'tuple'>: ('cool', 'numbers')\n",
      "keyword args is a <class 'dict'>: {'phi': 1.618033988749, 'pi': 3.141592653589793, 'h': 6.62607015e-34}\n"
     ]
    }
   ],
   "source": [
    "a = (\"cool\", 'numbers')\n",
    "d = dict(phi=1.618033988749, pi=math.pi, h=6.62607015e-34)\n",
    "\n",
    "print_args(*a, **d)"
   ],
   "metadata": {
    "collapsed": false,
    "pycharm": {
     "name": "#%%\n"
    }
   }
  },
  {
   "cell_type": "markdown",
   "source": [
    "#### Using unpack to merge dictionaries"
   ],
   "metadata": {
    "collapsed": false,
    "pycharm": {
     "name": "#%% md\n"
    }
   }
  },
  {
   "cell_type": "code",
   "execution_count": 161,
   "outputs": [
    {
     "data": {
      "text/plain": "{'a': 1, 'b': 2, 'c': 4, 'd': 5, 'e': 6}"
     },
     "execution_count": 161,
     "metadata": {},
     "output_type": "execute_result"
    }
   ],
   "source": [
    "d3 = dict(a=1, b=2, c=3)\n",
    "d4 = dict(c=4, d=5, e=6)  # note also contains key 'c'\n",
    "\n",
    "{**d3, **d4}"
   ],
   "metadata": {
    "collapsed": false,
    "pycharm": {
     "name": "#%%\n"
    }
   }
  },
  {
   "cell_type": "markdown",
   "source": [
    "#### Argument Unpacking: example\n",
    "unpacking data dictionary and empirical coefficient values for *Basal Metabolic Rate* (BMR) calculation:\n",
    "\n",
    "males :   `BMR = 66 + 13.7 * weight (kg) + 5 * height (cm) - 6.8 * age (years)`\n",
    "\n",
    "female: `BMR = 655 + 9.6 * weight (kg) + 1.8 * height (cm) - 4.7 * age (years)`"
   ],
   "metadata": {
    "collapsed": false,
    "pycharm": {
     "name": "#%% md\n"
    }
   }
  },
  {
   "cell_type": "code",
   "execution_count": 162,
   "outputs": [
    {
     "data": {
      "text/plain": "{'bob': 1619.0, 'bei': 1333.5, 'kai': 2185.8, 'kia': 1437.1}"
     },
     "execution_count": 162,
     "metadata": {},
     "output_type": "execute_result"
    }
   ],
   "source": [
    "people = (\n",
    "    dict(name='bob', gender='male', weight=70, height=180, age=45),\n",
    "    dict(name='bei', gender='female', weight=55, height=175, age=35),\n",
    "    dict(name='kai', gender='male', weight=90, height=210, age=24),\n",
    "    dict(name='kia', gender='female', weight=60, height=185, age=27),\n",
    ")\n",
    "\n",
    "BMR_PARAMS = dict(\n",
    "    male=(66, 13.7, 5, -6.8),     # 66 + 13.7 * weight (kg) + 5 * height (cm) - 6.8 * age (years)\n",
    "    female=(655, 9.6, 1.8, -4.7), # 655 + 9.6 * weight (kg) + 1.8 * height (cm) - 4.7 * age (years)\n",
    ")\n",
    "\n",
    "def bmr(a, b, c, d, weight, height, age, **kwargs):\n",
    "    \"\"\" Return the BMR for coefficients a,b,c,d and given weight (kg), height (cm) and age (years) \"\"\"\n",
    "    return a + b*weight + c*height + d*age\n",
    "\n",
    "{\n",
    "    p['name']: bmr(*BMR_PARAMS[p['gender']], **p)   for p in people\n",
    "}"
   ],
   "metadata": {
    "collapsed": false,
    "pycharm": {
     "name": "#%%\n"
    }
   }
  },
  {
   "cell_type": "markdown",
   "source": [
    "#### Argument Unpacking: example\n",
    "unpacking coordinates for line segments in a 7-segment display."
   ],
   "metadata": {
    "collapsed": false,
    "pycharm": {
     "name": "#%% md\n"
    }
   }
  },
  {
   "cell_type": "code",
   "execution_count": 163,
   "outputs": [
    {
     "data": {
      "text/plain": "<Figure size 432x288 with 1 Axes>",
      "image/png": "[encoded data removed]"
     },
     "metadata": {
      "needs_background": "light"
     },
     "output_type": "display_data"
    }
   ],
   "source": [
    "# (start, end) coordinates for each segment on a 3 x 5 grid (0, 0) to (2, 4)\n",
    "SEGS_COORDS = (\n",
    "    ((0,4), (2,4)),\n",
    "    ((0,2), (0,4)),\n",
    "    ((2,2), (2,4)),\n",
    "    ((0,2), (2,2)),\n",
    "    ((0,0), (0,2)),\n",
    "    ((2,0), (2,2)),\n",
    "    ((0,0), (2,0)),\n",
    ")\n",
    "# Transform coordinate pairs ((x1, y1), (x2, y2)) into ordinate vectors ((x1, x2), (y1, y2)) (for matplotlib)\n",
    "SEG_ORDS = [zip(*coords) for coords in SEGS_COORDS]\n",
    "# List of segments needed to display each of 9 digits\n",
    "SEGMENTS = (\n",
    "    (0, 1, 2, 4, 5, 6),\n",
    "    (2, 5),\n",
    "    (0, 2, 3, 4, 6),\n",
    "    (0, 2, 3, 5, 6),\n",
    "    (1, 2, 3, 5),\n",
    "    (0, 1, 3, 5, 6),\n",
    "    (1, 3, 4, 5, 6),\n",
    "    (0, 2, 5),\n",
    "    (0, 1, 2, 3, 4, 5, 6),\n",
    "    (0, 1, 2, 3, 5)\n",
    ")\n",
    "\n",
    "def seven_seg_display(d):\n",
    "    \"\"\" Plot digit d as a seven segment display \"\"\"\n",
    "    assert 0 <= d <= 9\n",
    "    for seg in SEGMENTS[d]:\n",
    "        plt.plot(*SEG_ORDS[seg])\n",
    "\n",
    "N = 8\n",
    "seven_seg_display(N)\n",
    "plt.axis('equal')\n",
    "plt.axis('off')\n",
    "plt.show()"
   ],
   "metadata": {
    "collapsed": false,
    "pycharm": {
     "name": "#%%\n"
    }
   }
  },
  {
   "cell_type": "markdown",
   "source": [
    "## Higher-order functions\n",
    "Functions are \"first class citizens\"!\n",
    " - they are objects and can be treated like any other objects\n",
    " - they can be passed as parameters to other functions\n",
    " - they can be returned as a function's value\n",
    "\n",
    "Python's built-in `functools` module provides additional abstractions for working with higher-order functions."
   ],
   "metadata": {
    "collapsed": false,
    "pycharm": {
     "name": "#%% md\n"
    }
   }
  },
  {
   "cell_type": "code",
   "source": [
    "# Example 1: a function that returns another function!\n",
    "def power(exponent):\n",
    "    \"\"\" A factory that returns the power function for the given exponent \"\"\"\n",
    "    def f(n):\n",
    "        return n**exponent\n",
    "    return f\n",
    "\n",
    "square = power(2)\n",
    "cube = power(3)\n",
    "\n",
    "assert square(5) == 25\n",
    "assert cube(3) == 27\n",
    "\n",
    "print(f'square is a {type(square)}.  square(9)=={square(9)}')"
   ],
   "metadata": {
    "collapsed": false,
    "pycharm": {
     "name": "#%%\n"
    }
   },
   "execution_count": 164,
   "outputs": [
    {
     "name": "stdout",
     "output_type": "stream",
     "text": [
      "square is a <class 'function'>.  square(9)==81\n"
     ]
    }
   ]
  },
  {
   "cell_type": "code",
   "execution_count": 2,
   "outputs": [
    {
     "name": "stdout",
     "output_type": "stream",
     "text": [
      "Numeric sort: [0, 1, 2, 3, 4, 5, 6, 7, 8, 9]\n"
     ]
    },
    {
     "data": {
      "text/plain": "[{'name': 'kai', 'gender': 'male', 'weight': 90, 'height': 210, 'age': 24},\n {'name': 'kia', 'gender': 'female', 'weight': 60, 'height': 185, 'age': 27},\n {'name': 'bei', 'gender': 'female', 'weight': 55, 'height': 175, 'age': 35},\n {'name': 'bob', 'gender': 'male', 'weight': 70, 'height': 180, 'age': 45}]"
     },
     "execution_count": 2,
     "metadata": {},
     "output_type": "execute_result"
    }
   ],
   "source": [
    "# Example 2: a function that takes another function as a parameter\n",
    "def sort(lst, item=lambda record: record):\n",
    "    \"\"\" Sort the list in place with the order determined by the given function \"\"\"\n",
    "    # Bubble sort - one of the first sort algorithm most CS students learn.  Pretty inefficient.\n",
    "    for i in range(len(lst)):\n",
    "        for j in range(1, len(lst)-i):\n",
    "            if not item(lst[j-1]) < item(lst[j])):\n",
    "                lst[j-1], lst[j] = lst[j], lst[j-1]\n",
    "    return lst\n",
    "\n",
    "print(f'Numeric sort: {sort([6, 3, 9, 2, 5, 7, 1, 0, 8, 4])}')\n",
    "\n",
    "people = [\n",
    "    dict(name='bob', gender='male', weight=70, height=180, age=45),\n",
    "    dict(name='bei', gender='female', weight=55, height=175, age=35),\n",
    "    dict(name='kai', gender='male', weight=90, height=210, age=24),\n",
    "    dict(name='kia', gender='female', weight=60, height=185, age=27),\n",
    "]\n",
    "sort(people, item=lambda record: record['age'])"
   ],
   "metadata": {
    "collapsed": false,
    "pycharm": {
     "name": "#%%\n"
    }
   }
  },
  {
   "cell_type": "code",
   "execution_count": 6,
   "outputs": [
    {
     "name": "stdout",
     "output_type": "stream",
     "text": [
      "Factorial of 10 is 3628800\n"
     ]
    }
   ],
   "source": [
    "# Example 3: just for giggles, reduce is a generic accumulator algorithm that \"combines\" items into a single value.\n",
    "def reduce(iterable, combine):\n",
    "    \"\"\" Combine all items in the iterable by accumulating them in a running total. \"\"\"\n",
    "    generator = iter(iterable)            # this turns any iterable into a generator...\n",
    "    total = next(generator)               # so we can pull out the first item to \"bootstrap\" the loop...\n",
    "    for item in generator:\n",
    "        total = combine(total, item)      # where we successively accumulate items into the running total\n",
    "    return total\n",
    "\n",
    "# Python's built-in sum function is a special case of reduce:\n",
    "assert sum(range(10)) == reduce(range(10), lambda x, y: x+y)\n",
    "\n",
    "print(f'Factorial of 10 is {reduce(range(1,11), lambda x, y: x*y)}')"
   ],
   "metadata": {
    "collapsed": false,
    "pycharm": {
     "name": "#%%\n"
    }
   }
  },
  {
   "cell_type": "markdown",
   "source": [
    "#### A reduction factory\n",
    "The `reduce` function defined above is very generic, but hard to read because it doesn't provide any abstraction for the specific reduction.\n",
    "Here we \"wrap\" it in a function factory the returns a specific version of `reduce` for a specific `combine` function.\n"
   ],
   "metadata": {
    "collapsed": false,
    "pycharm": {
     "name": "#%% md\n"
    }
   }
  },
  {
   "cell_type": "code",
   "execution_count": 8,
   "outputs": [
    {
     "name": "stdout",
     "output_type": "stream",
     "text": [
      "Factorial of 10 is 3628800\n"
     ]
    }
   ],
   "source": [
    "def reducer(combine):\n",
    "    \"\"\" Return a reduce function usnig the specific combine function given. \"\"\"\n",
    "    def reduce(iterable):\n",
    "        generator = iter(iterable)            # this turns any iterable into a generator...\n",
    "        total = next(generator)               # so we can pull out the first item to \"bootstrap\" the loop...\n",
    "        for item in generator:\n",
    "            total = combine(total, item)      # where we successively accumulate items into the running total\n",
    "        return total\n",
    "    return reduce\n",
    "\n",
    "# build a reducer similar to python's built-in sum function:\n",
    "my_sum = reducer(lambda x, y: x+y)\n",
    "\n",
    "assert sum(range(10)) == my_sum(range(10))\n",
    "\n",
    "almost_factorial = reducer(lambda x, y: x*y)\n",
    "N = 10\n",
    "print(f'Factorial of {N} is {almost_factorial(range(1,N+1))}')"
   ],
   "metadata": {
    "collapsed": false,
    "pycharm": {
     "name": "#%%\n"
    }
   }
  },
  {
   "cell_type": "markdown",
   "source": [
    "## Decorators\n",
    "A **decorator** is a function that \"wraps\" another function to provide some extra behaviour.\n",
    "Here's a minimal example..."
   ],
   "metadata": {
    "collapsed": false
   }
  },
  {
   "cell_type": "code",
   "execution_count": 168,
   "outputs": [],
   "source": [
    "def double(f):\n",
    "    \"\"\" return a function that doubles the output of function f \"\"\"\n",
    "    def doubler(n):\n",
    "        return 2*f(n)\n",
    "    return doubler\n",
    "\n",
    "\n",
    "def factorial(n):\n",
    "    \"\"\" Return factorial of n -- notice this is a reduce operation! \"\"\"\n",
    "    f = n\n",
    "    while n > 1:\n",
    "        n -= 1\n",
    "        f *= n\n",
    "    return f\n",
    "\n",
    "assert factorial(5) == 120\n",
    "\n",
    "double_factorial = double(factorial)\n",
    "\n",
    "assert double_factorial(5) == 240\n"
   ],
   "metadata": {
    "collapsed": false,
    "pycharm": {
     "name": "#%%\n"
    }
   }
  },
  {
   "cell_type": "markdown",
   "source": [
    "#### Decorator Example:  a execution time logging\n",
    "Imagine we wanted to do some timing tests on some computationally expensive functions…\n",
    "(Note: there are MUCH more efficient ways to identify prime numbers! These naive algorithms are for illustraion only.)"
   ],
   "metadata": {
    "collapsed": false,
    "pycharm": {
     "name": "#%% md\n"
    }
   }
  },
  {
   "cell_type": "code",
   "execution_count": 169,
   "outputs": [
    {
     "name": "stdout",
     "output_type": "stream",
     "text": [
      "1246739743737 is not prime.\n",
      "Performance of nth_prime(10,): 2.141499862773344e-05 seconds.\n",
      "Performance of nth_prime(20000,): 1.2452000939993013 seconds.\n",
      "The 20000'th prime number is 224737.\n"
     ]
    }
   ],
   "source": [
    "def performance(f):\n",
    "    \"\"\" Return a function that will execute function f and record the time it takes to execute.\"\"\"\n",
    "    def decorator(*args, **kwargs):\n",
    "        start = time.perf_counter()\n",
    "        v = f(*args, **kwargs)\n",
    "        end = time.perf_counter()\n",
    "        print(f'Performance of {f.__name__}{args}: {end-start} seconds.')\n",
    "        return v\n",
    "    return decorator\n",
    "\n",
    "\n",
    "def is_prime(n):\n",
    "    \"\"\" Return True iff integer n is a prime number \"\"\"\n",
    "    assert type(n) is int and n >= 2\n",
    "    div, upper = 2, math.sqrt(n)\n",
    "    while div <= upper:\n",
    "        if n%div == 0:\n",
    "            return False\n",
    "        div += 1\n",
    "    return True\n",
    "\n",
    "assert is_prime(11)\n",
    "\n",
    "N = 1246739743737\n",
    "print(f\"{N} is {'' if is_prime(N) else 'not'} prime.\")\n",
    "\n",
    "\n",
    "def find_next_prime(n):\n",
    "    \"\"\" Return the first prime number at least as large as n \"\"\"\n",
    "    assert type(n) is int and n >= 1\n",
    "    while not is_prime(n):\n",
    "        n += 1\n",
    "    return n\n",
    "\n",
    "assert find_next_prime(23+1) == 29\n",
    "\n",
    "@performance\n",
    "def nth_prime(n):\n",
    "    \"\"\" Return the n'th prime number \"\"\"\n",
    "    assert type(n) is int and n >= 1\n",
    "    nth = 1\n",
    "    prime = 2\n",
    "    while n > nth:\n",
    "        prime = find_next_prime(prime+1)\n",
    "        nth += 1\n",
    "    return prime\n",
    "\n",
    "assert nth_prime(10) == 29\n",
    "\n",
    "Nth = 20000\n",
    "print(f\"The {Nth}'th prime number is {nth_prime(Nth)}.\")\n",
    "\n"
   ],
   "metadata": {
    "collapsed": false,
    "pycharm": {
     "name": "#%%\n"
    }
   }
  },
  {
   "cell_type": "markdown",
   "source": [
    "## Class Inheritance\n",
    "* use with caution - there is **much** to learn about using inheritance correctly!\n",
    "* always prefer to use **composition** to share code\n",
    "* see Ch. 19 in Comp115 Think Python textbook for more examples"
   ],
   "metadata": {
    "collapsed": false
   }
  },
  {
   "cell_type": "code",
   "execution_count": 170,
   "outputs": [
    {
     "name": "stdout",
     "output_type": "stream",
     "text": [
      "3 different kinds of points: <class '__main__.Point2D'> (3, 4) <class '__main__.PolarPoint2D'> (2.99, 4.01) <class '__main__.LabelledPoint2D'> (6, 8)-Here\n",
      "Polar coordinates: p1: (5.0, 0.9272952180016122)  p2: (5.0, 0.9299999999999999)\n",
      "Distance from (3, 4) to (2.99, 4.01) : 0.013523905869487528  and visa versa: 0.013523905869487528\n",
      "Distance from (3, 4) to (6, 8)-Here : 5.0  and visa versa: 5.0\n"
     ]
    }
   ],
   "source": [
    "class Point2D:\n",
    "    \"\"\" A point on the 2D Cartesian plane \"\"\"\n",
    "    def __init__(self, x, y):\n",
    "        self.x = x\n",
    "        self.y = y\n",
    "\n",
    "    def __str__(self):\n",
    "        return '({x}, {y})'.format(x=round(self.x,2), y=round(self.y,2))\n",
    "\n",
    "    def distance(self, other):\n",
    "        \"\"\" Return distance between this point and other Point2D \"\"\"\n",
    "        return math.sqrt((self.x-other.x)**2 + (self.y-other.y)**2)\n",
    "\n",
    "    @property\n",
    "    def r(self):\n",
    "        \"\"\" length, r, from origin to this point \"\"\"\n",
    "        return self.distance(Point2D(0,0))\n",
    "\n",
    "    @property\n",
    "    def theta(self):\n",
    "        \"\"\" angle, in radians, of vector to this point \"\"\"\n",
    "        return math.atan2(self.y, self.x)  # faster than SohCahToa\n",
    "\n",
    "    def polar_coord(self):\n",
    "        \"\"\" return the polar coordinate for this point \"\"\"\n",
    "        return (self.r, self.theta)\n",
    "\n",
    "\n",
    "class PolarPoint2D(Point2D):\n",
    "    \"\"\" A point on the 2D Cartesian plane specified in polar coordinates \"\"\"\n",
    "    def __init__(self, r, theta):\n",
    "        \"\"\" define point by length r and angle, theta, in radians \"\"\"\n",
    "        super().__init__(x=r*math.cos(theta), y=r*math.sin(theta))\n",
    "\n",
    "\n",
    "class LabelledPoint2D(Point2D):\n",
    "    \"\"\" A labelled point on a 2D Cartesian plane \"\"\"\n",
    "    def __init__(self, x, y, label):\n",
    "        super().__init__(x, y)\n",
    "        self.label = label\n",
    "\n",
    "    def __str__(self):\n",
    "        return '{point}-{label}'.format(point=super().__str__(), label=self.label)\n",
    "\n",
    "\n",
    "p1 = Point2D(3, 4)\n",
    "p2 = PolarPoint2D(5, 0.93)\n",
    "p3 = LabelledPoint2D(6, 8, 'Here')\n",
    "\n",
    "print('3 different kinds of points:', type(p1), p1, type(p2), p2, type(p3), p3)\n",
    "print('Polar coordinates: p1:', p1.polar_coord(), ' p2:', p2.polar_coord())\n",
    "print('Distance from', p1,'to', p2, ':', p1.distance(p2), ' and visa versa:', p2.distance(p1))\n",
    "print('Distance from', p1, 'to', p3, ':', p1.distance(p3), ' and visa versa:', p3.distance(p1))"
   ],
   "metadata": {
    "collapsed": false,
    "pycharm": {
     "name": "#%%\n"
    }
   }
  }
 ],
 "metadata": {
  "kernelspec": {
   "display_name": "Python 3",
   "language": "python",
   "name": "python3"
  },
  "language_info": {
   "codemirror_mode": {
    "name": "ipython",
    "version": 2
   },
   "file_extension": ".py",
   "mimetype": "text/x-python",
   "name": "python",
   "nbconvert_exporter": "python",
   "pygments_lexer": "ipython2",
   "version": "2.7.6"
  }
 },
 "nbformat": 4,
 "nbformat_minor": 0
}