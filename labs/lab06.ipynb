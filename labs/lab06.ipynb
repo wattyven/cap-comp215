{
 "cells": [
  {
   "attachments": {},
   "cell_type": "markdown",
   "metadata": {
    "collapsed": true,
    "pycharm": {
     "name": "#%% md\n"
    }
   },
   "source": [
    "COMP 215 - LAB 6 (Game of Life)\n",
    "-----------------------------------------------\n",
    "#### Name: Watson Li\n",
    "#### Date: 27 Feb 2023\n",
    "\n",
    "This lab exercise is an introduction to [Conway's Game of Life](https://en.wikipedia.org/wiki/Conway%27s_Game_of_Life) discovered and studied by [John Conway](https://en.wikipedia.org/wiki/John_Horton_Conway).\n",
    "\n",
    "**New Python concepts**:\n",
    "   * 2D numpy [array](https://numpy.org/doc/stable/reference/generated/numpy.array.html)\n",
    "   * basic [array operations](https://www.pluralsight.com/guides/overview-basic-numpy-operations)\n",
    "\n",
    "**New Computation concepts**:\n",
    "   * [2D sliding dot product](https://docs.scipy.org/doc/scipy/reference/generated/scipy.signal.correlate2d.html)\n",
    "   * [Animation](https://matplotlib.org/stable/api/animation_api.html)\n",
    "\n",
    "**Credits**:\n",
    "    Code examples based on [Think Complexity, 2nd edition](https://thinkcomplex.com).\n",
    "    Copyright 2016 Allen Downey, [MIT License](http://opensource.org/licenses/MIT)\n",
    "\n",
    "As usual, the first code cell simply imports all the modules we'll be using..."
   ]
  },
  {
   "cell_type": "code",
   "execution_count": 3,
   "metadata": {
    "collapsed": false,
    "pycharm": {
     "name": "#%%\n"
    }
   },
   "outputs": [],
   "source": [
    "import time\n",
    "import matplotlib\n",
    "import matplotlib.pyplot as plt\n",
    "from matplotlib import animation\n",
    "import numpy as np\n",
    "from scipy.signal import correlate2d\n",
    "\n",
    "%matplotlib inline\n",
    "# Configure matplotlib's animation library to work in the browser.\n",
    "matplotlib.rc('animation', html='jshtml')"
   ]
  },
  {
   "cell_type": "markdown",
   "metadata": {
    "collapsed": false,
    "pycharm": {
     "name": "#%% md\n"
    }
   },
   "source": [
    "A reusable function for plotting 2D numpy.array as an image..."
   ]
  },
  {
   "cell_type": "code",
   "execution_count": 4,
   "metadata": {
    "collapsed": false,
    "pycharm": {
     "name": "#%%\n"
    }
   },
   "outputs": [],
   "source": [
    "DEFAULT_IMSHOW_OPTIONS = dict(\n",
    "    cmap = 'Blues',\n",
    "    interpolation='none',\n",
    "    origin='upper',\n",
    ")\n",
    "\n",
    "def plot_2D_array(array, axes=None, title='', **options):\n",
    "    \"\"\" Plot the 2D array as an image on the given axes  1's will be dark blue, 0's will be light blue. \"\"\"\n",
    "    axes = axes or plt.gca()   # If not axes are provided, draw on current axes\n",
    "    axes.set_title(title)\n",
    "    axes.set_xticks([], [])  # remove axes tick marks\n",
    "    axes.set_yticks([], [])\n",
    "    options = {**DEFAULT_IMSHOW_OPTIONS, **options}\n",
    "    axes.imshow(array, **options)"
   ]
  },
  {
   "cell_type": "markdown",
   "metadata": {
    "collapsed": false,
    "pycharm": {
     "name": "#%% md\n"
    }
   },
   "source": [
    "## Life Fundamentals\n",
    "Both the textbook and our week6 notebooks develop some fundamental operations for simulating the Game of Life.\n",
    "Some of the code from `week6.ipynb` is reproduced here without deriving all the ideas - review `week6.ipynb` notebook for the full story.\n",
    "The sliding dot product algorithm in `step` is implemented with [scipy.signal.correlate2d](https://docs.scipy.org/doc/scipy/reference/generated/scipy.signal.correlate2d.html).  It's behaviour is identical to the derivation in `week6.ipynb`.\n",
    "\n",
    "#### Notes\n",
    "* we use `correlate2d(state, kernel, mode='same', boundary='wrap')` to pad state matrix with 1 value around perimeter from the opposite side of the matrix.\n",
    "* since the rule is a 1D `np.array`, we use \"vector indexing\" here to set the 'live' state transitions:  `next_state[[3, 12, 13]] = 1`"
   ]
  },
  {
   "cell_type": "code",
   "execution_count": 5,
   "metadata": {
    "collapsed": false,
    "pycharm": {
     "name": "#%%\n"
    }
   },
   "outputs": [],
   "source": [
    "class Life2D:\n",
    "    \"\"\" An basic 2D Cellular Automata that implementes Conway's Game of Life \"\"\"\n",
    "    kernel = np.array([[1, 1, 1],\n",
    "                       [1, 10, 1],\n",
    "                       [1, 1, 1]])\n",
    "\n",
    "    next_state = np.zeros(19, dtype=np.uint8)\n",
    "    next_state[[3, 12, 13]] = 1\n",
    "\n",
    "    def __init__(self, n_rows, n_cols=None):\n",
    "        \"\"\" Construct a n_rows x n_cols 2D CA \"\"\"\n",
    "        n_cols = n_cols or n_rows  # i.e., n_cols if n_cols is not None and n_cols != 0 else n_rows\n",
    "        self.state = np.zeros(shape=(n_rows, n_cols), dtype=np.uint8)\n",
    "\n",
    "    def step(self):\n",
    "        \"\"\"Executes one time step. \"\"\"\n",
    "        transitions = correlate2d(self.state, self.kernel, mode='same', boundary='wrap')\n",
    "        self.state = self.next_state[transitions]\n",
    "\n",
    "    def draw(self, axes=None, step=''):\n",
    "        axes = axes or plt.gca()   # use pyplot's current axes if none are provided.\n",
    "        plot_2D_array(self.state, axes, title=f\"Conway's Game of Life {step}\")"
   ]
  },
  {
   "cell_type": "markdown",
   "metadata": {
    "collapsed": false,
    "pycharm": {
     "name": "#%% md\n"
    }
   },
   "source": [
    "### Visualizing a 2D simulation model\n",
    "For 1D CAs, we could use a 2D image to visualize the CA progression over time.\n",
    "For 2D CAs, we could try using time as a 3rd axis to generate a 3D visualziation, but without VR, its hard to explore a 3D visualization.\n",
    "Instead, we'll use a simple 2D [\"stop motion\" animation](https://en.wikipedia.org/wiki/Animation).\n",
    "Here is a generic class that animates any 2D model that provides step() and draw() methods, and uses matplotlib to render its state.\n",
    "\n",
    "See [Matplotlib animation in Jupyter](https://www.allendowney.com/blog/2019/07/25/matplotlib-animation-in-jupyter/) by our textbook author for a discussion of the pros and cons of various animation techniques in jupyter notebooks."
   ]
  },
  {
   "cell_type": "code",
   "execution_count": 6,
   "metadata": {
    "collapsed": false,
    "pycharm": {
     "name": "#%%\n"
    }
   },
   "outputs": [],
   "source": [
    "class Animation2D:\n",
    "    \"\"\"\n",
    "      Animates any 2D model with a step() method and a draw() method, using matplotlib\n",
    "      model.step() should take no parameters - just step the model forward one step.\n",
    "      model.draw() should take 2 parameters, the matpltolib axes to draw on and an integer step number\n",
    "    \"\"\"\n",
    "\n",
    "    def __init__(self, model, frames=50, figsize=(8, 8)):\n",
    "        \"\"\"\n",
    "        :param model: the simulation object to animate, with step() and draw(axes, step) methods\n",
    "        :param frames: number of animation frames to generate\n",
    "        \"\"\"\n",
    "        self.model = model\n",
    "        self.frames = frames\n",
    "        self.fig, self.ax = plt.subplots(figsize=figsize)\n",
    "\n",
    "    def animation_step(self, step):\n",
    "        \"\"\" Step the model forward and draw the plot \"\"\"\n",
    "        if step > 0:\n",
    "            self.model.step()\n",
    "        self.model.draw(self.ax, step=step)\n",
    "\n",
    "    def show(self):\n",
    "        \"\"\" return the matplotlib animation object, ready for display \"\"\"\n",
    "        anim = animation.FuncAnimation(self.fig, self.animation_step, frames=self.frames)\n",
    "        plt.close()  # this ensures the last frame is not shown as a separate plot\n",
    "        return anim\n",
    "\n",
    "    def animate(self, interval=None):\n",
    "        \"\"\" Animate the model simulation directly in the notebook display block \"\"\"\n",
    "        from IPython.display import clear_output\n",
    "        try:\n",
    "            for i in range(self.frames):\n",
    "                clear_output(wait=True)  # clear the IPython display\n",
    "                self.ax.clear()          # clear old image from the axes (fixes a performance issue)\n",
    "                plt.figure(self.fig)     # add the figure back to pyplot ** sigh **\n",
    "                self.animation_step(i)\n",
    "                plt.show()               # show the current animation frame (pyplot then closes and throws away figure ** sigh **)\n",
    "                if interval:\n",
    "                    time.sleep(interval)\n",
    "        except KeyboardInterrupt:\n",
    "            pass"
   ]
  },
  {
   "cell_type": "markdown",
   "metadata": {
    "collapsed": false,
    "pycharm": {
     "name": "#%% md\n"
    }
   },
   "source": [
    "### Sample usage\n",
    "Animate a single glider..."
   ]
  },
  {
   "cell_type": "code",
   "execution_count": 7,
   "metadata": {
    "collapsed": false,
    "pycharm": {
     "name": "#%%\n"
    }
   },
   "outputs": [
    {
     "data": {
      "image/png": "[encoded data removed]",
      "text/plain": [
       "<Figure size 800x800 with 1 Axes>"
      ]
     },
     "metadata": {},
     "output_type": "display_data"
    }
   ],
   "source": [
    "size = 10\n",
    "life = Life2D(size)\n",
    "glider = np.array([[0, 1, 0], [0, 0, 1], [1, 1, 1]], dtype=np.uint8)\n",
    "life.state[1:4, 2:5] = glider             # bad idea to alter an objects state directly!  We'll improve it in Ex. 3\n",
    "gol = Animation2D(life, frames=20)\n",
    "gol.animate()"
   ]
  },
  {
   "cell_type": "markdown",
   "metadata": {
    "collapsed": false,
    "pycharm": {
     "name": "#%% md\n"
    }
   },
   "source": [
    "## Exercise 1:  Enumerate all Elementary 2D CA's\n",
    " * how many unique states are there for a 3x3 (9 cell) neighbourhood?\n",
    " * how many unique “rules” are there? (where a rule provides a mapping for each possible neighbourhood state to the output for the centre cell)\n",
    " * how does this number compare, for example, to the [number of atoms in the observable universe?](https://en.wikipedia.org/wiki/Observable_universe#Matter_content%E2%80%94number_of_atoms)\n",
    " * would it be a reasonable goal to conduct an experiment like Wolfram’s for 2D CA’s?\n",
    " * propose a numbering scheme for these rules, analogous to Wolfram’s rule numbers\n",
    " * how might we go about determining which rule number corresponds to Conway’s GoL?\n",
    "   (I’m not asking for the number, but rather for a method you could use to find it.)"
   ]
  },
  {
   "cell_type": "code",
   "execution_count": 8,
   "metadata": {
    "collapsed": false,
    "pycharm": {
     "name": "#%%\n"
    }
   },
   "outputs": [],
   "source": [
    "# Solutions for Ex. 1"
   ]
  },
  {
   "attachments": {},
   "cell_type": "markdown",
   "metadata": {},
   "source": [
    "For a 9 cell neighbourhood, there are 2^9 or 512 unique states.\n",
    "As there are 512 unique states, there are 2^512 rules.\n",
    "Both the number of rules as well as the number of atoms in the observable universe are numbers so large that it's practically pointless to think of them as regular numbers. They're simply too large to wrap your head around in a conventional manner.\n",
    "It would not be reasonable to conduct an experiment like Wolfram's as the amount of time it'd take is laughable.\n",
    "A practical numbering scheme for managing these rules would be to use a matrix to fit them all within 18 bits. \n"
   ]
  },
  {
   "cell_type": "markdown",
   "metadata": {
    "collapsed": false,
    "pycharm": {
     "name": "#%% md\n"
    }
   },
   "source": [
    "## Exercise 2: random_life\n",
    "Extend the Life2D class defined above to allow the game to be initialized with a random start state.\n",
    "The liklihood of any given cell being initialized to \"alive\" is given by $p$.\n",
    "*Hint*: we did this exact exercise for a 1D array in lab 5"
   ]
  },
  {
   "cell_type": "code",
   "execution_count": 9,
   "metadata": {
    "collapsed": false,
    "pycharm": {
     "name": "#%%\n"
    }
   },
   "outputs": [
    {
     "name": "stdout",
     "output_type": "stream",
     "text": [
      "[[0 0 1 0 0]\n",
      " [1 1 0 1 0]\n",
      " [0 1 1 0 0]\n",
      " [0 0 0 0 0]\n",
      " [0 1 1 1 0]]\n"
     ]
    },
    {
     "data": {
      "image/png": "[encoded data removed]",
      "text/plain": [
       "<Figure size 640x480 with 1 Axes>"
      ]
     },
     "metadata": {},
     "output_type": "display_data"
    }
   ],
   "source": [
    "# Solution for Ex. 2\n",
    "\n",
    "class BetterLife2D(Life2D):\n",
    "    \"\"\" Improvements on the basic Life2D model \"\"\"\n",
    "\n",
    "    def randomize_state(self, p):\n",
    "        \"\"\" Randomize the state of this GoL, where probability of a \"live\" cell is p \"\"\"\n",
    "        self.state = np.random.choice([0, 1], size=self.state.shape, p=[1-p, p])\n",
    "        \n",
    "\n",
    "\n",
    "def random_life(n_rows, n_cols=None, p=0.5):\n",
    "    \"\"\" Return a Life2D object of given dimensions with initial randomized state where \"live\" cells have probability p \"\"\"\n",
    "    matrix = Life2D(5)\n",
    "    matrix.state = BetterLife2D(n_rows, n_cols).randomize_state(p)\n",
    "    return matrix\n",
    "\n",
    "betterlifetest = BetterLife2D(5)\n",
    "betterlifetest.randomize_state(0.5)\n",
    "print(betterlifetest.state)\n",
    "betterlifetest.draw()"
   ]
  },
  {
   "cell_type": "markdown",
   "metadata": {
    "collapsed": false,
    "pycharm": {
     "name": "#%% md\n"
    }
   },
   "source": [
    "### Experiment\n",
    "Run a small experiment to see if you can identify any relationship between $p$, the probability of a live cell in the initial grid, and the time it takes for the GoL pattern to stabilize."
   ]
  },
  {
   "cell_type": "code",
   "execution_count": 10,
   "metadata": {
    "collapsed": false,
    "pycharm": {
     "name": "#%%\n"
    }
   },
   "outputs": [],
   "source": [
    "# write code for your experiment here\n",
    "# An overly high value for p will cause the game of life to eventually fill the entire grid and become overpopulated. An overly low value for p will cause the game of life to eventually die out due to underpopulation.\n",
    "# These thresholds are not equal - the threshold for overpopulation is lower than the threshold for underpopulation. \n",
    "# p seems to have an ideal range of 0.4-0.6, where it takes the longest to stabilize - overpopulation occurs at higher values closer to 0.8-0.9 (1 cycle or so), underpopulation at 0.1 or so (for the game to end in 1 cycle)\n",
    "# and at intermediate lower values closer to 0.2-0.3, the game would take a few more cycles (but would invariably still eventually stabilize)"
   ]
  },
  {
   "cell_type": "markdown",
   "metadata": {
    "collapsed": false,
    "pycharm": {
     "name": "#%% md\n"
    }
   },
   "source": [
    "## Exercise 3: Load Patterns\n",
    "People have discovered many interesting [\"patterns\"](https://conwaylife.com/wiki/Category:Patterns) that exhibit various types of behaviours.\n",
    "A \"pattern\" is just a small 2D array.\n",
    " 1. Develop a function that returns a 2D array containing the patterns defined by a single string; and\n",
    " 2. Add an `load_pattern(x, y, pattern)` method to your BetterLife2D class above to insert patterns into the Life state array\n",
    "    *Tip*: you can [assign an entire 2D slice of a numpy array](https://www.nickmccullum.com/advanced-python/numpy-indexing-assignment/) in a single assignment statement!   See example in the Sample Usage block above. Try it!"
   ]
  },
  {
   "cell_type": "code",
   "execution_count": 15,
   "metadata": {
    "collapsed": false,
    "pycharm": {
     "name": "#%%\n"
    }
   },
   "outputs": [
    {
     "data": {
      "text/plain": [
       "array([[0, 1, 0],\n",
       "       [0, 0, 1],\n",
       "       [1, 1, 1]])"
      ]
     },
     "execution_count": 15,
     "metadata": {},
     "output_type": "execute_result"
    }
   ],
   "source": [
    "# Here's an example of the glider pattern from above defined in a single string...\n",
    "glider_pattern = \\\n",
    "    \"\"\"\n",
    "    010\n",
    "    001\n",
    "    111\n",
    "    \"\"\"\n",
    "\n",
    "# Solution for Ex. 3\n",
    "def str_to_2da(string):\n",
    "    '''strips whitespace and converts integer values in a string to a 2D numpy array'''\n",
    "    return np.array([[int(x) for x in line.strip()] for line in string.splitlines() if line.strip()])\n",
    "\n",
    "str_to_2da(glider_pattern)"
   ]
  },
  {
   "cell_type": "markdown",
   "metadata": {
    "collapsed": false,
    "pycharm": {
     "name": "#%% md\n"
    }
   },
   "source": [
    "### Define some patterns\n",
    "User your nifty new function to define a few common, interesting patterns (e.g., from the book or other sources)"
   ]
  },
  {
   "cell_type": "code",
   "execution_count": 16,
   "metadata": {
    "collapsed": false,
    "pycharm": {
     "name": "#%%\n"
    }
   },
   "outputs": [
    {
     "data": {
      "text/plain": [
       "array([[0, 1, 0, 1, 0, 1, 0, 1, 0],\n",
       "       [1, 0, 1, 1, 0, 1, 1, 0, 1],\n",
       "       [1, 0, 0, 0, 0, 0, 0, 0, 1],\n",
       "       [0, 1, 1, 1, 1, 1, 1, 1, 0],\n",
       "       [0, 0, 0, 0, 0, 0, 0, 0, 0],\n",
       "       [0, 1, 1, 1, 1, 1, 1, 1, 0],\n",
       "       [1, 0, 0, 0, 0, 0, 0, 0, 1],\n",
       "       [1, 0, 1, 1, 0, 1, 1, 0, 1],\n",
       "       [0, 1, 0, 1, 0, 1, 0, 1, 0]])"
      ]
     },
     "execution_count": 16,
     "metadata": {},
     "output_type": "execute_result"
    }
   ],
   "source": [
    "# define your patterns here\n",
    "sym_synapse = \\\n",
    "    \"\"\"\n",
    "    010101010\n",
    "    101101101\n",
    "    100000001\n",
    "    011111110\n",
    "    000000000\n",
    "    011111110\n",
    "    100000001\n",
    "    101101101\n",
    "    010101010\n",
    "    \"\"\"\n",
    "\n",
    "# sourced: https://conwaylife.com/wiki/List_of_integer_constructions\n",
    "# from https://conwaylife.com/wiki/Category:Lists_of_patterns\n",
    "\n",
    "str_to_2da(sym_synapse)\n",
    "    "
   ]
  },
  {
   "cell_type": "markdown",
   "metadata": {
    "collapsed": false,
    "pycharm": {
     "name": "#%% md\n"
    }
   },
   "source": [
    "### Experiment\n",
    "Load up a BetterLife2D object with some patterns that interact in some interesting way.\n",
    "What can we learn from studying interactions like this?   Is anything here applicable to the real world?"
   ]
  },
  {
   "cell_type": "code",
   "execution_count": 13,
   "metadata": {
    "collapsed": false,
    "pycharm": {
     "name": "#%%\n"
    }
   },
   "outputs": [],
   "source": [
    "# code for your experiment here"
   ]
  }
 ],
 "metadata": {
  "kernelspec": {
   "display_name": "Python 3",
   "language": "python",
   "name": "python3"
  },
  "language_info": {
   "codemirror_mode": {
    "name": "ipython",
    "version": 3
   },
   "file_extension": ".py",
   "mimetype": "text/x-python",
   "name": "python",
   "nbconvert_exporter": "python",
   "pygments_lexer": "ipython3",
   "version": "3.11.0"
  },
  "vscode": {
   "interpreter": {
    "hash": "8c2f246d3ce420063ed954338bc2bac546d72c83e6af55e115a8c50b3a9eb1f4"
   }
  }
 },
 "nbformat": 4,
 "nbformat_minor": 0
}
