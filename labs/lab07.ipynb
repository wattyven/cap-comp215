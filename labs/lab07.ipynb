{
 "cells": [
  {
   "cell_type": "markdown",
   "metadata": {
    "collapsed": false
   },
   "source": [
    "# Labs 7 - 10: A CA model of Natural Disturbance\n",
    "In [1990](https://doi.org/10.1016/0375-9601(90)90451-S) Bak, Chen and Tang proposed a cellular automaton that is an abstract model of a forest fire. Each cell is in one of three states: empty, occupied by forest, or on fire.\n",
    "\n",
    "3 ecological processes are modelled: forest regeneration, fire ignition, and fire spread\n",
    "\n",
    "  * empty cells \"regenerate\" forest at a fixed rate, $p$\n",
    "  * forest fires ignite with a regular but small frequency, $f$\n",
    "  * forested cells catch fire when their neighbours are burning, and burn out in one time step.\n",
    "\n",
    "Over the remainder of term, we will develop 2D CA class that implements this model and run computational experiments on the spatial and temporal patterns that emerge."
   ]
  },
  {
   "cell_type": "code",
   "execution_count": null,
   "metadata": {
    "collapsed": true
   },
   "outputs": [],
   "source": [
    "%matplotlib inline\n",
    "\n",
    "import time\n",
    "from pprint import pprint\n",
    "\n",
    "import matplotlib\n",
    "import matplotlib.pyplot as plt\n",
    "import numpy as np\n",
    "from matplotlib import animation\n",
    "import scipy as sp\n",
    "\n",
    "# Configure matplotlib's animation library to work in the browser.\n",
    "matplotlib.rc('animation', html='jshtml')"
   ]
  },
  {
   "cell_type": "markdown",
   "metadata": {
    "collapsed": false,
    "pycharm": {
     "name": "#%% md\n"
    }
   },
   "source": [
    "### Helpers\n",
    "Some useful, re-usable bits of code developed in previous notebooks..."
   ]
  },
  {
   "cell_type": "code",
   "execution_count": null,
   "metadata": {
    "collapsed": false,
    "pycharm": {
     "name": "#%%\n"
    }
   },
   "outputs": [],
   "source": [
    "DEFAULT_IMSHOW_OPTIONS = dict(\n",
    "    cmap='Blues',\n",
    "    interpolation='none',\n",
    "    origin='upper',\n",
    ")\n",
    "\n",
    "\n",
    "def plot_2D_array(array, axes=None, title='', **options):\n",
    "    \"\"\" Plot the 2D array as an image on the given axes  1's will be dark blue, 0's will be light blue. \"\"\"\n",
    "    axes = axes or plt.gca()  # If not axes are provided, draw on current axes\n",
    "    axes.set_title(title)\n",
    "    axes.set_xticks([], [])  # remove axes tick marks\n",
    "    axes.set_yticks([], [])\n",
    "    options = {**DEFAULT_IMSHOW_OPTIONS, **options}\n",
    "    axes.imshow(array, **options)"
   ]
  },
  {
   "cell_type": "code",
   "execution_count": null,
   "metadata": {
    "collapsed": false,
    "pycharm": {
     "name": "#%%\n"
    }
   },
   "outputs": [],
   "source": [
    "class Animation2D:\n",
    "    \"\"\"\n",
    "      Animates any 2D model with a step() method and a draw() method, using matplotlib\n",
    "      model.step() should take no parameters - just step the model forward one step.\n",
    "      model.draw() should take 2 parameters, the matpltolib axes to draw on and an integer step number\n",
    "\n",
    "      See https://www.allendowney.com/blog/2019/07/25/matplotlib-animation-in-jupyter/\n",
    "          for a discussion of the pros and cons of various animation techniques in jupyter notebooks\n",
    "    \"\"\"\n",
    "\n",
    "    def __init__(self, model, frames=50, steps_per_frame=1, figsize=(8, 8)):\n",
    "        \"\"\"\n",
    "        :param model: the simulation object to animate, with step() and draw(axes, step) methods\n",
    "        :param frames: number of animation frames to generate\n",
    "        \"\"\"\n",
    "        self.model = model\n",
    "        self.frames = frames\n",
    "        self.steps_per_frame = steps_per_frame\n",
    "        self.fig, self.ax = plt.subplots(figsize=figsize)\n",
    "\n",
    "    def animation_step(self, step):\n",
    "        \"\"\" Step the model forward and draw the plot \"\"\"\n",
    "        if step > 0:\n",
    "            for _ in range(self.steps_per_frame):\n",
    "                self.model.step()\n",
    "        self.model.draw(self.ax, step=step * self.steps_per_frame)\n",
    "\n",
    "    def show(self):\n",
    "        \"\"\" return the matplotlib animation object, ready for display \"\"\"\n",
    "        anim = animation.FuncAnimation(self.fig, self.animation_step, frames=self.frames)\n",
    "        plt.close()  # this ensures the last frame is not shown as a separate plot\n",
    "        return anim\n",
    "\n",
    "    def animate(self, interval=None):\n",
    "        \"\"\" Animate the model simulation directly in the notebook display block \"\"\"\n",
    "        from IPython.display import clear_output\n",
    "        try:\n",
    "            for i in range(self.frames):\n",
    "                clear_output(wait=True)  # clear the IPython display\n",
    "                self.ax.clear()  # clear old image from the axes (fixes a performance issue)\n",
    "                plt.figure(self.fig)  # add the figure back to pyplot ** sigh **\n",
    "                self.animation_step(i)\n",
    "                plt.show()  # show the current animation frame (pyplot then closes and throws away figure ** sigh **)\n",
    "                if interval:\n",
    "                    time.sleep(interval)\n",
    "        except KeyboardInterrupt:\n",
    "            pass"
   ]
  },
  {
   "cell_type": "markdown",
   "metadata": {
    "collapsed": false,
    "pycharm": {
     "name": "#%% md\n"
    }
   },
   "source": [
    "# Lab 7:  Implementing the Bak, Chen, Tang Model\n",
    "\n",
    "In this lab we will implement a 2D CA model using the same techniques as the GoL, Diffusion, and Percolation models.\n",
    "We are setting up the model we will use in future labs to run some computational experiments to answer questions about this system."
   ]
  },
  {
   "cell_type": "markdown",
   "metadata": {
    "collapsed": false
   },
   "source": [
    "## Ex. 7.1: Define the Cellular Automata\n",
    "This 2D CA will be similar to those we've seen before.\n",
    "\n",
    "1. Define the kernel (correlation matrix) to compute the spread of fire\n",
    "    * what do we need to know about a cell's neighbourhood to know if it should catch fire?\n",
    "    * how can we encode that using a dot product with a 3 x 3 correlation matrix?\n",
    "\n",
    "2. The step function will be more complex because it must implement the **4 rules**:\n",
    "\n",
    "  *  An empty cell becomes occupied with probability $p$.\n",
    "  *  An occupied cell spontaneously burns, with probability $f$, even if none of its neighbors is on fire.\n",
    "  *  An occupied cell that is on fire becomes an empty cell in the next time step.\n",
    "  *  A occupied catches fire if any of its neighbors is on fire.\n",
    "\n",
    "Typical values for the parameters are $p=0.01$ and $f=0.001$"
   ]
  },
  {
   "cell_type": "code",
   "execution_count": null,
   "metadata": {
    "collapsed": false,
    "pycharm": {
     "name": "#%%\n"
    }
   },
   "outputs": [],
   "source": [
    "class ForestFire:\n",
    "    \"\"\" 2D Cellular Automaton that simulates a fire-dominated landscape \"\"\"\n",
    "\n",
    "    # Define names for the 3 possible cell states\n",
    "    EMPTY = 0\n",
    "    OCCUPIED = 1\n",
    "    FIRE = 5\n",
    "\n",
    "    # Define a colour map that maps each cell state to an intuitive colour.\n",
    "    cmap = [(1, 0.5, 0), (0, 1, 0), (0, 0, 0), (0, 0, 0), (0, 0, 0), (1, 0, 0)]\n",
    "    cmap[EMPTY] = (1, 0.5, 0)  # brown\n",
    "    cmap[OCCUPIED] = (0, 1, 0)  # green\n",
    "    cmap[FIRE] = (1, 0, 0)  # red\n",
    "    forest_colour_map = matplotlib.colors.ListedColormap(cmap)\n",
    "\n",
    "    # TODO: define a sensible correlation kernel\n",
    "    kernel = np.array([[0, 0, 0],\n",
    "                       [0, 0, 0],\n",
    "                       [0, 0, 0]])\n",
    "\n",
    "\n",
    "    def __init__(self, n, p=0.01, f=0.001, q=0.5):\n",
    "        \"\"\"Initializes the model.\n",
    "\n",
    "        n: number of rows\n",
    "        p: probability an empty cells becomes \"forested\" (occupied)\n",
    "        f: probability of spontaneous file (e.g., 1/fire ignition interval)\n",
    "        q: initial forest density (probability cell is \"forested\" in initial state)\n",
    "        \"\"\"\n",
    "        self.p = p\n",
    "        self.f = f\n",
    "        # initialize landscape with approx. q proportion of cells OCCUPIED\n",
    "        self.state = np.random.choice([self.OCCUPIED, self.EMPTY], (n, n), p=[q, 1 - q])\n",
    "\n",
    "\n",
    "    def step(self):\n",
    "        \"\"\"Executes one time step, applying the CA rules to regenerate and burn forest.\"\"\"\n",
    "        # TODO: define the rules for the CA.  This is a significant challenge b/c there are 4 rules and they must act independently!\n",
    "        # Tips: develop 1 rule at a time, in the order above, leaving fire spread (correlation) till last.\n",
    "        #       Compute each rule in 2 steps: (1) identify which cells the rule applies to; (2) update those cells.\n",
    "        #       Use the next code block, below, to test as you go.\n",
    "        self.FIRE = 10 # we'll be using this later with sp.signal.correlate2d\n",
    "        hotspots = np.where(self.state == self.FIRE) # find all cells that are on fire, we'll use these later\n",
    "        # let's seed those empty cells with a probability of p\n",
    "        self.state[np.where(self.state == self.EMPTY)] = np.random.choice([self.OCCUPIED, self.EMPTY], size=len(np.where(self.state == self.EMPTY)[0]), p=[self.p, 1 - self.p])\n",
    "        # let occupied cells spontaneously catch fire with probability f\n",
    "        self.state[np.where(self.state == self.OCCUPIED)] = np.random.choice([self.OCCUPIED, self.FIRE], size=len(np.where(self.state == self.OCCUPIED)[0]), p=[1 - self.f, self.f])\n",
    "        # if an occupied cell is adjacent to a fire cell, it catches fire\n",
    "        fire_check = sp.signal.correlate2d(self.state, self.kernel, mode='same', boundary='wrap')\n",
    "        alight = (self.state == self.OCCUPIED) & (fire_check > 0)\n",
    "        self.state[alight] = self.FIRE\n",
    "        # set our hotspots to empty as our trees have burned down\n",
    "        self.state[hotspots] = self.EMPTY\n",
    "        # something is scuffed here right now, i probably shouldnt be trying to fit everything into one-liners\n",
    "        \n",
    "        \n",
    "    def num_occupied(self):\n",
    "        \"\"\" return the number of cells occupied by forest \"\"\"\n",
    "        return 0  # TODO: count the number of forested cells.\n",
    "\n",
    "\n",
    "    def pct_occupied(self):\n",
    "        \"\"\" return the proportion of cells occupied by forest \"\"\"\n",
    "        return self.num_occupied() / self.state.size\n",
    "\n",
    "\n",
    "    def draw(self, axes=None, step=''):\n",
    "        \"\"\"Draws the CA cells using the forest colour map so values are coloured intuitively.\"\"\"\n",
    "        axes = axes or plt.axes\n",
    "        title = f'Time:{step} Occupied: {round(self.pct_occupied() * 100, 2)}%'\n",
    "        plot_2D_array(self.state, axes=axes, title=title,\n",
    "                      cmap=self.forest_colour_map, vmin=0, vmax=len(self.forest_colour_map.colors))"
   ]
  },
  {
   "cell_type": "code",
   "execution_count": null,
   "metadata": {
    "collapsed": false,
    "pycharm": {
     "name": "#%%\n"
    }
   },
   "outputs": [],
   "source": [
    "# Code-a-little Test-a-little - use this space to test your class methods as you develop them.  You can remove this block when done.\n",
    "m = ForestFire(3, p=0.5, f=0.2)  #  a very small model with high chance of regen. and spontaneous fires\n",
    "m.state = np.array([             # set the state matrix to a known value for testing with\n",
    "    [0, 1, 0],\n",
    "    [1, 1, 0],\n",
    "    [5, 0, 1],\n",
    "\n",
    "])\n",
    "m.step()                          # test the method you are working on and print some useful indicator\n",
    "pprint(m.state)"
   ]
  },
  {
   "cell_type": "markdown",
   "metadata": {
    "collapsed": false
   },
   "source": [
    "## Ex. 7.2: Animation\n",
    "Create a simple animation (using Animate2D class provided) so we can visualize and verify the system dynamics"
   ]
  },
  {
   "cell_type": "code",
   "execution_count": 63,
   "metadata": {
    "collapsed": false,
    "pycharm": {
     "name": "#%%\n"
    }
   },
   "outputs": [
    {
     "data": {
      "image/png": "[encoded data removed]",
      "text/plain": [
       "<Figure size 800x800 with 1 Axes>"
      ]
     },
     "metadata": {},
     "output_type": "display_data"
    }
   ],
   "source": [
    "# Ex. 7.2 here\n",
    "#  Suggestions: use a small grid (e.g., 20x20)  and\n",
    "#               a short animation (100 frames) with interval=0.3, to slow it down so you can inspect its behaviour\n",
    "\n",
    "fire = Animation2D(ForestFire(20, p=0.5, f=0.2), frames=100, steps_per_frame=1)\n",
    "fire.animate(interval=0.3)"
   ]
  },
  {
   "attachments": {},
   "cell_type": "markdown",
   "metadata": {
    "collapsed": false,
    "pycharm": {
     "name": "#%% md\n"
    }
   },
   "source": [
    "### Question 7.3:\n",
    "In what ways is this model similar to Diffusion and/or Percolation?\n",
    "What kinds of behaviours might we predict from this more complex model based on what we learned from the simpler Diffusion and/or Precolation models?\n",
    "Provide concise (brief, point-form) answers below:\n",
    "\n",
    "#### Answers:\n",
    "\n",
    "much like diffusion, our model spreads over time, but rather than following simple rules, the rules for our forest fire are slightly more complex - we have to check for presence of trees, evaluate whether or not they've burned down already and are unavailable for spread, etc.\n",
    "\n",
    "we can also note that our forest fire grows rather slowly initially, as it requires more propagation of the medium before its rate of spread can increase. \n"
   ]
  },
  {
   "cell_type": "markdown",
   "metadata": {
    "collapsed": false,
    "pycharm": {
     "name": "#%% md\n"
    }
   },
   "source": [
    "-------------------"
   ]
  },
  {
   "cell_type": "markdown",
   "metadata": {
    "collapsed": false,
    "pycharm": {
     "name": "#%% md\n"
    }
   },
   "source": [
    "# Lab 8:  Temporal Dynamics: Stability and Equilibrium\n",
    "\n",
    "The [dynamics](https://en.wikipedia.org/wiki/System_dynamics) of a system describe how it changes over time.  In mathematics, we typically express dyanamics with differential equations (i.e., expressing change over time).  In computation, we typically use a simulation model, like the one developed in Lab 7.\n",
    "\n",
    "Please watch: [Basic System Dyanmics (15 min)](https://youtu.be/qlRM1JlxfkU) for a quick introduction to these concepts.\n",
    "\n",
    "---------------------\n",
    "In this lab we will explore the patterns our `ForestFire` model traces out over time.  We'll try to determine if the model is stable or chaotic, whether there are any circumstances where it reaches [equilibirum](https://en.wikipedia.org/wiki/Mechanical_equilibrium)"
   ]
  },
  {
   "cell_type": "markdown",
   "metadata": {
    "collapsed": false
   },
   "source": [
    "## Ex. 8.1: Exploratory Analysis\n",
    "Explore the behaviour of the model we defined above.\n",
    " 1. Alter the model's initial conditions - how does the behaviour change depending on the initial proportion of forested vs. empty cells?\n",
    " 2. Alter the regeneration and fire frequency parameters, $p$ and $f$, to see how this changes the model behaviour - how does the behaviour change as you increase or decrease each of these model parameters?"
   ]
  },
  {
   "cell_type": "code",
   "execution_count": null,
   "metadata": {
    "collapsed": false,
    "pycharm": {
     "name": "#%%\n"
    }
   },
   "outputs": [],
   "source": [
    "# Ex. 8.1 here"
   ]
  },
  {
   "cell_type": "markdown",
   "metadata": {
    "collapsed": false
   },
   "source": [
    "## Ex. 8.2: Steady State\n",
    "Many complex systems never achieve a static [equilibirum](https://en.wikipedia.org/wiki/Mechanical_equilibrium), instead their state fluctuates around a value, called an [\"attractor\"](https://en.wikipedia.org/wiki/Attractor).  A system that is not trending is said to be in [\"steady state\"](https://en.wikipedia.org/wiki/Steady_state).\n",
    "Starting from a random initial condition, run the model until it reaches a \"steady state\" where the number of occupied cells is no longer trending (consistently increasing or decreasing).\n",
    "\n",
    "Design an experimental setup that allows you to detect when the system is in steady state with respect to the number of forested cells.\n",
    "This need not be fancy and need not automate the detection of steady state, so long as it provides some output that allows you to detect how long it takes for the system to settle into an equilibrium or cyclical pattern."
   ]
  },
  {
   "cell_type": "code",
   "execution_count": null,
   "metadata": {
    "collapsed": false,
    "pycharm": {
     "name": "#%%\n"
    }
   },
   "outputs": [],
   "source": [
    "# Ex. 8.2 here"
   ]
  },
  {
   "cell_type": "markdown",
   "metadata": {
    "collapsed": false,
    "pycharm": {
     "name": "#%% md\n"
    }
   },
   "source": [
    "### Question 8.3:\n",
    "Starting with a uniform random landscape, $q$ = 0.5, find the steady state proportion of forested cells of this system for 3 different combinations of $p$ and $f$, and the approx. number of time steps required to reach steady state.\n",
    "Fill in the table below with your experimental results:\n",
    "\n",
    "| p  | f   | steady-state | time steps | Cyclical? |\n",
    "|----|-----|--------------|------------|-----------|\n",
    "| 0.01 | 0.001 | ?        | ?          | ?         |\n",
    "| ?  | ?   | ?            | ?          | ?         |\n",
    "| ?  | ?   | ?            | ?          | ?         |\n"
   ]
  },
  {
   "cell_type": "markdown",
   "metadata": {
    "collapsed": false,
    "pycharm": {
     "name": "#%% md\n"
    }
   },
   "source": [
    "## Ex. 8.4: Stability\n",
    "A system is [\"stable\"](https://en.wikipedia.org/wiki/Ecological_stability) if it returns to its former steady state after a [disturbance](https://en.wikipedia.org/wiki/Disturbance_(ecology))\n",
    "\n",
    "A disturbance in our case might be an extreme fire year or an insect outbreak that changes the forest's susceptibility to fire, or several years of reduced regeneration due to a soil fungus killing seedlings.\n",
    "How could you emulate a disturbance like this in your model?  If you want to modify the model in some way, that's OK, but you may also find ways to emulate a disturbance as an \"external forcing function\".\n",
    "\n",
    "Run your model to steady-state, then emulate a major disturbance (over one or more time steps) to \"perturb\" the system away from its steady state.  Remove the external force and measure how long it takes for the system to return to steady state."
   ]
  },
  {
   "cell_type": "code",
   "execution_count": null,
   "metadata": {
    "collapsed": false,
    "pycharm": {
     "name": "#%%\n"
    }
   },
   "outputs": [],
   "source": [
    "# Ex. 8.4 here"
   ]
  },
  {
   "cell_type": "markdown",
   "metadata": {
    "collapsed": false,
    "pycharm": {
     "name": "#%% md\n"
    }
   },
   "source": [
    "### Question 8.4:\n",
    "Does the model tend to return to the same steady-state, or does the attractor move to a different value?\n",
    "How long does it take for the model to return to steady-state dynamics?\n",
    "Does it appear to matter to these results how large the disturbance is?\n",
    "What does that tell you about the number of \"attractors\" in this system?\n",
    "\n",
    "#### Answers:\n"
   ]
  },
  {
   "cell_type": "markdown",
   "metadata": {
    "collapsed": false,
    "pycharm": {
     "name": "#%% md\n"
    }
   },
   "source": [
    "-----------------"
   ]
  },
  {
   "cell_type": "markdown",
   "metadata": {
    "collapsed": false,
    "pycharm": {
     "name": "#%% md\n"
    }
   },
   "source": [
    "# Lab 9: Patch Size Distribution\n",
    "\n",
    "The spatial patterns that emerge from this model tends to be landscapes with patches of forested and un-forested land of varying size.  A question naturally arises about this pattern:\n",
    "  * what is the size of patches created by fire?\n",
    "    This will alos tell us something about forest [fragmentation](https://en.wikipedia.org/wiki/Habitat_fragmentation), which impacts wildlife habitat, for example.\n",
    "\n",
    "Notice that rather than a single number, we will get a [distribution](https://en.wikipedia.org/wiki/Probability_distribution) of values for patch sizes.  The shape of this distribution emerges from the system dynamics, and serves as a way to compare our model results with empirical observations of patch-size distributions in real ecosystems.\n",
    "\n",
    "In this lab we will explore the spatial patterns our `ForestFire` model makes.  We'll ask if these patterns have a [heavy-tail distribution](https://en.wikipedia.org/wiki/Heavy-tailed_distribution) and thus exhibit [self-organizing criticality](https://en.wikipedia.org/wiki/Self-organized_criticality)"
   ]
  },
  {
   "cell_type": "markdown",
   "metadata": {
    "collapsed": false,
    "pycharm": {
     "name": "#%% md\n"
    }
   },
   "source": [
    "### Identifying Contiguous Patches\n",
    "\n",
    "This is a surprisingly challenging problem to solve in the general case given how good our visual system is at identifying them!\n",
    "The idea I had here was to start by giving each forested cell a unique value, then \"grow\" patches by allowing the smallest of these unique values to propagate to neighbouring cells.  Repeat until the propagation is finished.  In the end, all the cells in each contiguous patch have the same, unique identifier.\n",
    "Notice that this is a modified diffusion / percolation algorithm - they are actually useful!"
   ]
  },
  {
   "cell_type": "code",
   "execution_count": null,
   "metadata": {
    "collapsed": false,
    "pycharm": {
     "name": "#%%\n"
    }
   },
   "outputs": [],
   "source": [
    "neighbourhood = np.array([\n",
    "    [0, 1, 0],\n",
    "    [1, 1, 1],\n",
    "    [0, 1, 0],\n",
    "])\n",
    "\n",
    "\n",
    "def min_neighbour(a):\n",
    "    \"\"\" Return the smallest non-zero neighbourhood value or 0 if centre cell is a zero \"\"\"\n",
    "    p = a * neighbourhood\n",
    "    centre = tuple(d // 2 for d in a.shape)\n",
    "    return np.min(p[p > 0]) if a[centre] else 0\n",
    "\n",
    "\n",
    "def consolidate(array):\n",
    "    \"\"\" return copy of array with adjacent cells consolidated into a patch with the lowest value among occupied neighbours \"\"\"\n",
    "    rows, cols = array.shape\n",
    "    k = neighbourhood.shape[0]\n",
    "    array = np.pad(array, 1, 'constant')\n",
    "    return np.array([\n",
    "        [min_neighbour(array[row:row + k, col:col + k]) for col in range(cols)]\n",
    "        for row in range(rows)\n",
    "    ])\n",
    "\n",
    "\n",
    "def patchify(array, patch_category):\n",
    "    \"\"\" Return an array with each contiguous patch identified by a unique integer\n",
    "    array:  array of int categorical values\n",
    "    category: the category value to identify patches for\n",
    "\n",
    "    return: array of same shape with a unique value identifying cells in each patch and zeros elsewhere\n",
    "    \"\"\"\n",
    "    patches = np.zeros(array.shape, dtype=np.uint)\n",
    "    # assign each cell that falls in a patch a unique number, 1 .. N\n",
    "    patches[array == patch_category] = range(1, len(array[array == patch_category]) + 1)\n",
    "\n",
    "    patches_growing = np.array([True, ])\n",
    "    while np.any(patches_growing):\n",
    "        prev_patches = patches\n",
    "        patches = consolidate(prev_patches)\n",
    "        patches_growing = patches != prev_patches  # patches are growning until consolidate algorithm stabilizes.\n",
    "\n",
    "    return patches"
   ]
  },
  {
   "cell_type": "markdown",
   "metadata": {
    "collapsed": false,
    "pycharm": {
     "name": "#%% md\n"
    }
   },
   "source": [
    "## Ex. 9.1 Patch Size Distribution\n",
    "\n",
    "Run your model to steady-state, and `patchify` the model state.\n",
    "You might want to plot these beside each other to verify that `patchify` is working as expected.\n",
    "\n",
    "With a unique value assigned to each patch, we can tally up the size of each patch simply by counting the number of cells for each unique value.\n",
    "*Tip*: use [numpy.unique](https://numpy.org/doc/stable/reference/generated/numpy.unique.html), with `return_counts=True`, which does exactly the job we want.\n",
    "\n",
    "Once you have an array of patch-size counts, create a histogram to display the distribution of patch sizes.\n",
    "You could feed the raw patch-size count data to [pyplot.hist](https://matplotlib.org/stable/api/_as_gen/matplotlib.pyplot.hist.html), but you'll get a much nicer graph if you tally the number of patches in each size class yourself and use [pyplot.bar](https://matplotlib.org/stable/api/_as_gen/matplotlib.pyplot.bar.html) to do the plotting.\n",
    "*Tip*: `np.unique` will also tally up the number of patches in each size class from the patch-size array!"
   ]
  },
  {
   "cell_type": "code",
   "execution_count": null,
   "metadata": {
    "collapsed": false,
    "pycharm": {
     "name": "#%%\n"
    }
   },
   "outputs": [],
   "source": [
    "# Ex. 9.1 here"
   ]
  },
  {
   "cell_type": "markdown",
   "metadata": {
    "collapsed": false,
    "pycharm": {
     "name": "#%% md\n"
    }
   },
   "source": [
    "## Ex. 9.2 Heavy-tailed distribution?\n",
    "The textbook author published a small Python package that encapsulates some of the work we did above to compute the \"empirical distribution\" from an array of data.  In paricular, his `PMF()` ([Probability Mass Function](https://en.wikipedia.org/wiki/Probability_mass_function)) function converts an array of unique values into an emirical distribution suitable for plotting\n",
    "\n",
    "You can see how this function is used in Ch. 10.5.\n",
    "And/Or check how it is used in the [chap10.ipynb notebook](https://github.com/pearcej/complex-colab/blob/master/notebooks/chap10.ipynb) in the complex-colab repo.\n",
    "And/Or look at the [API Documentation](https://nbviewer.org/github/AllenDowney/empiricaldist/blob/master/empiricaldist/dist_demo.ipynb)"
   ]
  },
  {
   "cell_type": "code",
   "execution_count": null,
   "metadata": {
    "collapsed": false,
    "pycharm": {
     "name": "#%%\n"
    }
   },
   "outputs": [],
   "source": [
    "# from empiricaldist import Pmf"
   ]
  },
  {
   "cell_type": "markdown",
   "metadata": {
    "collapsed": false,
    "pycharm": {
     "name": "#%% md\n"
    }
   },
   "source": [
    "Create a plot of the patch size distribution, both on a linear and log-log scale, similar to the example in Ch. 10.5"
   ]
  },
  {
   "cell_type": "code",
   "execution_count": null,
   "metadata": {
    "collapsed": false,
    "pycharm": {
     "name": "#%%\n"
    }
   },
   "outputs": [],
   "source": [
    "# Ex. 9.2 here"
   ]
  },
  {
   "cell_type": "markdown",
   "metadata": {
    "collapsed": false,
    "pycharm": {
     "name": "#%% md\n"
    }
   },
   "source": [
    "### Question 9.3\n",
    "\n",
    "Does the patch size distribution appear to follow the power law?\n",
    "Does it show any signs of being a \"heavy-tailed\" distribution?\n",
    "If it does, what might the implications be for our understanding of the dynamics of real forest ecosystems?\n",
    "\n",
    "#### Answers\n"
   ]
  },
  {
   "cell_type": "markdown",
   "metadata": {
    "collapsed": false,
    "pycharm": {
     "name": "#%% md\n"
    }
   },
   "source": [
    "---------------------"
   ]
  },
  {
   "cell_type": "markdown",
   "metadata": {
    "collapsed": false,
    "pycharm": {
     "name": "#%% md\n"
    }
   },
   "source": [
    "# Lab 10:  Fractal Dimension\n",
    "\n",
    "I highly recommend you start with this [**_2Blue1Brown Video_**](https://youtu.be/gB9n2gHsHN4), if you've not yet seen it.\n",
    "\n",
    "-----------------\n",
    "In this lab we will calculate the [fractal dimension](https://en.wikipedia.org/wiki/Fractal_dimension) of the forested areas thatour `ForestFire` model generates."
   ]
  },
  {
   "cell_type": "markdown",
   "metadata": {
    "collapsed": false
   },
   "source": [
    "## Ex. 10.1 Box Counting\n",
    "\n",
    "We'll use the [box counting](https://en.wikipedia.org/wiki/Box_counting) algorithm, which, in essence, estimates how the measured amount of forested area scales at different sized counting grids (2D rulers).  You are welcome to pilfer the `box_count` code developed for measuring fractal dimension in the **Precolation** model.\n",
    "\n",
    "Run your model forward to steady-state, and use the box counting algorithm to estimate how the pattern of forested patches scales.  The result here show how the count of \"forested\" cells scales with the size of the \"box\" (grid cell) used to do the counting.\n",
    "Just looking at the results, do you think this is closer to a linear or a squared scaling factor?"
   ]
  },
  {
   "cell_type": "code",
   "execution_count": null,
   "metadata": {
    "collapsed": false,
    "pycharm": {
     "name": "#%%\n"
    }
   },
   "outputs": [],
   "source": [
    "# Ex. 10.1 here"
   ]
  },
  {
   "cell_type": "markdown",
   "metadata": {
    "collapsed": false
   },
   "source": [
    "## Ex. 10.2  Estimate Fractal Dimension\n",
    "\n",
    "If we plot the count of forested cells versus the size of the \"box\" on a log-log scale, the slope estimates the fractal dimension.\n",
    "\n",
    "Estimate the slope of your box-count data using a log-log linear regression (again, feel free to pilfer the `log_slope` function).\n",
    "Plot the graph that shows the box-count data in relation to a simple linear and square scaling relation (again, pilfer code as needed)."
   ]
  },
  {
   "cell_type": "code",
   "execution_count": null,
   "metadata": {
    "collapsed": false,
    "pycharm": {
     "name": "#%%\n"
    }
   },
   "outputs": [],
   "source": [
    "# Ex. 10.2 here"
   ]
  },
  {
   "cell_type": "markdown",
   "metadata": {
    "collapsed": false,
    "pycharm": {
     "name": "#%% md\n"
    }
   },
   "source": [
    "## Ex. 10.3  Scaling Experiment\n",
    "\n",
    "In our study of Percolation patterns, we plotted the scaling factor and fractal dimension to visualize how the pattern scales compared to simple linear and square scaling.  We set up an experiment to explore how fractal dimension changed for different model paraemter values, and to idenify a critical values where [phase transitions](https://en.wikipedia.org/wiki/Phase_transition) occur.\n",
    "\n",
    "Repeat these experiments for the `ForestFire` model.  Again, you may adapt the code developed for Percolation."
   ]
  },
  {
   "cell_type": "code",
   "execution_count": null,
   "metadata": {
    "collapsed": false,
    "pycharm": {
     "name": "#%%\n"
    }
   },
   "outputs": [],
   "source": [
    "# Ex. 10.3 here"
   ]
  },
  {
   "cell_type": "markdown",
   "metadata": {
    "collapsed": false
   },
   "source": [
    "### Question 10.4:\n",
    "How does the fractal dimension change for different values of $p$ and $f$?\n",
    "Does there appear to be a critical value where the fractal dimension goes through a phase change, like we saw for Percolation?\n",
    "What conclusions might your draw about the complexity of forest edges in real forest ecosystems?  How does this compare the the man-made edges that typically result from industrial logging?\n",
    "\n",
    "#### Answers:"
   ]
  }
 ],
 "metadata": {
  "kernelspec": {
   "display_name": "Python 3",
   "language": "python",
   "name": "python3"
  },
  "language_info": {
   "codemirror_mode": {
    "name": "ipython",
    "version": 3
   },
   "file_extension": ".py",
   "mimetype": "text/x-python",
   "name": "python",
   "nbconvert_exporter": "python",
   "pygments_lexer": "ipython3",
   "version": "3.11.0"
  }
 },
 "nbformat": 4,
 "nbformat_minor": 0
}
