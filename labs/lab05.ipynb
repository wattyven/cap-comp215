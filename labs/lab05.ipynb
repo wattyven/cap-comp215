{
 "cells": [
  {
   "cell_type": "markdown",
   "metadata": {
    "collapsed": true,
    "pycharm": {
     "name": "#%% md\n"
    }
   },
   "source": [
    "COMP 215 - LAB 5 (Elementary Cellular Automata)\n",
    "-----------------------------------------------\n",
    "#### Name:\n",
    "#### Date:\n",
    "\n",
    "This lab exercise is an introduction to the elementary [Cellular Automata](https://en.wikipedia.org/wiki/Elementary_cellular_automaton) studied by [Stephen Wolfram](https://en.wikipedia.org/wiki/Stephen_Wolfram#Complex_systems_and_cellular_automata).\n",
    "\n",
    "**New Python concepts**:\n",
    "  * **[NumPy](https://numpy.org)** is an open-source scientific computing package.  We will be using numpy for the remainder of the term.\n",
    "  * 1D and 2D [array](https://numpy.org/doc/stable/reference/generated/numpy.array.html) -  an rectangular grid with efficient matrix operations.\n",
    "\n",
    "**New Computation concepts**:\n",
    "  * **bit sequence** (a.k.a. binary number) - using a sequence of 0's and 1's to efficiently represent a data structure and processes.\n",
    "\n",
    "**Credits**:\n",
    "    Code examples based on [Think Complexity, 2nd edition](https://thinkcomplex.com).\n",
    "    Copyright 2016 Allen Downey, [MIT License](http://opensource.org/licenses/MIT)\n",
    "\n",
    "As usual, the first code cell simply imports all the modules we'll be using..."
   ]
  },
  {
   "cell_type": "code",
   "execution_count": 1,
   "outputs": [],
   "source": [
    "import matplotlib.pyplot as plt\n",
    "import numpy as np\n",
    "%matplotlib inline"
   ],
   "metadata": {
    "collapsed": false,
    "pycharm": {
     "name": "#%%\n"
    }
   }
  },
  {
   "cell_type": "markdown",
   "source": [
    "## CA Fundamentals\n",
    "Both the textbook and our week5 notebook develop some fundamental operations for simulating Elementary CA.\n",
    "Some of the code from `week5.ipynb` is reproduced here without deriving all the ideas - review `week5.ipynb` notebook for the full story.\n",
    "The sliding dot product algorithm in `rule_indexes` is implemented with [numpy.correlate](https://numpy.org/doc/stable/reference/generated/numpy.correlate.html).  It's behaviour is identical to the derivation in `week5.ipynb`.\n",
    "\n",
    "#### Notes\n",
    "* we use `np.pad(array, 1, mode='wrap')` to pad state vector with 1 value on either end from the opposite end of the vector.\n",
    "* since the rule is an `np.array`, we use \"vector indexing\" here to index a whole row at once:  next_row=rule[indexes]\n"
   ],
   "metadata": {
    "collapsed": false,
    "pycharm": {
     "name": "#%% md\n"
    }
   }
  },
  {
   "cell_type": "code",
   "execution_count": 3,
   "outputs": [
    {
     "data": {
      "text/plain": "<Figure size 576x288 with 1 Axes>",
      "image/png": "[encoded data removed]"
     },
     "metadata": {
      "needs_background": "light"
     },
     "output_type": "display_data"
    }
   ],
   "source": [
    "POWERS_OF_2 = np.array((4, 2, 1))\n",
    "\n",
    "def rule_indexes(state):\n",
    "    \"\"\" Return vector of rule indexes - one index for each 3-cell neighbourhood in the CA state vector. \"\"\"\n",
    "    # numpy's version of the \"sliding dot product\" algorithm;  \"pad\" ends of state array with extra 0 cell to mitigate edge effects\n",
    "    return np.correlate(np.pad(state, 1, mode='constant'), POWERS_OF_2, mode='valid')\n",
    "\n",
    "assert all( rule_indexes(np.array([1,1,0,0,1,0,0,0])) == [3, 6, 4, 1, 2, 4, 0, 0] )\n",
    "\n",
    "\n",
    "def transition(state, rule):\n",
    "    \"\"\" Return a np.array for the state transition for given CA state under the given 8-bit rule \"\"\"\n",
    "    indexes = rule_indexes(state)\n",
    "    return np.array(rule[indexes])  # \"vector indexing\" replaces: [rule[i] for i in indexes]\n",
    "\n",
    "rule_110 = (0,1,1,0,1,1,1,0)[::-1]\n",
    "assert all( transition(np.array((0,0,1,1,1,0,0,0,1,1,0)), np.array(rule_110)) == (0,1,1,0,1,0,0,1,1,1,0))\n",
    "\n",
    "\n",
    "# This algorithm is from the textbook - it uses numpy to do a decimal to binary conversion.\n",
    "def get_lookup_table(rule):\n",
    "    \"\"\"\n",
    "    Return the 8-bit transition vector for the given elementary CA rule number.\n",
    "    rule: int 0-255\n",
    "    returns: transition lookup table - a 8 element vector of 0s and 1s\n",
    "    \"\"\"\n",
    "    rule = np.array([rule], dtype=np.uint8)\n",
    "    return np.unpackbits(rule)[::-1]\n",
    "\n",
    "assert np.all( get_lookup_table(110) == rule_110 )\n",
    "\n",
    "\n",
    "def single_centre_array(n_cells):\n",
    "    \"\"\" Return a binary 1D array with given number of cells, all zeros except a single 1 in the centre cell \"\"\"\n",
    "    array = np.zeros(n_cells, dtype=np.uint8)\n",
    "    array[n_cells//2] = 1\n",
    "    return array\n",
    "\n",
    "assert np.all( single_centre_array(7) == (0,0,0,1,0,0,0) )\n",
    "\n",
    "\n",
    "def simulate_ca(n_cells, n_steps, rule):\n",
    "    \"\"\" Generate a CA with given number of cells, plot progression of rule for given number of time steps \"\"\"\n",
    "    start_state = single_centre_array(n_cells)\n",
    "    # stack up one \"empty\" state vector for each time step\n",
    "    ca_timesteps = np.vstack([start_state, np.zeros((n_steps, len(start_state)), dtype=np.uint8)])\n",
    "    for t in range(1, n_steps):\n",
    "        ca_timesteps[t] = transition(ca_timesteps[t-1], rule)\n",
    "    return ca_timesteps\n",
    "\n",
    "\n",
    "def plot_ca(array, title=''):\n",
    "    \"\"\" Plot the 2D CA array as an image.  1's will be dark blue, 0's will be light blue. \"\"\"\n",
    "    plt.title(title)\n",
    "    plt.xticks([])  # turn off x-axis tick marks\n",
    "    plt.ylabel('Time Steps')  # label y-axis to remind us time runs from top to bottom\n",
    "    plt.imshow(array, cmap='Blues', interpolation='none')\n",
    "\n",
    "\n",
    "rule_90 = get_lookup_table(90)\n",
    "ca_timesteps = simulate_ca(200, 100, rule_90)\n",
    "plt.subplots(figsize=(8, 4))\n",
    "plot_ca(ca_timesteps)"
   ],
   "metadata": {
    "collapsed": false,
    "pycharm": {
     "name": "#%%\n"
    }
   }
  },
  {
   "cell_type": "markdown",
   "source": [
    "## Exercise 1: Additional Start States\n",
    "In Wolfram's original experiments, he starts with a CA that is all zeros except the centre cell.\n",
    "This is reproduced by the `single_centre_array` function above.\n",
    "It would be interesting to experiment with other start states...\n",
    "\n",
    "Write 2 functions, each of which returns a 1-D `numpy.array` (vector) configured in a specific state:\n",
    "1. `from_string_array` takes a text string of 0's and 1's and returns a 1D array with matching integer values\n",
    "2. `random_array` takes a float $ p where 0 <= p <= 1 $ as input and returns a 1D array $a$, where probability $a[i] == 1$ is $p$\n",
    "\n",
    "*Tip*: both problems are most easilty solved using list comprehensions!"
   ],
   "metadata": {
    "collapsed": false,
    "pycharm": {
     "name": "#%% md\n"
    }
   }
  },
  {
   "cell_type": "code",
   "execution_count": null,
   "outputs": [],
   "source": [
    "# Solution for Ex. 1 here..."
   ],
   "metadata": {
    "collapsed": false,
    "pycharm": {
     "name": "#%%\n"
    }
   }
  },
  {
   "cell_type": "markdown",
   "source": [
    "## Exercise 2: A Cell1D class\n",
    "Develop your own Cell1D class that uses the functions above to implement its fundamental operations.\n",
    "The `Cell1D` class from the textbook may provide some ideas, but you may find it more confusing than helpful.\n",
    "The goal here is to improve on the design of that class, so it might be better to just start over...\n",
    "\n",
    "* Initialize a Cell1D with a `rule` number and an array representing the CA `start_state`\n",
    "  *Tip*: initialize a 2-D array with just a single row to define the CA's data structure correctly.\n",
    "* Add a `simulate` method that takes the number of steps to simulate as input (note: my solution is just 4 lines of code)\n",
    "  *Tip*: use `vstack` to add enough rows onto the CA array prior to looping the simulation forward the given number of steps.\n",
    "  *Tip*: watch your indexing logic - each subsequent call must start where the last one left off.  There is an elegant solution to this.\n",
    "* Add a `step` method.  Unlike the textbook, our `step` method is just a convenience method - it just `simulate`s a single step.\n",
    "* Add a `draw` method.  You could either call on `plot_ca` to do the actual work or copy its code in - your choice.\n",
    "\n",
    "Note: this is *not* a dataclass - you will need to initialzice objects with an `__init__` method."
   ],
   "metadata": {
    "collapsed": false,
    "pycharm": {
     "name": "#%% md\n"
    }
   }
  },
  {
   "cell_type": "code",
   "execution_count": null,
   "outputs": [],
   "source": [
    "# Solution for Ex. 2 here..."
   ],
   "metadata": {
    "collapsed": false,
    "pycharm": {
     "name": "#%%\n"
    }
   }
  },
  {
   "cell_type": "markdown",
   "source": [
    "## Exercise 3: Run some Experiments\n",
    "With your new Cell1D class, run some experiments to explore the Elementary CA's.\n",
    "\n",
    "Wolfram identifies 4 \"classes\" of Elementary Cellular Automata:\n",
    "    a) rapidly converge to a uniform static state.\n",
    "    b) rapidly converge to a stable repeating pattern.\n",
    "    c) generate non-repeating, random states.\n",
    "    d) generate chaos, with areas of repetitive or stable states, but also structures that interact in complex ways.\n",
    "\n",
    "### Exercises\n",
    "\n",
    "1. It will be convenient to abstract the steps needed to construct, simulate, and draw a CA - develop a small `experiment` function to do so.\n",
    "\n",
    "2. Identify a rule that exemplifies each of the 4 CA classes.\n",
    "   Create a 2x2 grid of plots that shows an example simulation for each class of CA side-by-side."
   ],
   "metadata": {
    "collapsed": false,
    "pycharm": {
     "name": "#%% md\n"
    }
   }
  },
  {
   "cell_type": "code",
   "execution_count": null,
   "outputs": [],
   "source": [
    "# Solution for Ex. 3 here..."
   ],
   "metadata": {
    "collapsed": false,
    "pycharm": {
     "name": "#%%\n"
    }
   }
  },
  {
   "cell_type": "markdown",
   "source": [
    "#### Example code for creating grid of plots:"
   ],
   "metadata": {
    "collapsed": false,
    "pycharm": {
     "name": "#%% md\n"
    }
   }
  },
  {
   "cell_type": "code",
   "execution_count": null,
   "outputs": [],
   "source": [
    "plt.subplots(figsize=(16, 8))   # total figure size for subplots is 16 x 8 inches\n",
    "# Example: plot 4 plots in a 2x2 grid - plots are number 1..4\n",
    "for i in range(1, 5):\n",
    "    plt.subplot(2, 2, i)         # draw next plot in \"cell i\" of a 2 x 2 grid\n",
    "    plot_ca(ca_timesteps, title=f'This is plot #{i}')"
   ],
   "metadata": {
    "collapsed": false,
    "pycharm": {
     "name": "#%%\n"
    }
   }
  },
  {
   "cell_type": "markdown",
   "source": [
    "## Exercise 4:  Thought Experiments\n",
    "Think about some of the questions that arise from this experiment.  Provide some concise answer that  capture you thinking...\n",
    "1. What is it about these experiments that required computation?\n",
    "Is there some other means by which we could conduct experiments like this?\n",
    "\n",
    "2. What conclusions can you draw about the conditions under which complex behaviours can arise?\n",
    "Do you think these conclusions are mostly intuitive or counter-intuitive?\n",
    "\n",
    "3. What lessons might we take about studying complex phenomena in the real world from our study of elementary cellular automata?"
   ],
   "metadata": {
    "collapsed": false,
    "pycharm": {
     "name": "#%% md\n"
    }
   }
  },
  {
   "cell_type": "markdown",
   "source": [
    "### Answers\n",
    "(concise, point-form -- there are no wrong answers, I'd just like to hear what you think)"
   ],
   "metadata": {
    "collapsed": false,
    "pycharm": {
     "name": "#%% md\n"
    }
   }
  }
 ],
 "metadata": {
  "kernelspec": {
   "display_name": "Python 3",
   "language": "python",
   "name": "python3"
  },
  "language_info": {
   "codemirror_mode": {
    "name": "ipython",
    "version": 2
   },
   "file_extension": ".py",
   "mimetype": "text/x-python",
   "name": "python",
   "nbconvert_exporter": "python",
   "pygments_lexer": "ipython2",
   "version": "2.7.6"
  }
 },
 "nbformat": 4,
 "nbformat_minor": 0
}