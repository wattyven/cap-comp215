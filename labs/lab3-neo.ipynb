{
 "cells": [
  {
   "attachments": {},
   "cell_type": "markdown",
   "metadata": {
    "id": "nbRPZPKZU5Pk"
   },
   "source": [
    "COMP 215 - LAB 3 (NEO)\n",
    "----------------\n",
    "#### Name: Watson Li\n",
    "#### Date: 23 Jan 2023\n",
    "\n",
    "This lab exercise is mostly a review of strings, tuples, lists, dictionaries, and functions.\n",
    "\n",
    "**Building on new concepts from lab 1**:\n",
    "  * `datetime.date` objects represent a calendar date\n",
    "  * *list comprehension* provides a compact way to represent map and filter algorithms\n",
    "\n",
    "**New Python Concepts**:\n",
    "  * *f-string* simplifies string formatting operations\n",
    "\n",
    "As usual, the first code cell simply imports all the modules we'll be using..."
   ]
  },
  {
   "cell_type": "code",
   "execution_count": 2,
   "metadata": {
    "collapsed": false,
    "pycharm": {
     "name": "#%%\n"
    }
   },
   "outputs": [],
   "source": [
    "import datetime, json, requests\n",
    "from dataclasses import dataclass\n",
    "from pprint import pprint    # Pretty Print - built-in python function to nicely format data structures"
   ]
  },
  {
   "cell_type": "markdown",
   "metadata": {
    "collapsed": false,
    "pycharm": {
     "name": "#%% md\n"
    }
   },
   "source": [
    "We'll answer some questions about [Near Earth Objects](https://cneos.jpl.nasa.gov/)\n",
    "> using NASA's API:  [https://api.nasa.gov/](https://api.nasa.gov/#NeoWS)\n",
    "\n",
    "You should register for your own API key, (but may use the DEMO_KEY to get started).\n",
    "\n",
    "First we need a short tutorial on python dates and [f-strings](https://realpython.com/python-f-strings/)..."
   ]
  },
  {
   "cell_type": "code",
   "execution_count": 3,
   "metadata": {
    "collapsed": false,
    "pycharm": {
     "name": "#%%\n"
    }
   },
   "outputs": [],
   "source": [
    "today = datetime.date.today()   # get a date object representing today's date\n",
    "# print(today, type(today))\n",
    "formatted_date = f'Today is: {today}'   # A format string - notice how the variable `today` is formatted into the stringg\n",
    "# print(formatted_date)"
   ]
  },
  {
   "cell_type": "markdown",
   "metadata": {
    "collapsed": false,
    "pycharm": {
     "name": "#%% md\n"
    }
   },
   "source": [
    "### Make a query\n",
    "\n",
    "Let's get some data from the NEO database...\n",
    "Here's a query that gets the observation \"feed\" for today.\n",
    "(Note: I hard-coded the date below to lock down the data for the lab - ideally used `today()` so the notebook is always up-to-date.)"
   ]
  },
  {
   "cell_type": "code",
   "execution_count": 4,
   "metadata": {
    "collapsed": false,
    "pycharm": {
     "name": "#%%\n"
    }
   },
   "outputs": [
    {
     "name": "stdout",
     "output_type": "stream",
     "text": [
      "12 Near Earth Objects found for 2023-01-09\n"
     ]
    }
   ],
   "source": [
    "API_KEY = 'DEMO_KEY'  # substitute your API key here\n",
    "\n",
    "today = '2023-01-09'  #  Future enhancement:  str(datetime.date.today())   # Today's date as a string!\n",
    "# Use an f-string here to \"format\" the date and API key varaibles.\n",
    "url = f'https://api.nasa.gov/neo/rest/v1/feed?start_date={today}&end_date={today}&api_key={API_KEY}'\n",
    "\n",
    "response = requests.request(\"GET\", url, headers={}, data={})\n",
    "\n",
    "data = json.loads(response.text)  # recall json.loads for lab 1\n",
    "\n",
    "# TIP: print(data) to see the whole data structure returned, here we grab just the list of NEO's:\n",
    "n_results = data['element_count']\n",
    "neos = data['near_earth_objects'][today]\n",
    "print(f'{n_results} Near Earth Objects found for {today}')"
   ]
  },
  {
   "cell_type": "markdown",
   "metadata": {
    "collapsed": false,
    "pycharm": {
     "name": "#%% md\n"
    }
   },
   "source": [
    "Next we extract just the potentially hazerdous asteroids, using a Comp115-style list accumulator *loop*:"
   ]
  },
  {
   "cell_type": "code",
   "execution_count": 5,
   "metadata": {
    "id": "JDGbYTySU3BP"
   },
   "outputs": [
    {
     "name": "stdout",
     "output_type": "stream",
     "text": [
      "3 potentially hazardous asteroids identified.\n"
     ]
    }
   ],
   "source": [
    "hazards =  []\n",
    "for item in neos:\n",
    "  if item['is_potentially_hazardous_asteroid'] is True:\n",
    "    hazards.append(item)\n",
    "print(f'{len(hazards)} potentially hazardous asteroids identified.')"
   ]
  },
  {
   "cell_type": "markdown",
   "metadata": {
    "collapsed": false,
    "pycharm": {
     "name": "#%% md\n"
    }
   },
   "source": [
    "## Exercise 1\n",
    "\n",
    "In the code cell below, **re-write the accumulator loop above** as a [list comprehension](https://realpython.com/lessons/list-comprehensions-overview/) that implements a [\"filter\"](https://youtu.be/hUes6y2b--0)\n",
    "Notice how this provides a concise way to \"filter\" items of interest from a larger data set."
   ]
  },
  {
   "cell_type": "code",
   "execution_count": 6,
   "metadata": {
    "collapsed": false,
    "pycharm": {
     "name": "#%%\n"
    }
   },
   "outputs": [
    {
     "name": "stdout",
     "output_type": "stream",
     "text": [
      "3 potentially hazardous asteroids identified.\n"
     ]
    }
   ],
   "source": [
    "hazards = [item for item in neos if item['is_potentially_hazardous_asteroid'] is True]\n",
    "print(f'{len(hazards)} potentially hazardous asteroids identified.')"
   ]
  },
  {
   "cell_type": "markdown",
   "metadata": {
    "collapsed": false,
    "pycharm": {
     "name": "#%% md\n"
    }
   },
   "source": [
    "## Fetch Complete Data for One Asteroid\n",
    "\n",
    "Notice that the record for each `neo` is a dictionary with `id` field that uniquely identifies this record in the database.\n",
    "\n",
    "We can use this `id` to fetch complete orbital and close approach data for the NEO.\n",
    "\n",
    "For example, this query fetches the complete data set for the first hazardous asteroid...\n"
   ]
  },
  {
   "cell_type": "code",
   "execution_count": 7,
   "metadata": {
    "collapsed": false,
    "pycharm": {
     "name": "#%%\n"
    }
   },
   "outputs": [],
   "source": [
    "id = hazards[0]['id']\n",
    "url = f'https://api.nasa.gov/neo/rest/v1/neo/{id}/?api_key={API_KEY}'\n",
    "response = requests.request(\"GET\", url, headers={}, data={})\n",
    "data = json.loads(response.text)"
   ]
  },
  {
   "cell_type": "markdown",
   "metadata": {
    "id": "DNRs7ynOYwYk"
   },
   "source": [
    "Notice that the `miss_distance` field contains the distance (in various units) by which the NEO missed an \"orbiting body\".\n",
    "\n",
    "## Exercise 2\n",
    "\n",
    "In the code cell below, write a python function that takes a list of \"close approach data\" as a parameter,\n",
    "and returns a 2-tuple with the (date, miss km) of the closest approach to Earth in the list (where \"miss km\" is the miss distance in km).\n",
    "\n",
    "Hints:\n",
    "* notice the input is a list of dictionaries.  Each dictionary has a 'close_approach_date\", \"orbiting_body\", and 'miss_distance' field.\n",
    "* we are only interested in the closest approach to \"Earth\"\n",
    "* use a loop if that is easier to understand - we will look at more compact algorithms to solve this problem in class.\n",
    "\n",
    "Add at least one unit test to check your work - note the test data only needs dictionaries with the fields your function actually uses.\n"
   ]
  },
  {
   "cell_type": "code",
   "execution_count": 8,
   "metadata": {
    "colab": {
     "base_uri": "https://localhost:8080/"
    },
    "id": "tiyXTDfnZAd0",
    "outputId": "d458a4a2-813a-4b12-e688-73aa07a687db"
   },
   "outputs": [
    {
     "data": {
      "text/plain": [
       "('2049-01-09', '10799717.984332507')"
      ]
     },
     "execution_count": 8,
     "metadata": {},
     "output_type": "execute_result"
    }
   ],
   "source": [
    "def neomisses(close_approach_data):\n",
    "    '''parser for close approach data for a single NEO, returns a tuple of the date and miss distance of the closest approach'''\n",
    "    # object has to be orbiting Earth\n",
    "    earth_approaches = [item for item in close_approach_data if item['orbiting_body'] == 'Earth']\n",
    "    # sort the list by miss distance\n",
    "    earth_approaches.sort(key=lambda x: x['miss_distance']['kilometers'])\n",
    "    # return the date and miss distance of the closest approach\n",
    "    return earth_approaches[0]['close_approach_date'], earth_approaches[0]['miss_distance']['kilometers']\n",
    "\n",
    "# test the function\n",
    "neomisses(data['close_approach_data'])"
   ]
  },
  {
   "cell_type": "markdown",
   "metadata": {
    "collapsed": false
   },
   "source": [
    "## OPTIONAL - Take your skills to the next level...\n",
    "## Exercise 3\n",
    "\n",
    "In the code cell below, write a complete program that:\n",
    " 1. fetches the list of NEO's for this week.\n",
    " 2. for each NEO, fetch it's complete orbital data and determine its closest approach to Earth\n",
    " 3. identify which NEO from this week's data makes the closet approach to earth\n",
    " 4. print a nice message with information about the NEO, which it will approach the Earth, and how close it will come.\n",
    "\n",
    "Hints:\n",
    "* you'll need the start and end date - end date is today, see if you can use a [`timedelta`](https://docs.python.org/3/library/datetime.html#timedelta-objects) object to ge the start date (you can do basic \"date math\" with `timedelta` and `date` objects!)\n",
    "* you may need to modify the function we wrote in Ex. 2 to return a triple with the NEO's id included;\n",
    "* lots of opportunity here for more practice with list comprehensions\n"
   ]
  },
  {
   "cell_type": "code",
   "execution_count": 9,
   "metadata": {
    "colab": {
     "base_uri": "https://localhost:8080/"
    },
    "id": "Ds1YevErlzCe",
    "outputId": "87047de1-ec1b-4a81-d6a1-7f2049b6c2f8",
    "pycharm": {
     "name": "#%%\n"
    }
   },
   "outputs": [
    {
     "name": "stdout",
     "output_type": "stream",
     "text": [
      "The closest approach will be on 2023-01-20 and the miss distance will be 1993300.692164614 kilometers.\n"
     ]
    }
   ],
   "source": [
    "# fetch list of NEOs for the week\n",
    "today = datetime.date.today()\n",
    "week = datetime.timedelta(days=7)\n",
    "weekbefore = today - week\n",
    "API_KEY = 'DEMO_KEY'  # substitute your API key here\n",
    "url = f'https://api.nasa.gov/neo/rest/v1/feed?start_date={weekbefore}&end_date={today}&api_key={API_KEY}'\n",
    "response = requests.request(\"GET\", url, headers={}, data={})\n",
    "data = json.loads(response.text)  # recall json.loads for lab 1\n",
    "# TIP: print(data) to see the whole data structure returned, here we grab just the list of NEO's:\n",
    "n_results = data['element_count']\n",
    "neos = data['near_earth_objects']\n",
    "def neomisses(close_approach_data):\n",
    "    '''parser for close approach data for a single NEO, returns a tuple of the date and miss distance of the closest approach'''\n",
    "    # object has to be orbiting Earth\n",
    "    earth_approaches = [item for item in close_approach_data if item['orbiting_body'] == 'Earth']\n",
    "    # sort the list by miss distance\n",
    "    earth_approaches.sort(key=lambda x: x['miss_distance']['kilometers'])\n",
    "    # return the date and miss distance of the closest approach\n",
    "    return earth_approaches[0]['close_approach_date'], earth_approaches[0]['miss_distance']['kilometers']\n",
    "# make a new list of 2-tuples of dates and miss distances\n",
    "misslist = [neomisses(dct['close_approach_data']) for item in neos.values() for dct in item]\n",
    "# make a new list of just the miss distances\n",
    "missdistances = [float(item[1]) for item in misslist]\n",
    "# find the index of the minimum miss distance\n",
    "minindex = missdistances.index(min(missdistances))\n",
    "# print the date and miss distance of the closest approach\n",
    "print(f'The closest approach will be on {misslist[minindex][0]} and the miss distance will be {misslist[minindex][1]} kilometers.')"
   ]
  },
  {
   "attachments": {},
   "cell_type": "markdown",
   "metadata": {},
   "source": [
    "## Lab 3\n",
    "\n",
    "# Exercise 1: Define an Asteroid class\n",
    "\n",
    "Using what we learned in the textbook, define a simple Asteroid class with some basic state\n",
    "variables for a single NEO. Your Asteroid class should define at least 4 \"state variables:”\n",
    "`id, name, estimated_diameter (m), is_potentially_hazardous (bool)`\n",
    "\n",
    "Provide an `__init__(self, ...)` method to initialize a new Asteroid object with\n",
    "specific data values and a little code to test your class.\n",
    "\n",
    "Add a `__str__(self)` method that returns a nicely formatted string representation of the\n",
    "object, plus a little code to test it."
   ]
  },
  {
   "cell_type": "code",
   "execution_count": 32,
   "metadata": {},
   "outputs": [
    {
     "name": "stdout",
     "output_type": "stream",
     "text": [
      "Asteroid(id='2496816',\n",
      "         name='496816 (1989 UP)',\n",
      "         estimated_diameter=0.459240286,\n",
      "         is_potentially_hazardous=True,\n",
      "         close_approaches=[CloseApproach(orbiting_body='Earth',\n",
      "                                         approach_date='1910-10-01',\n",
      "                                         miss_distance='63345120.345287499',\n",
      "                                         relative_velocity='19.7542583014'),\n",
      "                           CloseApproach(orbiting_body='Earth',\n",
      "                                         approach_date='1915-12-29',\n",
      "                                         miss_distance='12065148.878671504',\n",
      "                                         relative_velocity='8.6494767509'),\n",
      "                           CloseApproach(orbiting_body='Mars',\n",
      "                                         approach_date='1928-06-17',\n",
      "                                         miss_distance='10573160.043623126',\n",
      "                                         relative_velocity='12.9182561414'),\n",
      "                           CloseApproach(orbiting_body='Earth',\n",
      "                                         approach_date='1938-11-18',\n",
      "                                         miss_distance='777713.040549022',\n",
      "                                         relative_velocity='6.8886530362'),\n",
      "                           CloseApproach(orbiting_body='Moon',\n",
      "                                         approach_date='1938-11-19',\n",
      "                                         miss_distance='1037688.003861133',\n",
      "                                         relative_velocity='7.4483146781'),\n",
      "                           CloseApproach(orbiting_body='Earth',\n",
      "                                         approach_date='1961-10-03',\n",
      "                                         miss_distance='60219654.610441952',\n",
      "                                         relative_velocity='19.1433484686'),\n",
      "                           CloseApproach(orbiting_body='Earth',\n",
      "                                         approach_date='1966-12-29',\n",
      "                                         miss_distance='11555181.184078559',\n",
      "                                         relative_velocity='8.5259942849'),\n",
      "                           CloseApproach(orbiting_body='Earth',\n",
      "                                         approach_date='1989-11-03',\n",
      "                                         miss_distance='7401917.315678218',\n",
      "                                         relative_velocity='8.2854320445'),\n",
      "                           CloseApproach(orbiting_body='Earth',\n",
      "                                         approach_date='1995-01-26',\n",
      "                                         miss_distance='57534991.131938662',\n",
      "                                         relative_velocity='18.5649776641'),\n",
      "                           CloseApproach(orbiting_body='Mars',\n",
      "                                         approach_date='2007-06-24',\n",
      "                                         miss_distance='11990478.971834379',\n",
      "                                         relative_velocity='10.9361514119'),\n",
      "                           CloseApproach(orbiting_body='Earth',\n",
      "                                         approach_date='2017-11-02',\n",
      "                                         miss_distance='8218711.812418798',\n",
      "                                         relative_velocity='8.4557101819'),\n",
      "                           CloseApproach(orbiting_body='Earth',\n",
      "                                         approach_date='2023-01-23',\n",
      "                                         miss_distance='48695062.76498717',\n",
      "                                         relative_velocity='16.7129652052'),\n",
      "                           CloseApproach(orbiting_body='Mars',\n",
      "                                         approach_date='2038-07-31',\n",
      "                                         miss_distance='8226942.388030458',\n",
      "                                         relative_velocity='11.7292796851'),\n",
      "                           CloseApproach(orbiting_body='Earth',\n",
      "                                         approach_date='2045-10-04',\n",
      "                                         miss_distance='60397580.796858549',\n",
      "                                         relative_velocity='19.1956341126'),\n",
      "                           CloseApproach(orbiting_body='Earth',\n",
      "                                         approach_date='2050-12-08',\n",
      "                                         miss_distance='3998178.673729806',\n",
      "                                         relative_velocity='6.6616182568'),\n",
      "                           CloseApproach(orbiting_body='Earth',\n",
      "                                         approach_date='2073-10-01',\n",
      "                                         miss_distance='68855990.897772214',\n",
      "                                         relative_velocity='20.8616116277'),\n",
      "                           CloseApproach(orbiting_body='Earth',\n",
      "                                         approach_date='2078-12-13',\n",
      "                                         miss_distance='4871742.031625654',\n",
      "                                         relative_velocity='6.8340628898'),\n",
      "                           CloseApproach(orbiting_body='Mars',\n",
      "                                         approach_date='2081-11-01',\n",
      "                                         miss_distance='10572506.585167179',\n",
      "                                         relative_velocity='11.3179881729'),\n",
      "                           CloseApproach(orbiting_body='Mars',\n",
      "                                         approach_date='2093-12-29',\n",
      "                                         miss_distance='6971323.662864122',\n",
      "                                         relative_velocity='11.7683612416'),\n",
      "                           CloseApproach(orbiting_body='Earth',\n",
      "                                         approach_date='2101-10-22',\n",
      "                                         miss_distance='23825584.055028697',\n",
      "                                         relative_velocity='11.8607229337'),\n",
      "                           CloseApproach(orbiting_body='Earth',\n",
      "                                         approach_date='2107-01-25',\n",
      "                                         miss_distance='49096699.012421745',\n",
      "                                         relative_velocity='16.7910459082'),\n",
      "                           CloseApproach(orbiting_body='Earth',\n",
      "                                         approach_date='2124-09-30',\n",
      "                                         miss_distance='73483376.761622681',\n",
      "                                         relative_velocity='21.8197093626'),\n",
      "                           CloseApproach(orbiting_body='Earth',\n",
      "                                         approach_date='2129-12-20',\n",
      "                                         miss_distance='6349160.752205808',\n",
      "                                         relative_velocity='7.1298662108'),\n",
      "                           CloseApproach(orbiting_body='Earth',\n",
      "                                         approach_date='2152-12-10',\n",
      "                                         miss_distance='4232768.494159913',\n",
      "                                         relative_velocity='6.6684938382'),\n",
      "                           CloseApproach(orbiting_body='Earth',\n",
      "                                         approach_date='2170-10-07',\n",
      "                                         miss_distance='59725466.588935329',\n",
      "                                         relative_velocity='19.0761445578'),\n",
      "                           CloseApproach(orbiting_body='Earth',\n",
      "                                         approach_date='2176-01-19',\n",
      "                                         miss_distance='33311169.199408819',\n",
      "                                         relative_velocity='13.4599984401'),\n",
      "                           CloseApproach(orbiting_body='Earth',\n",
      "                                         approach_date='2193-10-29',\n",
      "                                         miss_distance='15713998.379729679',\n",
      "                                         relative_velocity='10.0914572559'),\n",
      "                           CloseApproach(orbiting_body='Earth',\n",
      "                                         approach_date='2199-02-05',\n",
      "                                         miss_distance='74768091.569394028',\n",
      "                                         relative_velocity='21.9823236443')])\n"
     ]
    }
   ],
   "source": [
    "@dataclass\n",
    "class Asteroid:\n",
    "    id: str\n",
    "    name: str\n",
    "    estimated_diameter: float\n",
    "    is_potentially_hazardous: bool\n",
    "    # for exercise 4:\n",
    "    close_approaches: list\n",
    "\n",
    "    '''\n",
    "    def __init__(self, id, name, estimated_diameter, is_potentially_hazardous):\n",
    "        self.id = id\n",
    "        self.name = name\n",
    "        self.estimated_diameter = estimated_diameter\n",
    "        self.is_potentially_hazardous = is_potentially_hazardous\n",
    "        self.close_approaches = []\n",
    "\n",
    "    def __str__(self):\n",
    "        return f'{self.name} (NEO id: {self.id} - Diameter: {self.estimated_diameter} km - Hazardous: {self.is_potentially_hazardous} - Close Approaches: {self.close_approaches})'\n",
    "    '''\n",
    "    @classmethod\n",
    "    def from_NEO(cls, neo_id):\n",
    "        url = f'https://api.nasa.gov/neo/rest/v1/neo/{neo_id}/?api_key={API_KEY}'\n",
    "        response = requests.request(\"GET\", url, headers={}, data={})\n",
    "        data = json.loads(response.text)\n",
    "        #close_approach_list = CloseApproach.CA_Constructor('close_approach_data', data)\n",
    "        return cls(data['id'], data['name'], data['estimated_diameter']['kilometers']['estimated_diameter_max'], data['is_potentially_hazardous_asteroid'], [])\n",
    "\n",
    "# some changes were made here, specified more in comments and code blocks below\n",
    "\n",
    "@dataclass\n",
    "class CloseApproach:\n",
    "    # asteroid: object\n",
    "    # commented this out as I wasn't sure how have the asteroid object be passed in - as I need \n",
    "    # to pass in the CloseApproach object to the Asteroid object again as well, I kept running\n",
    "    # into a circular import error, so instead I've taken the asteroid parameter out of the \n",
    "    # object here. it's still in the version of the CloseApproach class that's in its own code block below, as that\n",
    "    # was the version i started from. \n",
    "    orbiting_body: str\n",
    "    approach_date: datetime.date\n",
    "    miss_distance: float # in kilometers\n",
    "    relative_velocity: float # in kilometers per second\n",
    "\n",
    "    '''\n",
    "    had we not been using dataclass\n",
    "    def __init__(self, orbiting_body, approach_date, miss_distance, relative_velocity):\n",
    "        # self.asteroid = asteroid\n",
    "        self.orbiting_body = orbiting_body\n",
    "        self.approach_date = approach_date\n",
    "        self.miss_distance = miss_distance\n",
    "        self.relative_velocity = relative_velocity\n",
    "\n",
    "    def __str__(self):\n",
    "        return f'{self.asteroid} will approach {self.orbiting_body} on {self.approach_date} at a miss distance of {self.miss_distance} kilometers and a relative velocity of {self.relative_velocity} kilometers per second.'\n",
    "    '''\n",
    "    @classmethod\n",
    "    def CA_Constructor(cls, close_approach_data, asteroid):\n",
    "        neo_id = asteroid.id\n",
    "        url = f'https://api.nasa.gov/neo/rest/v1/neo/{neo_id}/?api_key={API_KEY}'\n",
    "        response = requests.request(\"GET\", url, headers={}, data={})\n",
    "        data = json.loads(response.text)\n",
    "        # pprint(data[close_approach_data])\n",
    "        # wip\n",
    "        # some of the shit that follows is kinda scuffed but w/e\n",
    "        CA_list = [cls(i['orbiting_body'], i['close_approach_date'], i['miss_distance']['kilometers'], i['relative_velocity']['kilometers_per_second']) for i in data[close_approach_data]]\n",
    "        asteroid.close_approaches = CA_list # kind of a hacky way to do this, but it works\n",
    "        return(asteroid) # this is an entirely different return statement compared to the original, which is in the exercise 3 code block below\n",
    "\n",
    "# test our code\n",
    "asteroid = Asteroid.from_NEO('2496816') # literally just yoinked the first asteroid ID that i found when browsing the raw output from the API lol \n",
    "asteroid = CloseApproach.CA_Constructor('close_approach_data', asteroid)\n",
    "pprint(asteroid) #  changed to prettyprint to make it look nicer because my god the output is ugly"
   ]
  },
  {
   "attachments": {},
   "cell_type": "markdown",
   "metadata": {},
   "source": [
    "# Exercise 2: Factory method: Asteroid.from_NEO\n",
    "\n",
    "We want to be able to construct Asteroid objects easily from the NEO API. Define a\n",
    "`“@classmethod”: from_NEO(cls, neo_id)` that takes the id for a single NEO, fetches the\n",
    "NEO record from API, constructs and returns an Asteroid object representing that NEO.\n",
    "This kind of method is sometimes called a “Factory” – it constructs an object from raw materials."
   ]
  },
  {
   "cell_type": "code",
   "execution_count": 11,
   "metadata": {},
   "outputs": [],
   "source": [
    "# added to code block above"
   ]
  },
  {
   "attachments": {},
   "cell_type": "markdown",
   "metadata": {},
   "source": [
    "# Exercise 3: Define a CloseApproach class\n",
    "\n",
    "Each NEO comes with a list of “close_approach_data”, where each record in this list represents\n",
    "a single “close approach” to another orbiting body.\n",
    "\n",
    "Develop a class named “CloseApproach” to represent a single close approach record.\n",
    "State variables are asteroid (Asteroid object), orbiting body (str), approach date\n",
    "(datetime object!), miss distance (float choose units, document it, and be consistent!),\n",
    "and relative velocity (ditto).\n",
    "\n",
    "Define a Factory class method to construct a CloseApproach object from one close\n",
    "approach data record (a dictionary object). Remember to parse the date/time string into a\n",
    "datetime object."
   ]
  },
  {
   "cell_type": "code",
   "execution_count": 31,
   "metadata": {},
   "outputs": [
    {
     "name": "stdout",
     "output_type": "stream",
     "text": [
      "CloseApproach(asteroid=Asteroid(id='2496816', name='496816 (1989 UP)', estimated_diameter=0.459240286, is_potentially_hazardous=True, close_approaches=[]), orbiting_body='Earth', approach_date='1910-10-01', miss_distance='63345120.345287499', relative_velocity='19.7542583014')\n"
     ]
    }
   ],
   "source": [
    "# i tweaked this a little and pasted it in the code block above\n",
    "\n",
    "@dataclass\n",
    "class CloseApproach:\n",
    "    asteroid: object\n",
    "    orbiting_body: str\n",
    "    approach_date: datetime.date\n",
    "    miss_distance: float # in kilometers\n",
    "    relative_velocity: float # in kilometers per second\n",
    "\n",
    "    '''\n",
    "    had we not been using dataclass\n",
    "    def __init__(self, asteroid, orbiting_body, approach_date, miss_distance, relative_velocity):\n",
    "        self.asteroid = asteroid\n",
    "        self.orbiting_body = orbiting_body\n",
    "        self.approach_date = approach_date\n",
    "        self.miss_distance = miss_distance\n",
    "        self.relative_velocity = relative_velocity\n",
    "\n",
    "    def __str__(self):\n",
    "        return f'{self.asteroid} will approach {self.orbiting_body} on {self.approach_date} at a miss distance of {self.miss_distance} kilometers and a relative velocity of {self.relative_velocity} kilometers per second.'\n",
    "    '''\n",
    "    @classmethod\n",
    "    def CA_Constructor(cls, close_approach_data, asteroid):\n",
    "        neo_id = asteroid.id\n",
    "        url = f'https://api.nasa.gov/neo/rest/v1/neo/{neo_id}/?api_key={API_KEY}'\n",
    "        response = requests.request(\"GET\", url, headers={}, data={})\n",
    "        data = json.loads(response.text)\n",
    "        # pprint(data[close_approach_data])\n",
    "        # wip\n",
    "        # our return will use index 0 of the close_approach_data list, as we're only currently interested in testing\n",
    "        # our code out with the first close approach\n",
    "        return(cls(asteroid, data[close_approach_data][0]['orbiting_body'], data[close_approach_data][0]['close_approach_date'], data[close_approach_data][0]['miss_distance']['kilometers'], data[close_approach_data][0]['relative_velocity']['kilometers_per_second']))\n",
    "        \n",
    "# test our code\n",
    "asteroid = Asteroid.from_NEO('2496816')\n",
    "close_approach_test = CloseApproach.CA_Constructor('close_approach_data', asteroid)\n",
    "print(close_approach_test)"
   ]
  },
  {
   "attachments": {},
   "cell_type": "markdown",
   "metadata": {},
   "source": [
    "# Exercise 4: Add list of CloseApproaches to Asteroid\n",
    "\n",
    "Every Asteroid should have a list of “close approaches”. Add a new state variable to your Asteroid\n",
    "class, initially an empty list. In the factory method, use a list comprehension to build a list of\n",
    "CloseApproach objects for the Asteroid from the NEO data record.\n",
    "Extend your test code to demonstrate this new feature."
   ]
  },
  {
   "cell_type": "code",
   "execution_count": 13,
   "metadata": {},
   "outputs": [],
   "source": [
    "# code added to code block above"
   ]
  }
 ],
 "metadata": {
  "colab": {
   "collapsed_sections": [],
   "name": "Lab2-NEO.ipynb",
   "provenance": []
  },
  "kernelspec": {
   "display_name": "Python 3",
   "language": "python",
   "name": "python3"
  },
  "language_info": {
   "codemirror_mode": {
    "name": "ipython",
    "version": 3
   },
   "file_extension": ".py",
   "mimetype": "text/x-python",
   "name": "python",
   "nbconvert_exporter": "python",
   "pygments_lexer": "ipython3",
   "version": "3.11.0"
  },
  "vscode": {
   "interpreter": {
    "hash": "8c2f246d3ce420063ed954338bc2bac546d72c83e6af55e115a8c50b3a9eb1f4"
   }
  }
 },
 "nbformat": 4,
 "nbformat_minor": 0
}
