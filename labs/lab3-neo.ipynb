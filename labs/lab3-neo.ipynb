{
 "cells": [
  {
   "attachments": {},
   "cell_type": "markdown",
   "metadata": {
    "id": "nbRPZPKZU5Pk"
   },
   "source": [
    "COMP 215 - LAB 3 (NEO)\n",
    "----------------\n",
    "#### Name: Watson Li\n",
    "#### Date: 23 Jan 2023\n",
    "\n",
    "This lab exercise is mostly a review of strings, tuples, lists, dictionaries, and functions.\n",
    "\n",
    "**Building on new concepts from lab 1**:\n",
    "  * `datetime.date` objects represent a calendar date\n",
    "  * *list comprehension* provides a compact way to represent map and filter algorithms\n",
    "\n",
    "**New Python Concepts**:\n",
    "  * *f-string* simplifies string formatting operations\n",
    "\n",
    "As usual, the first code cell simply imports all the modules we'll be using..."
   ]
  },
  {
   "cell_type": "code",
   "execution_count": 2,
   "metadata": {
    "collapsed": false,
    "pycharm": {
     "name": "#%%\n"
    }
   },
   "outputs": [],
   "source": [
    "import datetime, json, requests\n",
    "from dataclasses import dataclass\n",
    "from pprint import pprint    # Pretty Print - built-in python function to nicely format data structures"
   ]
  },
  {
   "cell_type": "markdown",
   "metadata": {
    "collapsed": false,
    "pycharm": {
     "name": "#%% md\n"
    }
   },
   "source": [
    "We'll answer some questions about [Near Earth Objects](https://cneos.jpl.nasa.gov/)\n",
    "> using NASA's API:  [https://api.nasa.gov/](https://api.nasa.gov/#NeoWS)\n",
    "\n",
    "You should register for your own API key, (but may use the DEMO_KEY to get started).\n",
    "\n",
    "First we need a short tutorial on python dates and [f-strings](https://realpython.com/python-f-strings/)..."
   ]
  },
  {
   "cell_type": "code",
   "execution_count": 3,
   "metadata": {
    "collapsed": false,
    "pycharm": {
     "name": "#%%\n"
    }
   },
   "outputs": [],
   "source": [
    "today = datetime.date.today()   # get a date object representing today's date\n",
    "# print(today, type(today))\n",
    "formatted_date = f'Today is: {today}'   # A format string - notice how the variable `today` is formatted into the stringg\n",
    "# print(formatted_date)"
   ]
  },
  {
   "cell_type": "markdown",
   "metadata": {
    "collapsed": false,
    "pycharm": {
     "name": "#%% md\n"
    }
   },
   "source": [
    "### Make a query\n",
    "\n",
    "Let's get some data from the NEO database...\n",
    "Here's a query that gets the observation \"feed\" for today.\n",
    "(Note: I hard-coded the date below to lock down the data for the lab - ideally used `today()` so the notebook is always up-to-date.)"
   ]
  },
  {
   "cell_type": "code",
   "execution_count": 4,
   "metadata": {
    "collapsed": false,
    "pycharm": {
     "name": "#%%\n"
    }
   },
   "outputs": [
    {
     "name": "stdout",
     "output_type": "stream",
     "text": [
      "12 Near Earth Objects found for 2023-01-09\n"
     ]
    }
   ],
   "source": [
    "API_KEY = 'DEMO_KEY'  # substitute your API key here\n",
    "\n",
    "today = '2023-01-09'  #  Future enhancement:  str(datetime.date.today())   # Today's date as a string!\n",
    "# Use an f-string here to \"format\" the date and API key varaibles.\n",
    "url = f'https://api.nasa.gov/neo/rest/v1/feed?start_date={today}&end_date={today}&api_key={API_KEY}'\n",
    "\n",
    "response = requests.request(\"GET\", url, headers={}, data={})\n",
    "\n",
    "data = json.loads(response.text)  # recall json.loads for lab 1\n",
    "\n",
    "# TIP: print(data) to see the whole data structure returned, here we grab just the list of NEO's:\n",
    "n_results = data['element_count']\n",
    "neos = data['near_earth_objects'][today]\n",
    "print(f'{n_results} Near Earth Objects found for {today}')"
   ]
  },
  {
   "cell_type": "markdown",
   "metadata": {
    "collapsed": false,
    "pycharm": {
     "name": "#%% md\n"
    }
   },
   "source": [
    "Next we extract just the potentially hazerdous asteroids, using a Comp115-style list accumulator *loop*:"
   ]
  },
  {
   "cell_type": "code",
   "execution_count": 5,
   "metadata": {
    "id": "JDGbYTySU3BP"
   },
   "outputs": [
    {
     "name": "stdout",
     "output_type": "stream",
     "text": [
      "3 potentially hazardous asteroids identified.\n"
     ]
    }
   ],
   "source": [
    "hazards =  []\n",
    "for item in neos:\n",
    "  if item['is_potentially_hazardous_asteroid'] is True:\n",
    "    hazards.append(item)\n",
    "print(f'{len(hazards)} potentially hazardous asteroids identified.')"
   ]
  },
  {
   "cell_type": "markdown",
   "metadata": {
    "collapsed": false,
    "pycharm": {
     "name": "#%% md\n"
    }
   },
   "source": [
    "## Exercise 1\n",
    "\n",
    "In the code cell below, **re-write the accumulator loop above** as a [list comprehension](https://realpython.com/lessons/list-comprehensions-overview/) that implements a [\"filter\"](https://youtu.be/hUes6y2b--0)\n",
    "Notice how this provides a concise way to \"filter\" items of interest from a larger data set."
   ]
  },
  {
   "cell_type": "code",
   "execution_count": 6,
   "metadata": {
    "collapsed": false,
    "pycharm": {
     "name": "#%%\n"
    }
   },
   "outputs": [
    {
     "name": "stdout",
     "output_type": "stream",
     "text": [
      "3 potentially hazardous asteroids identified.\n"
     ]
    }
   ],
   "source": [
    "hazards = [item for item in neos if item['is_potentially_hazardous_asteroid'] is True]\n",
    "print(f'{len(hazards)} potentially hazardous asteroids identified.')"
   ]
  },
  {
   "cell_type": "markdown",
   "metadata": {
    "collapsed": false,
    "pycharm": {
     "name": "#%% md\n"
    }
   },
   "source": [
    "## Fetch Complete Data for One Asteroid\n",
    "\n",
    "Notice that the record for each `neo` is a dictionary with `id` field that uniquely identifies this record in the database.\n",
    "\n",
    "We can use this `id` to fetch complete orbital and close approach data for the NEO.\n",
    "\n",
    "For example, this query fetches the complete data set for the first hazardous asteroid...\n"
   ]
  },
  {
   "cell_type": "code",
   "execution_count": 7,
   "metadata": {
    "collapsed": false,
    "pycharm": {
     "name": "#%%\n"
    }
   },
   "outputs": [],
   "source": [
    "id = hazards[0]['id']\n",
    "url = f'https://api.nasa.gov/neo/rest/v1/neo/{id}/?api_key={API_KEY}'\n",
    "response = requests.request(\"GET\", url, headers={}, data={})\n",
    "data = json.loads(response.text)"
   ]
  },
  {
   "cell_type": "markdown",
   "metadata": {
    "id": "DNRs7ynOYwYk"
   },
   "source": [
    "Notice that the `miss_distance` field contains the distance (in various units) by which the NEO missed an \"orbiting body\".\n",
    "\n",
    "## Exercise 2\n",
    "\n",
    "In the code cell below, write a python function that takes a list of \"close approach data\" as a parameter,\n",
    "and returns a 2-tuple with the (date, miss km) of the closest approach to Earth in the list (where \"miss km\" is the miss distance in km).\n",
    "\n",
    "Hints:\n",
    "* notice the input is a list of dictionaries.  Each dictionary has a 'close_approach_date\", \"orbiting_body\", and 'miss_distance' field.\n",
    "* we are only interested in the closest approach to \"Earth\"\n",
    "* use a loop if that is easier to understand - we will look at more compact algorithms to solve this problem in class.\n",
    "\n",
    "Add at least one unit test to check your work - note the test data only needs dictionaries with the fields your function actually uses.\n"
   ]
  },
  {
   "cell_type": "code",
   "execution_count": 8,
   "metadata": {
    "colab": {
     "base_uri": "https://localhost:8080/"
    },
    "id": "tiyXTDfnZAd0",
    "outputId": "d458a4a2-813a-4b12-e688-73aa07a687db"
   },
   "outputs": [
    {
     "data": {
      "text/plain": [
       "('2049-01-09', '10799717.984332507')"
      ]
     },
     "execution_count": 8,
     "metadata": {},
     "output_type": "execute_result"
    }
   ],
   "source": [
    "def neomisses(close_approach_data):\n",
    "    '''parser for close approach data for a single NEO, returns a tuple of the date and miss distance of the closest approach'''\n",
    "    # object has to be orbiting Earth\n",
    "    earth_approaches = [item for item in close_approach_data if item['orbiting_body'] == 'Earth']\n",
    "    # sort the list by miss distance\n",
    "    earth_approaches.sort(key=lambda x: x['miss_distance']['kilometers'])\n",
    "    # return the date and miss distance of the closest approach\n",
    "    return earth_approaches[0]['close_approach_date'], earth_approaches[0]['miss_distance']['kilometers']\n",
    "\n",
    "# test the function\n",
    "neomisses(data['close_approach_data'])"
   ]
  },
  {
   "cell_type": "markdown",
   "metadata": {
    "collapsed": false
   },
   "source": [
    "## OPTIONAL - Take your skills to the next level...\n",
    "## Exercise 3\n",
    "\n",
    "In the code cell below, write a complete program that:\n",
    " 1. fetches the list of NEO's for this week.\n",
    " 2. for each NEO, fetch it's complete orbital data and determine its closest approach to Earth\n",
    " 3. identify which NEO from this week's data makes the closet approach to earth\n",
    " 4. print a nice message with information about the NEO, which it will approach the Earth, and how close it will come.\n",
    "\n",
    "Hints:\n",
    "* you'll need the start and end date - end date is today, see if you can use a [`timedelta`](https://docs.python.org/3/library/datetime.html#timedelta-objects) object to ge the start date (you can do basic \"date math\" with `timedelta` and `date` objects!)\n",
    "* you may need to modify the function we wrote in Ex. 2 to return a triple with the NEO's id included;\n",
    "* lots of opportunity here for more practice with list comprehensions\n"
   ]
  },
  {
   "cell_type": "code",
   "execution_count": 9,
   "metadata": {
    "colab": {
     "base_uri": "https://localhost:8080/"
    },
    "id": "Ds1YevErlzCe",
    "outputId": "87047de1-ec1b-4a81-d6a1-7f2049b6c2f8",
    "pycharm": {
     "name": "#%%\n"
    }
   },
   "outputs": [
    {
     "name": "stdout",
     "output_type": "stream",
     "text": [
      "The closest approach will be on 2023-01-20 and the miss distance will be 1993300.692164614 kilometers.\n"
     ]
    }
   ],
   "source": [
    "# fetch list of NEOs for the week\n",
    "today = datetime.date.today()\n",
    "week = datetime.timedelta(days=7)\n",
    "weekbefore = today - week\n",
    "API_KEY = 'DEMO_KEY'  # substitute your API key here\n",
    "url = f'https://api.nasa.gov/neo/rest/v1/feed?start_date={weekbefore}&end_date={today}&api_key={API_KEY}'\n",
    "response = requests.request(\"GET\", url, headers={}, data={})\n",
    "data = json.loads(response.text)  # recall json.loads for lab 1\n",
    "# TIP: print(data) to see the whole data structure returned, here we grab just the list of NEO's:\n",
    "n_results = data['element_count']\n",
    "neos = data['near_earth_objects']\n",
    "def neomisses(close_approach_data):\n",
    "    '''parser for close approach data for a single NEO, returns a tuple of the date and miss distance of the closest approach'''\n",
    "    # object has to be orbiting Earth\n",
    "    earth_approaches = [item for item in close_approach_data if item['orbiting_body'] == 'Earth']\n",
    "    # sort the list by miss distance\n",
    "    earth_approaches.sort(key=lambda x: x['miss_distance']['kilometers'])\n",
    "    # return the date and miss distance of the closest approach\n",
    "    return earth_approaches[0]['close_approach_date'], earth_approaches[0]['miss_distance']['kilometers']\n",
    "# make a new list of 2-tuples of dates and miss distances\n",
    "misslist = [neomisses(dct['close_approach_data']) for item in neos.values() for dct in item]\n",
    "# make a new list of just the miss distances\n",
    "missdistances = [float(item[1]) for item in misslist]\n",
    "# find the index of the minimum miss distance\n",
    "minindex = missdistances.index(min(missdistances))\n",
    "# print the date and miss distance of the closest approach\n",
    "print(f'The closest approach will be on {misslist[minindex][0]} and the miss distance will be {misslist[minindex][1]} kilometers.')"
   ]
  },
  {
   "attachments": {},
   "cell_type": "markdown",
   "metadata": {},
   "source": [
    "## Lab 3\n",
    "\n",
    "# Exercise 1: Define an Asteroid class\n",
    "\n",
    "Using what we learned in the textbook, define a simple Asteroid class with some basic state\n",
    "variables for a single NEO. Your Asteroid class should define at least 4 \"state variables:”\n",
    "`id, name, estimated_diameter (m), is_potentially_hazardous (bool)`\n",
    "\n",
    "Provide an `__init__(self, ...)` method to initialize a new Asteroid object with\n",
    "specific data values and a little code to test your class.\n",
    "\n",
    "Add a `__str__(self)` method that returns a nicely formatted string representation of the\n",
    "object, plus a little code to test it."
   ]
  },
  {
   "cell_type": "code",
   "execution_count": 30,
   "metadata": {},
   "outputs": [
    {
     "name": "stdout",
     "output_type": "stream",
     "text": [
      "Asteroid(id='2496816', name='496816 (1989 UP)', estimated_diameter=0.459240286, is_potentially_hazardous=True, close_approaches=[CloseApproach(orbiting_body='Earth', approach_date='1910-10-01', miss_distance='63345120.345287499', relative_velocity='19.7542583014'), CloseApproach(orbiting_body='Earth', approach_date='1915-12-29', miss_distance='12065148.878671504', relative_velocity='8.6494767509'), CloseApproach(orbiting_body='Mars', approach_date='1928-06-17', miss_distance='10573160.043623126', relative_velocity='12.9182561414'), CloseApproach(orbiting_body='Earth', approach_date='1938-11-18', miss_distance='777713.040549022', relative_velocity='6.8886530362'), CloseApproach(orbiting_body='Moon', approach_date='1938-11-19', miss_distance='1037688.003861133', relative_velocity='7.4483146781'), CloseApproach(orbiting_body='Earth', approach_date='1961-10-03', miss_distance='60219654.610441952', relative_velocity='19.1433484686'), CloseApproach(orbiting_body='Earth', approach_date='1966-12-29', miss_distance='11555181.184078559', relative_velocity='8.5259942849'), CloseApproach(orbiting_body='Earth', approach_date='1989-11-03', miss_distance='7401917.315678218', relative_velocity='8.2854320445'), CloseApproach(orbiting_body='Earth', approach_date='1995-01-26', miss_distance='57534991.131938662', relative_velocity='18.5649776641'), CloseApproach(orbiting_body='Mars', approach_date='2007-06-24', miss_distance='11990478.971834379', relative_velocity='10.9361514119'), CloseApproach(orbiting_body='Earth', approach_date='2017-11-02', miss_distance='8218711.812418798', relative_velocity='8.4557101819'), CloseApproach(orbiting_body='Earth', approach_date='2023-01-23', miss_distance='48695062.76498717', relative_velocity='16.7129652052'), CloseApproach(orbiting_body='Mars', approach_date='2038-07-31', miss_distance='8226942.388030458', relative_velocity='11.7292796851'), CloseApproach(orbiting_body='Earth', approach_date='2045-10-04', miss_distance='60397580.796858549', relative_velocity='19.1956341126'), CloseApproach(orbiting_body='Earth', approach_date='2050-12-08', miss_distance='3998178.673729806', relative_velocity='6.6616182568'), CloseApproach(orbiting_body='Earth', approach_date='2073-10-01', miss_distance='68855990.897772214', relative_velocity='20.8616116277'), CloseApproach(orbiting_body='Earth', approach_date='2078-12-13', miss_distance='4871742.031625654', relative_velocity='6.8340628898'), CloseApproach(orbiting_body='Mars', approach_date='2081-11-01', miss_distance='10572506.585167179', relative_velocity='11.3179881729'), CloseApproach(orbiting_body='Mars', approach_date='2093-12-29', miss_distance='6971323.662864122', relative_velocity='11.7683612416'), CloseApproach(orbiting_body='Earth', approach_date='2101-10-22', miss_distance='23825584.055028697', relative_velocity='11.8607229337'), CloseApproach(orbiting_body='Earth', approach_date='2107-01-25', miss_distance='49096699.012421745', relative_velocity='16.7910459082'), CloseApproach(orbiting_body='Earth', approach_date='2124-09-30', miss_distance='73483376.761622681', relative_velocity='21.8197093626'), CloseApproach(orbiting_body='Earth', approach_date='2129-12-20', miss_distance='6349160.752205808', relative_velocity='7.1298662108'), CloseApproach(orbiting_body='Earth', approach_date='2152-12-10', miss_distance='4232768.494159913', relative_velocity='6.6684938382'), CloseApproach(orbiting_body='Earth', approach_date='2170-10-07', miss_distance='59725466.588935329', relative_velocity='19.0761445578'), CloseApproach(orbiting_body='Earth', approach_date='2176-01-19', miss_distance='33311169.199408819', relative_velocity='13.4599984401'), CloseApproach(orbiting_body='Earth', approach_date='2193-10-29', miss_distance='15713998.379729679', relative_velocity='10.0914572559'), CloseApproach(orbiting_body='Earth', approach_date='2199-02-05', miss_distance='74768091.569394028', relative_velocity='21.9823236443')])\n"
     ]
    }
   ],
   "source": [
    "@dataclass\n",
    "class Asteroid:\n",
    "    id: str\n",
    "    name: str\n",
    "    estimated_diameter: float\n",
    "    is_potentially_hazardous: bool\n",
    "    # for exercise 4:\n",
    "    close_approaches: list\n",
    "\n",
    "    '''\n",
    "    def __init__(self, id, name, estimated_diameter, is_potentially_hazardous):\n",
    "        self.id = id\n",
    "        self.name = name\n",
    "        self.estimated_diameter = estimated_diameter\n",
    "        self.is_potentially_hazardous = is_potentially_hazardous\n",
    "        self.close_approaches = []\n",
    "\n",
    "    def __str__(self):\n",
    "        return f'{self.name} (NEO id: {self.id} - Diameter: {self.estimated_diameter} km - Hazardous: {self.is_potentially_hazardous} - Close Approaches: {self.close_approaches})'\n",
    "    '''\n",
    "    @classmethod\n",
    "    def from_NEO(cls, neo_id):\n",
    "        url = f'https://api.nasa.gov/neo/rest/v1/neo/{neo_id}/?api_key={API_KEY}'\n",
    "        response = requests.request(\"GET\", url, headers={}, data={})\n",
    "        data = json.loads(response.text)\n",
    "        #close_approach_list = CloseApproach.CA_Constructor('close_approach_data', data)\n",
    "        return cls(data['id'], data['name'], data['estimated_diameter']['kilometers']['estimated_diameter_max'], data['is_potentially_hazardous_asteroid'], [])\n",
    "\n",
    "# some changes were made here, specified more in comments and code blocks below\n",
    "\n",
    "@dataclass\n",
    "class CloseApproach:\n",
    "    # asteroid: object\n",
    "    # commented this out as I wasn't sure how have the asteroid object be passed in - as I need \n",
    "    # to pass in the CloseApproach object to the Asteroid object again as well, I kept running\n",
    "    # into a circular import error, so instead I've taken the asteroid parameter out of the \n",
    "    # object here. it's still in the version of the CloseApproach class that's in its own code block below, as that\n",
    "    # was the version i started from. \n",
    "    orbiting_body: str\n",
    "    approach_date: datetime.date\n",
    "    miss_distance: float # in kilometers\n",
    "    relative_velocity: float # in kilometers per second\n",
    "\n",
    "    '''\n",
    "    had we not been using dataclass\n",
    "    def __init__(self, orbiting_body, approach_date, miss_distance, relative_velocity):\n",
    "        # self.asteroid = asteroid\n",
    "        self.orbiting_body = orbiting_body\n",
    "        self.approach_date = approach_date\n",
    "        self.miss_distance = miss_distance\n",
    "        self.relative_velocity = relative_velocity\n",
    "\n",
    "    def __str__(self):\n",
    "        return f'{self.asteroid} will approach {self.orbiting_body} on {self.approach_date} at a miss distance of {self.miss_distance} kilometers and a relative velocity of {self.relative_velocity} kilometers per second.'\n",
    "    '''\n",
    "    @classmethod\n",
    "    def CA_Constructor(cls, close_approach_data, asteroid):\n",
    "        neo_id = asteroid.id\n",
    "        url = f'https://api.nasa.gov/neo/rest/v1/neo/{neo_id}/?api_key={API_KEY}'\n",
    "        response = requests.request(\"GET\", url, headers={}, data={})\n",
    "        data = json.loads(response.text)\n",
    "        # pprint(data[close_approach_data])\n",
    "        # wip\n",
    "        # some of the shit that follows is kinda scuffed but w/e\n",
    "        CA_list = [cls(i['orbiting_body'], i['close_approach_date'], i['miss_distance']['kilometers'], i['relative_velocity']['kilometers_per_second']) for i in data[close_approach_data]]\n",
    "        asteroid.close_approaches = CA_list # kind of a hacky way to do this, but it works\n",
    "        return(asteroid) # this is an entirely different return statement compared to the original, which is in the exercise 3 code block below\n",
    "\n",
    "# test our code\n",
    "asteroid = Asteroid.from_NEO('2496816') # literally just yoinked the first asteroid ID that i found when browsing the raw output from the API lol \n",
    "asteroid = CloseApproach.CA_Constructor('close_approach_data', asteroid)\n",
    "print(asteroid)"
   ]
  },
  {
   "attachments": {},
   "cell_type": "markdown",
   "metadata": {},
   "source": [
    "# Exercise 2: Factory method: Asteroid.from_NEO\n",
    "\n",
    "We want to be able to construct Asteroid objects easily from the NEO API. Define a\n",
    "`“@classmethod”: from_NEO(cls, neo_id)` that takes the id for a single NEO, fetches the\n",
    "NEO record from API, constructs and returns an Asteroid object representing that NEO.\n",
    "This kind of method is sometimes called a “Factory” – it constructs an object from raw materials."
   ]
  },
  {
   "cell_type": "code",
   "execution_count": 11,
   "metadata": {},
   "outputs": [],
   "source": [
    "# added to code block above"
   ]
  },
  {
   "attachments": {},
   "cell_type": "markdown",
   "metadata": {},
   "source": [
    "# Exercise 3: Define a CloseApproach class\n",
    "\n",
    "Each NEO comes with a list of “close_approach_data”, where each record in this list represents\n",
    "a single “close approach” to another orbiting body.\n",
    "\n",
    "Develop a class named “CloseApproach” to represent a single close approach record.\n",
    "State variables are asteroid (Asteroid object), orbiting body (str), approach date\n",
    "(datetime object!), miss distance (float choose units, document it, and be consistent!),\n",
    "and relative velocity (ditto).\n",
    "\n",
    "Define a Factory class method to construct a CloseApproach object from one close\n",
    "approach data record (a dictionary object). Remember to parse the date/time string into a\n",
    "datetime object."
   ]
  },
  {
   "cell_type": "code",
   "execution_count": 24,
   "metadata": {},
   "outputs": [
    {
     "name": "stdout",
     "output_type": "stream",
     "text": [
      "[{'close_approach_date': '1910-10-01',\n",
      "  'close_approach_date_full': '1910-Oct-01 06:55',\n",
      "  'epoch_date_close_approach': -1869843900000,\n",
      "  'miss_distance': {'astronomical': '0.4234359777',\n",
      "                    'kilometers': '63345120.345287499',\n",
      "                    'lunar': '164.7165953253',\n",
      "                    'miles': '39360832.5965015262'},\n",
      "  'orbiting_body': 'Earth',\n",
      "  'relative_velocity': {'kilometers_per_hour': '71115.3298851714',\n",
      "                        'kilometers_per_second': '19.7542583014',\n",
      "                        'miles_per_hour': '44188.3003944833'}},\n",
      " {'close_approach_date': '1915-12-29',\n",
      "  'close_approach_date_full': '1915-Dec-29 07:13',\n",
      "  'epoch_date_close_approach': -1704386820000,\n",
      "  'miss_distance': {'astronomical': '0.0806505392',\n",
      "                    'kilometers': '12065148.878671504',\n",
      "                    'lunar': '31.3730597488',\n",
      "                    'miles': '7496935.8756705952'},\n",
      "  'orbiting_body': 'Earth',\n",
      "  'relative_velocity': {'kilometers_per_hour': '31138.1163033303',\n",
      "                        'kilometers_per_second': '8.6494767509',\n",
      "                        'miles_per_hour': '19348.0145441443'}},\n",
      " {'close_approach_date': '1928-06-17',\n",
      "  'close_approach_date_full': '1928-Jun-17 14:29',\n",
      "  'epoch_date_close_approach': -1310895060000,\n",
      "  'miss_distance': {'astronomical': '0.0706772098',\n",
      "                    'kilometers': '10573160.043623126',\n",
      "                    'lunar': '27.4934346122',\n",
      "                    'miles': '6569857.0027900988'},\n",
      "  'orbiting_body': 'Mars',\n",
      "  'relative_velocity': {'kilometers_per_hour': '46505.7221091127',\n",
      "                        'kilometers_per_second': '12.9182561414',\n",
      "                        'miles_per_hour': '28896.8471627428'}},\n",
      " {'close_approach_date': '1938-11-18',\n",
      "  'close_approach_date_full': '1938-Nov-18 23:08',\n",
      "  'epoch_date_close_approach': -982025520000,\n",
      "  'miss_distance': {'astronomical': '0.0051986906',\n",
      "                    'kilometers': '777713.040549022',\n",
      "                    'lunar': '2.0222906434',\n",
      "                    'miles': '483248.4748676236'},\n",
      "  'orbiting_body': 'Earth',\n",
      "  'relative_velocity': {'kilometers_per_hour': '24799.1509302594',\n",
      "                        'kilometers_per_second': '6.8886530362',\n",
      "                        'miles_per_hour': '15409.2279766381'}},\n",
      " {'close_approach_date': '1938-11-19',\n",
      "  'close_approach_date_full': '1938-Nov-19 07:55',\n",
      "  'epoch_date_close_approach': -981993900000,\n",
      "  'miss_distance': {'astronomical': '0.0069365159',\n",
      "                    'kilometers': '1037688.003861133',\n",
      "                    'lunar': '2.6983046851',\n",
      "                    'miles': '644789.4263163154'},\n",
      "  'orbiting_body': 'Moon',\n",
      "  'relative_velocity': {'kilometers_per_hour': '26813.9328410937',\n",
      "                        'kilometers_per_second': '7.4483146781',\n",
      "                        'miles_per_hour': '16661.1351034007'}},\n",
      " {'close_approach_date': '1961-10-03',\n",
      "  'close_approach_date_full': '1961-Oct-03 12:49',\n",
      "  'epoch_date_close_approach': -260190660000,\n",
      "  'miss_distance': {'astronomical': '0.4025435296',\n",
      "                    'kilometers': '60219654.610441952',\n",
      "                    'lunar': '156.5894330144',\n",
      "                    'miles': '37418758.2440528576'},\n",
      "  'orbiting_body': 'Earth',\n",
      "  'relative_velocity': {'kilometers_per_hour': '68916.0544869006',\n",
      "                        'kilometers_per_second': '19.1433484686',\n",
      "                        'miles_per_hour': '42821.7561893744'}},\n",
      " {'close_approach_date': '1966-12-29',\n",
      "  'close_approach_date_full': '1966-Dec-29 20:01',\n",
      "  'epoch_date_close_approach': -94881540000,\n",
      "  'miss_distance': {'astronomical': '0.0772416157',\n",
      "                    'kilometers': '11555181.184078559',\n",
      "                    'lunar': '30.0469885073',\n",
      "                    'miles': '7180056.6441357542'},\n",
      "  'orbiting_body': 'Earth',\n",
      "  'relative_velocity': {'kilometers_per_hour': '30693.5794256931',\n",
      "                        'kilometers_per_second': '8.5259942849',\n",
      "                        'miles_per_hour': '19071.7966159258'}},\n",
      " {'close_approach_date': '1989-11-03',\n",
      "  'close_approach_date_full': '1989-Nov-03 09:51',\n",
      "  'epoch_date_close_approach': 626089860000,\n",
      "  'miss_distance': {'astronomical': '0.0494787614',\n",
      "                    'kilometers': '7401917.315678218',\n",
      "                    'lunar': '19.2472381846',\n",
      "                    'miles': '4599338.1458186884'},\n",
      "  'orbiting_body': 'Earth',\n",
      "  'relative_velocity': {'kilometers_per_hour': '29827.5553600686',\n",
      "                        'kilometers_per_second': '8.2854320445',\n",
      "                        'miles_per_hour': '18533.6829402604'}},\n",
      " {'close_approach_date': '1995-01-26',\n",
      "  'close_approach_date_full': '1995-Jan-26 20:40',\n",
      "  'epoch_date_close_approach': 791152800000,\n",
      "  'miss_distance': {'astronomical': '0.3845976626',\n",
      "                    'kilometers': '57534991.131938662',\n",
      "                    'lunar': '149.6084907514',\n",
      "                    'miles': '35750585.7126990556'},\n",
      "  'orbiting_body': 'Earth',\n",
      "  'relative_velocity': {'kilometers_per_hour': '66833.9195908079',\n",
      "                        'kilometers_per_second': '18.5649776641',\n",
      "                        'miles_per_hour': '41527.998536855'}},\n",
      " {'close_approach_date': '2007-06-24',\n",
      "  'close_approach_date_full': '2007-Jun-24 22:21',\n",
      "  'epoch_date_close_approach': 1182723660000,\n",
      "  'miss_distance': {'astronomical': '0.0801514017',\n",
      "                    'kilometers': '11990478.971834379',\n",
      "                    'lunar': '31.1788952613',\n",
      "                    'miles': '7450538.1470532702'},\n",
      "  'orbiting_body': 'Mars',\n",
      "  'relative_velocity': {'kilometers_per_hour': '39370.1450828645',\n",
      "                        'kilometers_per_second': '10.9361514119',\n",
      "                        'miles_per_hour': '24463.0770932943'}},\n",
      " {'close_approach_date': '2017-11-02',\n",
      "  'close_approach_date_full': '2017-Nov-02 16:25',\n",
      "  'epoch_date_close_approach': 1509639900000,\n",
      "  'miss_distance': {'astronomical': '0.0549386954',\n",
      "                    'kilometers': '8218711.812418798',\n",
      "                    'lunar': '21.3711525106',\n",
      "                    'miles': '5106870.7114954924'},\n",
      "  'orbiting_body': 'Earth',\n",
      "  'relative_velocity': {'kilometers_per_hour': '30440.556654817',\n",
      "                        'kilometers_per_second': '8.4557101819',\n",
      "                        'miles_per_hour': '18914.5781058778'}},\n",
      " {'close_approach_date': '2023-01-23',\n",
      "  'close_approach_date_full': '2023-Jan-23 12:21',\n",
      "  'epoch_date_close_approach': 1674476460000,\n",
      "  'miss_distance': {'astronomical': '0.325506391',\n",
      "                    'kilometers': '48695062.76498717',\n",
      "                    'lunar': '126.621986099',\n",
      "                    'miles': '30257708.933556146'},\n",
      "  'orbiting_body': 'Earth',\n",
      "  'relative_velocity': {'kilometers_per_hour': '60166.6747388816',\n",
      "                        'kilometers_per_second': '16.7129652052',\n",
      "                        'miles_per_hour': '37385.2318676123'}},\n",
      " {'close_approach_date': '2038-07-31',\n",
      "  'close_approach_date_full': '2038-Jul-31 20:09',\n",
      "  'epoch_date_close_approach': 2164219740000,\n",
      "  'miss_distance': {'astronomical': '0.0549937134',\n",
      "                    'kilometers': '8226942.388030458',\n",
      "                    'lunar': '21.3925545126',\n",
      "                    'miles': '5111984.9540300004'},\n",
      "  'orbiting_body': 'Mars',\n",
      "  'relative_velocity': {'kilometers_per_hour': '42225.4068664788',\n",
      "                        'kilometers_per_second': '11.7292796851',\n",
      "                        'miles_per_hour': '26237.225727674'}},\n",
      " {'close_approach_date': '2045-10-04',\n",
      "  'close_approach_date_full': '2045-Oct-04 09:54',\n",
      "  'epoch_date_close_approach': 2390723640000,\n",
      "  'miss_distance': {'astronomical': '0.4037328927',\n",
      "                    'kilometers': '60397580.796858549',\n",
      "                    'lunar': '157.0520952603',\n",
      "                    'miles': '37529316.4496400162'},\n",
      "  'orbiting_body': 'Earth',\n",
      "  'relative_velocity': {'kilometers_per_hour': '69104.282805265',\n",
      "                        'kilometers_per_second': '19.1956341126',\n",
      "                        'miles_per_hour': '42938.7139464159'}},\n",
      " {'close_approach_date': '2050-12-08',\n",
      "  'close_approach_date_full': '2050-Dec-08 08:32',\n",
      "  'epoch_date_close_approach': 2554101120000,\n",
      "  'miss_distance': {'astronomical': '0.0267261738',\n",
      "                    'kilometers': '3998178.673729806',\n",
      "                    'lunar': '10.3964816082',\n",
      "                    'miles': '2484353.0268750828'},\n",
      "  'orbiting_body': 'Earth',\n",
      "  'relative_velocity': {'kilometers_per_hour': '23981.8257243967',\n",
      "                        'kilometers_per_second': '6.6616182568',\n",
      "                        'miles_per_hour': '14901.3738785842'}},\n",
      " {'close_approach_date': '2073-10-01',\n",
      "  'close_approach_date_full': '2073-Oct-01 13:32',\n",
      "  'epoch_date_close_approach': 3274090320000,\n",
      "  'miss_distance': {'astronomical': '0.4602738722',\n",
      "                    'kilometers': '68855990.897772214',\n",
      "                    'lunar': '179.0465362858',\n",
      "                    'miles': '42785128.7710919932'},\n",
      "  'orbiting_body': 'Earth',\n",
      "  'relative_velocity': {'kilometers_per_hour': '75101.8018598705',\n",
      "                        'kilometers_per_second': '20.8616116277',\n",
      "                        'miles_per_hour': '46665.3390500956'}},\n",
      " {'close_approach_date': '2078-12-13',\n",
      "  'close_approach_date_full': '2078-Dec-13 13:37',\n",
      "  'epoch_date_close_approach': 3438164220000,\n",
      "  'miss_distance': {'astronomical': '0.0325655842',\n",
      "                    'kilometers': '4871742.031625654',\n",
      "                    'lunar': '12.6680122538',\n",
      "                    'miles': '3027160.1271718652'},\n",
      "  'orbiting_body': 'Earth',\n",
      "  'relative_velocity': {'kilometers_per_hour': '24602.6264032325',\n",
      "                        'kilometers_per_second': '6.8340628898',\n",
      "                        'miles_per_hour': '15287.1152781641'}},\n",
      " {'close_approach_date': '2081-11-01',\n",
      "  'close_approach_date_full': '2081-Nov-01 04:56',\n",
      "  'epoch_date_close_approach': 3529198560000,\n",
      "  'miss_distance': {'astronomical': '0.0706728417',\n",
      "                    'kilometers': '10572506.585167179',\n",
      "                    'lunar': '27.4917354213',\n",
      "                    'miles': '6569450.9625339102'},\n",
      "  'orbiting_body': 'Mars',\n",
      "  'relative_velocity': {'kilometers_per_hour': '40744.7574224375',\n",
      "                        'kilometers_per_second': '11.3179881729',\n",
      "                        'miles_per_hour': '25317.2077439584'}},\n",
      " {'close_approach_date': '2093-12-29',\n",
      "  'close_approach_date_full': '2093-Dec-29 06:27',\n",
      "  'epoch_date_close_approach': 3912906420000,\n",
      "  'miss_distance': {'astronomical': '0.0466004206',\n",
      "                    'kilometers': '6971323.662864122',\n",
      "                    'lunar': '18.1275636134',\n",
      "                    'miles': '4331779.6568120036'},\n",
      "  'orbiting_body': 'Mars',\n",
      "  'relative_velocity': {'kilometers_per_hour': '42366.1004697532',\n",
      "                        'kilometers_per_second': '11.7683612416',\n",
      "                        'miles_per_hour': '26324.6472613308'}},\n",
      " {'close_approach_date': '2101-10-22',\n",
      "  'close_approach_date_full': '2101-Oct-22 11:25',\n",
      "  'epoch_date_close_approach': 4159423500000,\n",
      "  'miss_distance': {'astronomical': '0.1592641931',\n",
      "                    'kilometers': '23825584.055028697',\n",
      "                    'lunar': '61.9537711159',\n",
      "                    'miles': '14804531.4365501386'},\n",
      "  'orbiting_body': 'Earth',\n",
      "  'relative_velocity': {'kilometers_per_hour': '42698.6025613628',\n",
      "                        'kilometers_per_second': '11.8607229337',\n",
      "                        'miles_per_hour': '26531.2511304201'}},\n",
      " {'close_approach_date': '2107-01-25',\n",
      "  'close_approach_date_full': '2107-Jan-25 14:46',\n",
      "  'epoch_date_close_approach': 4325409960000,\n",
      "  'miss_distance': {'astronomical': '0.3281911635',\n",
      "                    'kilometers': '49096699.012421745',\n",
      "                    'lunar': '127.6663626015',\n",
      "                    'miles': '30507274.125220281'},\n",
      "  'orbiting_body': 'Earth',\n",
      "  'relative_velocity': {'kilometers_per_hour': '60447.7652693695',\n",
      "                        'kilometers_per_second': '16.7910459082',\n",
      "                        'miles_per_hour': '37559.8905919591'}},\n",
      " {'close_approach_date': '2124-09-30',\n",
      "  'close_approach_date_full': '2124-Sep-30 22:11',\n",
      "  'epoch_date_close_approach': 4883407860000,\n",
      "  'miss_distance': {'astronomical': '0.4912060363',\n",
      "                    'kilometers': '73483376.761622681',\n",
      "                    'lunar': '191.0791481207',\n",
      "                    'miles': '45660453.0163317578'},\n",
      "  'orbiting_body': 'Earth',\n",
      "  'relative_velocity': {'kilometers_per_hour': '78550.9537054259',\n",
      "                        'kilometers_per_second': '21.8197093626',\n",
      "                        'miles_per_hour': '48808.5078732409'}},\n",
      " {'close_approach_date': '2129-12-20',\n",
      "  'close_approach_date_full': '2129-Dec-20 23:36',\n",
      "  'epoch_date_close_approach': 5048177760000,\n",
      "  'miss_distance': {'astronomical': '0.0424415184',\n",
      "                    'kilometers': '6349160.752205808',\n",
      "                    'lunar': '16.5097506576',\n",
      "                    'miles': '3945185.5507358304'},\n",
      "  'orbiting_body': 'Earth',\n",
      "  'relative_velocity': {'kilometers_per_hour': '25667.5183588609',\n",
      "                        'kilometers_per_second': '7.1298662108',\n",
      "                        'miles_per_hour': '15948.7977269267'}},\n",
      " {'close_approach_date': '2152-12-10',\n",
      "  'close_approach_date_full': '2152-Dec-10 03:31',\n",
      "  'epoch_date_close_approach': 5773087860000,\n",
      "  'miss_distance': {'astronomical': '0.0282943099',\n",
      "                    'kilometers': '4232768.494159913',\n",
      "                    'lunar': '11.0064865511',\n",
      "                    'miles': '2630120.3819682794'},\n",
      "  'orbiting_body': 'Earth',\n",
      "  'relative_velocity': {'kilometers_per_hour': '24006.5778174131',\n",
      "                        'kilometers_per_second': '6.6684938382',\n",
      "                        'miles_per_hour': '14916.7538666031'}},\n",
      " {'close_approach_date': '2170-10-07',\n",
      "  'close_approach_date_full': '2170-Oct-07 12:56',\n",
      "  'epoch_date_close_approach': 6335585760000,\n",
      "  'miss_distance': {'astronomical': '0.3992400867',\n",
      "                    'kilometers': '59725466.588935329',\n",
      "                    'lunar': '155.3043937263',\n",
      "                    'miles': '37111684.0467083802'},\n",
      "  'orbiting_body': 'Earth',\n",
      "  'relative_velocity': {'kilometers_per_hour': '68674.1204079212',\n",
      "                        'kilometers_per_second': '19.0761445578',\n",
      "                        'miles_per_hour': '42671.4277612442'}},\n",
      " {'close_approach_date': '2176-01-19',\n",
      "  'close_approach_date_full': '2176-Jan-19 08:06',\n",
      "  'epoch_date_close_approach': 6502320360000,\n",
      "  'miss_distance': {'astronomical': '0.2226714137',\n",
      "                    'kilometers': '33311169.199408819',\n",
      "                    'lunar': '86.6191799293',\n",
      "                    'miles': '20698600.7336429422'},\n",
      "  'orbiting_body': 'Earth',\n",
      "  'relative_velocity': {'kilometers_per_hour': '48455.994384464',\n",
      "                        'kilometers_per_second': '13.4599984401',\n",
      "                        'miles_per_hour': '30108.6705107243'}},\n",
      " {'close_approach_date': '2193-10-29',\n",
      "  'close_approach_date_full': '2193-Oct-29 09:12',\n",
      "  'epoch_date_close_approach': 7063319520000,\n",
      "  'miss_distance': {'astronomical': '0.1050415917',\n",
      "                    'kilometers': '15713998.379729679',\n",
      "                    'lunar': '40.8611791713',\n",
      "                    'miles': '9764225.8199964102'},\n",
      "  'orbiting_body': 'Earth',\n",
      "  'relative_velocity': {'kilometers_per_hour': '36329.246121285',\n",
      "                        'kilometers_per_second': '10.0914572559',\n",
      "                        'miles_per_hour': '22573.5807357507'}},\n",
      " {'close_approach_date': '2199-02-05',\n",
      "  'close_approach_date_full': '2199-Feb-05 12:38',\n",
      "  'epoch_date_close_approach': 7229651880000,\n",
      "  'miss_distance': {'astronomical': '0.4997938244',\n",
      "                    'kilometers': '74768091.569394028',\n",
      "                    'lunar': '194.4197976916',\n",
      "                    'miles': '46458737.7809244664'},\n",
      "  'orbiting_body': 'Earth',\n",
      "  'relative_velocity': {'kilometers_per_hour': '79136.3651196269',\n",
      "                        'kilometers_per_second': '21.9823236443',\n",
      "                        'miles_per_hour': '49172.2597600259'}}]\n",
      "CloseApproach(asteroid=Asteroid(id='2496816', name='496816 (1989 UP)', estimated_diameter=0.459240286, is_potentially_hazardous=True, close_approaches=[]), orbiting_body='Earth', approach_date='1910-10-01', miss_distance='63345120.345287499', relative_velocity='19.7542583014')\n"
     ]
    }
   ],
   "source": [
    "# i tweaked this a little and pasted it in the code block above\n",
    "\n",
    "@dataclass\n",
    "class CloseApproach:\n",
    "    asteroid: object\n",
    "    orbiting_body: str\n",
    "    approach_date: datetime.date\n",
    "    miss_distance: float # in kilometers\n",
    "    relative_velocity: float # in kilometers per second\n",
    "\n",
    "    '''\n",
    "    had we not been using dataclass\n",
    "    def __init__(self, asteroid, orbiting_body, approach_date, miss_distance, relative_velocity):\n",
    "        self.asteroid = asteroid\n",
    "        self.orbiting_body = orbiting_body\n",
    "        self.approach_date = approach_date\n",
    "        self.miss_distance = miss_distance\n",
    "        self.relative_velocity = relative_velocity\n",
    "\n",
    "    def __str__(self):\n",
    "        return f'{self.asteroid} will approach {self.orbiting_body} on {self.approach_date} at a miss distance of {self.miss_distance} kilometers and a relative velocity of {self.relative_velocity} kilometers per second.'\n",
    "    '''\n",
    "    @classmethod\n",
    "    def CA_Constructor(cls, close_approach_data, asteroid):\n",
    "        neo_id = asteroid.id\n",
    "        url = f'https://api.nasa.gov/neo/rest/v1/neo/{neo_id}/?api_key={API_KEY}'\n",
    "        response = requests.request(\"GET\", url, headers={}, data={})\n",
    "        data = json.loads(response.text)\n",
    "        pprint(data[close_approach_data])\n",
    "        # wip\n",
    "        return(cls(asteroid, data[close_approach_data][0]['orbiting_body'], data[close_approach_data][0]['close_approach_date'], data[close_approach_data][0]['miss_distance']['kilometers'], data[close_approach_data][0]['relative_velocity']['kilometers_per_second']))\n",
    "        \n",
    "# test our code\n",
    "asteroid = Asteroid.from_NEO('2496816')\n",
    "close_approach_test = CloseApproach.CA_Constructor('close_approach_data', asteroid)\n",
    "print(close_approach_test)"
   ]
  },
  {
   "attachments": {},
   "cell_type": "markdown",
   "metadata": {},
   "source": [
    "# Exercise 4: Add list of CloseApproaches to Asteroid\n",
    "\n",
    "Every Asteroid should have a list of “close approaches”. Add a new state variable to your Asteroid\n",
    "class, initially an empty list. In the factory method, use a list comprehension to build a list of\n",
    "CloseApproach objects for the Asteroid from the NEO data record.\n",
    "Extend your test code to demonstrate this new feature."
   ]
  },
  {
   "cell_type": "code",
   "execution_count": 13,
   "metadata": {},
   "outputs": [],
   "source": [
    "# code added to code block above"
   ]
  }
 ],
 "metadata": {
  "colab": {
   "collapsed_sections": [],
   "name": "Lab2-NEO.ipynb",
   "provenance": []
  },
  "kernelspec": {
   "display_name": "Python 3",
   "language": "python",
   "name": "python3"
  },
  "language_info": {
   "codemirror_mode": {
    "name": "ipython",
    "version": 3
   },
   "file_extension": ".py",
   "mimetype": "text/x-python",
   "name": "python",
   "nbconvert_exporter": "python",
   "pygments_lexer": "ipython3",
   "version": "3.11.0"
  },
  "vscode": {
   "interpreter": {
    "hash": "8c2f246d3ce420063ed954338bc2bac546d72c83e6af55e115a8c50b3a9eb1f4"
   }
  }
 },
 "nbformat": 4,
 "nbformat_minor": 0
}
